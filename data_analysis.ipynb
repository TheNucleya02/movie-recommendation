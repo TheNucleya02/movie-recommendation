{
 "cells": [
  {
   "cell_type": "code",
   "execution_count": 184,
   "metadata": {},
   "outputs": [],
   "source": [
    "import numpy as np \n",
    "import pandas as pd"
   ]
  },
  {
   "cell_type": "code",
   "execution_count": 185,
   "metadata": {},
   "outputs": [],
   "source": [
    "movies = pd.read_csv('data/tmdb_5000_movies.csv')\n",
    "credits = pd.read_csv('data/tmdb_5000_credits.csv')"
   ]
  },
  {
   "cell_type": "code",
   "execution_count": 186,
   "metadata": {},
   "outputs": [
    {
     "data": {
      "text/html": [
       "<div>\n",
       "<style scoped>\n",
       "    .dataframe tbody tr th:only-of-type {\n",
       "        vertical-align: middle;\n",
       "    }\n",
       "\n",
       "    .dataframe tbody tr th {\n",
       "        vertical-align: top;\n",
       "    }\n",
       "\n",
       "    .dataframe thead th {\n",
       "        text-align: right;\n",
       "    }\n",
       "</style>\n",
       "<table border=\"1\" class=\"dataframe\">\n",
       "  <thead>\n",
       "    <tr style=\"text-align: right;\">\n",
       "      <th></th>\n",
       "      <th>budget</th>\n",
       "      <th>genres</th>\n",
       "      <th>homepage</th>\n",
       "      <th>id</th>\n",
       "      <th>keywords</th>\n",
       "      <th>original_language</th>\n",
       "      <th>original_title</th>\n",
       "      <th>overview</th>\n",
       "      <th>popularity</th>\n",
       "      <th>production_companies</th>\n",
       "      <th>production_countries</th>\n",
       "      <th>release_date</th>\n",
       "      <th>revenue</th>\n",
       "      <th>runtime</th>\n",
       "      <th>spoken_languages</th>\n",
       "      <th>status</th>\n",
       "      <th>tagline</th>\n",
       "      <th>title</th>\n",
       "      <th>vote_average</th>\n",
       "      <th>vote_count</th>\n",
       "    </tr>\n",
       "  </thead>\n",
       "  <tbody>\n",
       "    <tr>\n",
       "      <th>0</th>\n",
       "      <td>237000000</td>\n",
       "      <td>[{\"id\": 28, \"name\": \"Action\"}, {\"id\": 12, \"nam...</td>\n",
       "      <td>http://www.avatarmovie.com/</td>\n",
       "      <td>19995</td>\n",
       "      <td>[{\"id\": 1463, \"name\": \"culture clash\"}, {\"id\":...</td>\n",
       "      <td>en</td>\n",
       "      <td>Avatar</td>\n",
       "      <td>In the 22nd century, a paraplegic Marine is di...</td>\n",
       "      <td>150.437577</td>\n",
       "      <td>[{\"name\": \"Ingenious Film Partners\", \"id\": 289...</td>\n",
       "      <td>[{\"iso_3166_1\": \"US\", \"name\": \"United States o...</td>\n",
       "      <td>2009-12-10</td>\n",
       "      <td>2787965087</td>\n",
       "      <td>162.0</td>\n",
       "      <td>[{\"iso_639_1\": \"en\", \"name\": \"English\"}, {\"iso...</td>\n",
       "      <td>Released</td>\n",
       "      <td>Enter the World of Pandora.</td>\n",
       "      <td>Avatar</td>\n",
       "      <td>7.2</td>\n",
       "      <td>11800</td>\n",
       "    </tr>\n",
       "    <tr>\n",
       "      <th>1</th>\n",
       "      <td>300000000</td>\n",
       "      <td>[{\"id\": 12, \"name\": \"Adventure\"}, {\"id\": 14, \"...</td>\n",
       "      <td>http://disney.go.com/disneypictures/pirates/</td>\n",
       "      <td>285</td>\n",
       "      <td>[{\"id\": 270, \"name\": \"ocean\"}, {\"id\": 726, \"na...</td>\n",
       "      <td>en</td>\n",
       "      <td>Pirates of the Caribbean: At World's End</td>\n",
       "      <td>Captain Barbossa, long believed to be dead, ha...</td>\n",
       "      <td>139.082615</td>\n",
       "      <td>[{\"name\": \"Walt Disney Pictures\", \"id\": 2}, {\"...</td>\n",
       "      <td>[{\"iso_3166_1\": \"US\", \"name\": \"United States o...</td>\n",
       "      <td>2007-05-19</td>\n",
       "      <td>961000000</td>\n",
       "      <td>169.0</td>\n",
       "      <td>[{\"iso_639_1\": \"en\", \"name\": \"English\"}]</td>\n",
       "      <td>Released</td>\n",
       "      <td>At the end of the world, the adventure begins.</td>\n",
       "      <td>Pirates of the Caribbean: At World's End</td>\n",
       "      <td>6.9</td>\n",
       "      <td>4500</td>\n",
       "    </tr>\n",
       "  </tbody>\n",
       "</table>\n",
       "</div>"
      ],
      "text/plain": [
       "      budget                                             genres  \\\n",
       "0  237000000  [{\"id\": 28, \"name\": \"Action\"}, {\"id\": 12, \"nam...   \n",
       "1  300000000  [{\"id\": 12, \"name\": \"Adventure\"}, {\"id\": 14, \"...   \n",
       "\n",
       "                                       homepage     id  \\\n",
       "0                   http://www.avatarmovie.com/  19995   \n",
       "1  http://disney.go.com/disneypictures/pirates/    285   \n",
       "\n",
       "                                            keywords original_language  \\\n",
       "0  [{\"id\": 1463, \"name\": \"culture clash\"}, {\"id\":...                en   \n",
       "1  [{\"id\": 270, \"name\": \"ocean\"}, {\"id\": 726, \"na...                en   \n",
       "\n",
       "                             original_title  \\\n",
       "0                                    Avatar   \n",
       "1  Pirates of the Caribbean: At World's End   \n",
       "\n",
       "                                            overview  popularity  \\\n",
       "0  In the 22nd century, a paraplegic Marine is di...  150.437577   \n",
       "1  Captain Barbossa, long believed to be dead, ha...  139.082615   \n",
       "\n",
       "                                production_companies  \\\n",
       "0  [{\"name\": \"Ingenious Film Partners\", \"id\": 289...   \n",
       "1  [{\"name\": \"Walt Disney Pictures\", \"id\": 2}, {\"...   \n",
       "\n",
       "                                production_countries release_date     revenue  \\\n",
       "0  [{\"iso_3166_1\": \"US\", \"name\": \"United States o...   2009-12-10  2787965087   \n",
       "1  [{\"iso_3166_1\": \"US\", \"name\": \"United States o...   2007-05-19   961000000   \n",
       "\n",
       "   runtime                                   spoken_languages    status  \\\n",
       "0    162.0  [{\"iso_639_1\": \"en\", \"name\": \"English\"}, {\"iso...  Released   \n",
       "1    169.0           [{\"iso_639_1\": \"en\", \"name\": \"English\"}]  Released   \n",
       "\n",
       "                                          tagline  \\\n",
       "0                     Enter the World of Pandora.   \n",
       "1  At the end of the world, the adventure begins.   \n",
       "\n",
       "                                      title  vote_average  vote_count  \n",
       "0                                    Avatar           7.2       11800  \n",
       "1  Pirates of the Caribbean: At World's End           6.9        4500  "
      ]
     },
     "execution_count": 186,
     "metadata": {},
     "output_type": "execute_result"
    }
   ],
   "source": [
    "movies.head(2)"
   ]
  },
  {
   "cell_type": "code",
   "execution_count": 187,
   "metadata": {},
   "outputs": [
    {
     "data": {
      "text/plain": [
       "(4803, 20)"
      ]
     },
     "execution_count": 187,
     "metadata": {},
     "output_type": "execute_result"
    }
   ],
   "source": [
    "movies.shape"
   ]
  },
  {
   "cell_type": "code",
   "execution_count": 188,
   "metadata": {},
   "outputs": [
    {
     "data": {
      "text/html": [
       "<div>\n",
       "<style scoped>\n",
       "    .dataframe tbody tr th:only-of-type {\n",
       "        vertical-align: middle;\n",
       "    }\n",
       "\n",
       "    .dataframe tbody tr th {\n",
       "        vertical-align: top;\n",
       "    }\n",
       "\n",
       "    .dataframe thead th {\n",
       "        text-align: right;\n",
       "    }\n",
       "</style>\n",
       "<table border=\"1\" class=\"dataframe\">\n",
       "  <thead>\n",
       "    <tr style=\"text-align: right;\">\n",
       "      <th></th>\n",
       "      <th>movie_id</th>\n",
       "      <th>title</th>\n",
       "      <th>cast</th>\n",
       "      <th>crew</th>\n",
       "    </tr>\n",
       "  </thead>\n",
       "  <tbody>\n",
       "    <tr>\n",
       "      <th>0</th>\n",
       "      <td>19995</td>\n",
       "      <td>Avatar</td>\n",
       "      <td>[{\"cast_id\": 242, \"character\": \"Jake Sully\", \"...</td>\n",
       "      <td>[{\"credit_id\": \"52fe48009251416c750aca23\", \"de...</td>\n",
       "    </tr>\n",
       "    <tr>\n",
       "      <th>1</th>\n",
       "      <td>285</td>\n",
       "      <td>Pirates of the Caribbean: At World's End</td>\n",
       "      <td>[{\"cast_id\": 4, \"character\": \"Captain Jack Spa...</td>\n",
       "      <td>[{\"credit_id\": \"52fe4232c3a36847f800b579\", \"de...</td>\n",
       "    </tr>\n",
       "    <tr>\n",
       "      <th>2</th>\n",
       "      <td>206647</td>\n",
       "      <td>Spectre</td>\n",
       "      <td>[{\"cast_id\": 1, \"character\": \"James Bond\", \"cr...</td>\n",
       "      <td>[{\"credit_id\": \"54805967c3a36829b5002c41\", \"de...</td>\n",
       "    </tr>\n",
       "    <tr>\n",
       "      <th>3</th>\n",
       "      <td>49026</td>\n",
       "      <td>The Dark Knight Rises</td>\n",
       "      <td>[{\"cast_id\": 2, \"character\": \"Bruce Wayne / Ba...</td>\n",
       "      <td>[{\"credit_id\": \"52fe4781c3a36847f81398c3\", \"de...</td>\n",
       "    </tr>\n",
       "    <tr>\n",
       "      <th>4</th>\n",
       "      <td>49529</td>\n",
       "      <td>John Carter</td>\n",
       "      <td>[{\"cast_id\": 5, \"character\": \"John Carter\", \"c...</td>\n",
       "      <td>[{\"credit_id\": \"52fe479ac3a36847f813eaa3\", \"de...</td>\n",
       "    </tr>\n",
       "  </tbody>\n",
       "</table>\n",
       "</div>"
      ],
      "text/plain": [
       "   movie_id                                     title  \\\n",
       "0     19995                                    Avatar   \n",
       "1       285  Pirates of the Caribbean: At World's End   \n",
       "2    206647                                   Spectre   \n",
       "3     49026                     The Dark Knight Rises   \n",
       "4     49529                               John Carter   \n",
       "\n",
       "                                                cast  \\\n",
       "0  [{\"cast_id\": 242, \"character\": \"Jake Sully\", \"...   \n",
       "1  [{\"cast_id\": 4, \"character\": \"Captain Jack Spa...   \n",
       "2  [{\"cast_id\": 1, \"character\": \"James Bond\", \"cr...   \n",
       "3  [{\"cast_id\": 2, \"character\": \"Bruce Wayne / Ba...   \n",
       "4  [{\"cast_id\": 5, \"character\": \"John Carter\", \"c...   \n",
       "\n",
       "                                                crew  \n",
       "0  [{\"credit_id\": \"52fe48009251416c750aca23\", \"de...  \n",
       "1  [{\"credit_id\": \"52fe4232c3a36847f800b579\", \"de...  \n",
       "2  [{\"credit_id\": \"54805967c3a36829b5002c41\", \"de...  \n",
       "3  [{\"credit_id\": \"52fe4781c3a36847f81398c3\", \"de...  \n",
       "4  [{\"credit_id\": \"52fe479ac3a36847f813eaa3\", \"de...  "
      ]
     },
     "execution_count": 188,
     "metadata": {},
     "output_type": "execute_result"
    }
   ],
   "source": [
    "credits.head()"
   ]
  },
  {
   "cell_type": "code",
   "execution_count": 189,
   "metadata": {},
   "outputs": [
    {
     "data": {
      "text/plain": [
       "(4803, 4)"
      ]
     },
     "execution_count": 189,
     "metadata": {},
     "output_type": "execute_result"
    }
   ],
   "source": [
    "credits.shape"
   ]
  },
  {
   "cell_type": "code",
   "execution_count": 190,
   "metadata": {},
   "outputs": [],
   "source": [
    "movies = movies.merge(credits,on='title')"
   ]
  },
  {
   "cell_type": "code",
   "execution_count": 191,
   "metadata": {},
   "outputs": [
    {
     "data": {
      "text/html": [
       "<div>\n",
       "<style scoped>\n",
       "    .dataframe tbody tr th:only-of-type {\n",
       "        vertical-align: middle;\n",
       "    }\n",
       "\n",
       "    .dataframe tbody tr th {\n",
       "        vertical-align: top;\n",
       "    }\n",
       "\n",
       "    .dataframe thead th {\n",
       "        text-align: right;\n",
       "    }\n",
       "</style>\n",
       "<table border=\"1\" class=\"dataframe\">\n",
       "  <thead>\n",
       "    <tr style=\"text-align: right;\">\n",
       "      <th></th>\n",
       "      <th>budget</th>\n",
       "      <th>genres</th>\n",
       "      <th>homepage</th>\n",
       "      <th>id</th>\n",
       "      <th>keywords</th>\n",
       "      <th>original_language</th>\n",
       "      <th>original_title</th>\n",
       "      <th>overview</th>\n",
       "      <th>popularity</th>\n",
       "      <th>production_companies</th>\n",
       "      <th>...</th>\n",
       "      <th>runtime</th>\n",
       "      <th>spoken_languages</th>\n",
       "      <th>status</th>\n",
       "      <th>tagline</th>\n",
       "      <th>title</th>\n",
       "      <th>vote_average</th>\n",
       "      <th>vote_count</th>\n",
       "      <th>movie_id</th>\n",
       "      <th>cast</th>\n",
       "      <th>crew</th>\n",
       "    </tr>\n",
       "  </thead>\n",
       "  <tbody>\n",
       "    <tr>\n",
       "      <th>0</th>\n",
       "      <td>237000000</td>\n",
       "      <td>[{\"id\": 28, \"name\": \"Action\"}, {\"id\": 12, \"nam...</td>\n",
       "      <td>http://www.avatarmovie.com/</td>\n",
       "      <td>19995</td>\n",
       "      <td>[{\"id\": 1463, \"name\": \"culture clash\"}, {\"id\":...</td>\n",
       "      <td>en</td>\n",
       "      <td>Avatar</td>\n",
       "      <td>In the 22nd century, a paraplegic Marine is di...</td>\n",
       "      <td>150.437577</td>\n",
       "      <td>[{\"name\": \"Ingenious Film Partners\", \"id\": 289...</td>\n",
       "      <td>...</td>\n",
       "      <td>162.0</td>\n",
       "      <td>[{\"iso_639_1\": \"en\", \"name\": \"English\"}, {\"iso...</td>\n",
       "      <td>Released</td>\n",
       "      <td>Enter the World of Pandora.</td>\n",
       "      <td>Avatar</td>\n",
       "      <td>7.2</td>\n",
       "      <td>11800</td>\n",
       "      <td>19995</td>\n",
       "      <td>[{\"cast_id\": 242, \"character\": \"Jake Sully\", \"...</td>\n",
       "      <td>[{\"credit_id\": \"52fe48009251416c750aca23\", \"de...</td>\n",
       "    </tr>\n",
       "    <tr>\n",
       "      <th>1</th>\n",
       "      <td>300000000</td>\n",
       "      <td>[{\"id\": 12, \"name\": \"Adventure\"}, {\"id\": 14, \"...</td>\n",
       "      <td>http://disney.go.com/disneypictures/pirates/</td>\n",
       "      <td>285</td>\n",
       "      <td>[{\"id\": 270, \"name\": \"ocean\"}, {\"id\": 726, \"na...</td>\n",
       "      <td>en</td>\n",
       "      <td>Pirates of the Caribbean: At World's End</td>\n",
       "      <td>Captain Barbossa, long believed to be dead, ha...</td>\n",
       "      <td>139.082615</td>\n",
       "      <td>[{\"name\": \"Walt Disney Pictures\", \"id\": 2}, {\"...</td>\n",
       "      <td>...</td>\n",
       "      <td>169.0</td>\n",
       "      <td>[{\"iso_639_1\": \"en\", \"name\": \"English\"}]</td>\n",
       "      <td>Released</td>\n",
       "      <td>At the end of the world, the adventure begins.</td>\n",
       "      <td>Pirates of the Caribbean: At World's End</td>\n",
       "      <td>6.9</td>\n",
       "      <td>4500</td>\n",
       "      <td>285</td>\n",
       "      <td>[{\"cast_id\": 4, \"character\": \"Captain Jack Spa...</td>\n",
       "      <td>[{\"credit_id\": \"52fe4232c3a36847f800b579\", \"de...</td>\n",
       "    </tr>\n",
       "  </tbody>\n",
       "</table>\n",
       "<p>2 rows × 23 columns</p>\n",
       "</div>"
      ],
      "text/plain": [
       "      budget                                             genres  \\\n",
       "0  237000000  [{\"id\": 28, \"name\": \"Action\"}, {\"id\": 12, \"nam...   \n",
       "1  300000000  [{\"id\": 12, \"name\": \"Adventure\"}, {\"id\": 14, \"...   \n",
       "\n",
       "                                       homepage     id  \\\n",
       "0                   http://www.avatarmovie.com/  19995   \n",
       "1  http://disney.go.com/disneypictures/pirates/    285   \n",
       "\n",
       "                                            keywords original_language  \\\n",
       "0  [{\"id\": 1463, \"name\": \"culture clash\"}, {\"id\":...                en   \n",
       "1  [{\"id\": 270, \"name\": \"ocean\"}, {\"id\": 726, \"na...                en   \n",
       "\n",
       "                             original_title  \\\n",
       "0                                    Avatar   \n",
       "1  Pirates of the Caribbean: At World's End   \n",
       "\n",
       "                                            overview  popularity  \\\n",
       "0  In the 22nd century, a paraplegic Marine is di...  150.437577   \n",
       "1  Captain Barbossa, long believed to be dead, ha...  139.082615   \n",
       "\n",
       "                                production_companies  ... runtime  \\\n",
       "0  [{\"name\": \"Ingenious Film Partners\", \"id\": 289...  ...   162.0   \n",
       "1  [{\"name\": \"Walt Disney Pictures\", \"id\": 2}, {\"...  ...   169.0   \n",
       "\n",
       "                                    spoken_languages    status  \\\n",
       "0  [{\"iso_639_1\": \"en\", \"name\": \"English\"}, {\"iso...  Released   \n",
       "1           [{\"iso_639_1\": \"en\", \"name\": \"English\"}]  Released   \n",
       "\n",
       "                                          tagline  \\\n",
       "0                     Enter the World of Pandora.   \n",
       "1  At the end of the world, the adventure begins.   \n",
       "\n",
       "                                      title vote_average vote_count movie_id  \\\n",
       "0                                    Avatar          7.2      11800    19995   \n",
       "1  Pirates of the Caribbean: At World's End          6.9       4500      285   \n",
       "\n",
       "                                                cast  \\\n",
       "0  [{\"cast_id\": 242, \"character\": \"Jake Sully\", \"...   \n",
       "1  [{\"cast_id\": 4, \"character\": \"Captain Jack Spa...   \n",
       "\n",
       "                                                crew  \n",
       "0  [{\"credit_id\": \"52fe48009251416c750aca23\", \"de...  \n",
       "1  [{\"credit_id\": \"52fe4232c3a36847f800b579\", \"de...  \n",
       "\n",
       "[2 rows x 23 columns]"
      ]
     },
     "execution_count": 191,
     "metadata": {},
     "output_type": "execute_result"
    }
   ],
   "source": [
    "movies.head(2)"
   ]
  },
  {
   "cell_type": "code",
   "execution_count": 192,
   "metadata": {},
   "outputs": [
    {
     "data": {
      "text/plain": [
       "(4809, 23)"
      ]
     },
     "execution_count": 192,
     "metadata": {},
     "output_type": "execute_result"
    }
   ],
   "source": [
    "movies.shape"
   ]
  },
  {
   "cell_type": "code",
   "execution_count": 193,
   "metadata": {},
   "outputs": [],
   "source": [
    "# Keeping important columns for recommendation\n",
    "movies = movies[['movie_id','title','overview','genres','keywords','cast','crew', 'release_date', 'vote_average']]"
   ]
  },
  {
   "cell_type": "code",
   "execution_count": 194,
   "metadata": {},
   "outputs": [],
   "source": [
    "# This handles any missing data and creates the 'year' column\n",
    "movies.dropna(inplace=True)\n",
    "movies['year'] = pd.to_datetime(movies['release_date'], errors='coerce').dt.year"
   ]
  },
  {
   "cell_type": "code",
   "execution_count": 195,
   "metadata": {},
   "outputs": [
    {
     "data": {
      "text/html": [
       "<div>\n",
       "<style scoped>\n",
       "    .dataframe tbody tr th:only-of-type {\n",
       "        vertical-align: middle;\n",
       "    }\n",
       "\n",
       "    .dataframe tbody tr th {\n",
       "        vertical-align: top;\n",
       "    }\n",
       "\n",
       "    .dataframe thead th {\n",
       "        text-align: right;\n",
       "    }\n",
       "</style>\n",
       "<table border=\"1\" class=\"dataframe\">\n",
       "  <thead>\n",
       "    <tr style=\"text-align: right;\">\n",
       "      <th></th>\n",
       "      <th>movie_id</th>\n",
       "      <th>title</th>\n",
       "      <th>overview</th>\n",
       "      <th>genres</th>\n",
       "      <th>keywords</th>\n",
       "      <th>cast</th>\n",
       "      <th>crew</th>\n",
       "      <th>release_date</th>\n",
       "      <th>vote_average</th>\n",
       "      <th>year</th>\n",
       "    </tr>\n",
       "  </thead>\n",
       "  <tbody>\n",
       "    <tr>\n",
       "      <th>0</th>\n",
       "      <td>19995</td>\n",
       "      <td>Avatar</td>\n",
       "      <td>In the 22nd century, a paraplegic Marine is di...</td>\n",
       "      <td>[{\"id\": 28, \"name\": \"Action\"}, {\"id\": 12, \"nam...</td>\n",
       "      <td>[{\"id\": 1463, \"name\": \"culture clash\"}, {\"id\":...</td>\n",
       "      <td>[{\"cast_id\": 242, \"character\": \"Jake Sully\", \"...</td>\n",
       "      <td>[{\"credit_id\": \"52fe48009251416c750aca23\", \"de...</td>\n",
       "      <td>2009-12-10</td>\n",
       "      <td>7.2</td>\n",
       "      <td>2009</td>\n",
       "    </tr>\n",
       "    <tr>\n",
       "      <th>1</th>\n",
       "      <td>285</td>\n",
       "      <td>Pirates of the Caribbean: At World's End</td>\n",
       "      <td>Captain Barbossa, long believed to be dead, ha...</td>\n",
       "      <td>[{\"id\": 12, \"name\": \"Adventure\"}, {\"id\": 14, \"...</td>\n",
       "      <td>[{\"id\": 270, \"name\": \"ocean\"}, {\"id\": 726, \"na...</td>\n",
       "      <td>[{\"cast_id\": 4, \"character\": \"Captain Jack Spa...</td>\n",
       "      <td>[{\"credit_id\": \"52fe4232c3a36847f800b579\", \"de...</td>\n",
       "      <td>2007-05-19</td>\n",
       "      <td>6.9</td>\n",
       "      <td>2007</td>\n",
       "    </tr>\n",
       "  </tbody>\n",
       "</table>\n",
       "</div>"
      ],
      "text/plain": [
       "   movie_id                                     title  \\\n",
       "0     19995                                    Avatar   \n",
       "1       285  Pirates of the Caribbean: At World's End   \n",
       "\n",
       "                                            overview  \\\n",
       "0  In the 22nd century, a paraplegic Marine is di...   \n",
       "1  Captain Barbossa, long believed to be dead, ha...   \n",
       "\n",
       "                                              genres  \\\n",
       "0  [{\"id\": 28, \"name\": \"Action\"}, {\"id\": 12, \"nam...   \n",
       "1  [{\"id\": 12, \"name\": \"Adventure\"}, {\"id\": 14, \"...   \n",
       "\n",
       "                                            keywords  \\\n",
       "0  [{\"id\": 1463, \"name\": \"culture clash\"}, {\"id\":...   \n",
       "1  [{\"id\": 270, \"name\": \"ocean\"}, {\"id\": 726, \"na...   \n",
       "\n",
       "                                                cast  \\\n",
       "0  [{\"cast_id\": 242, \"character\": \"Jake Sully\", \"...   \n",
       "1  [{\"cast_id\": 4, \"character\": \"Captain Jack Spa...   \n",
       "\n",
       "                                                crew release_date  \\\n",
       "0  [{\"credit_id\": \"52fe48009251416c750aca23\", \"de...   2009-12-10   \n",
       "1  [{\"credit_id\": \"52fe4232c3a36847f800b579\", \"de...   2007-05-19   \n",
       "\n",
       "   vote_average  year  \n",
       "0           7.2  2009  \n",
       "1           6.9  2007  "
      ]
     },
     "execution_count": 195,
     "metadata": {},
     "output_type": "execute_result"
    }
   ],
   "source": [
    "movies.head(2)"
   ]
  },
  {
   "cell_type": "code",
   "execution_count": 196,
   "metadata": {},
   "outputs": [
    {
     "data": {
      "text/plain": [
       "(4805, 10)"
      ]
     },
     "execution_count": 196,
     "metadata": {},
     "output_type": "execute_result"
    }
   ],
   "source": [
    "movies.shape"
   ]
  },
  {
   "cell_type": "code",
   "execution_count": 197,
   "metadata": {},
   "outputs": [
    {
     "data": {
      "text/plain": [
       "movie_id        0\n",
       "title           0\n",
       "overview        0\n",
       "genres          0\n",
       "keywords        0\n",
       "cast            0\n",
       "crew            0\n",
       "release_date    0\n",
       "vote_average    0\n",
       "year            0\n",
       "dtype: int64"
      ]
     },
     "execution_count": 197,
     "metadata": {},
     "output_type": "execute_result"
    }
   ],
   "source": [
    "movies.isnull().sum()"
   ]
  },
  {
   "cell_type": "code",
   "execution_count": 198,
   "metadata": {},
   "outputs": [],
   "source": [
    "movies.dropna(inplace=True)"
   ]
  },
  {
   "cell_type": "code",
   "execution_count": 199,
   "metadata": {},
   "outputs": [
    {
     "data": {
      "text/plain": [
       "movie_id        0\n",
       "title           0\n",
       "overview        0\n",
       "genres          0\n",
       "keywords        0\n",
       "cast            0\n",
       "crew            0\n",
       "release_date    0\n",
       "vote_average    0\n",
       "year            0\n",
       "dtype: int64"
      ]
     },
     "execution_count": 199,
     "metadata": {},
     "output_type": "execute_result"
    }
   ],
   "source": [
    "movies.isnull().sum()"
   ]
  },
  {
   "cell_type": "code",
   "execution_count": 200,
   "metadata": {},
   "outputs": [
    {
     "data": {
      "text/plain": [
       "(4805, 10)"
      ]
     },
     "execution_count": 200,
     "metadata": {},
     "output_type": "execute_result"
    }
   ],
   "source": [
    "movies.shape"
   ]
  },
  {
   "cell_type": "code",
   "execution_count": 201,
   "metadata": {},
   "outputs": [
    {
     "data": {
      "text/plain": [
       "np.int64(0)"
      ]
     },
     "execution_count": 201,
     "metadata": {},
     "output_type": "execute_result"
    }
   ],
   "source": [
    "movies.duplicated().sum()"
   ]
  },
  {
   "cell_type": "code",
   "execution_count": 202,
   "metadata": {},
   "outputs": [
    {
     "data": {
      "text/plain": [
       "'[{\"id\": 28, \"name\": \"Action\"}, {\"id\": 12, \"name\": \"Adventure\"}, {\"id\": 14, \"name\": \"Fantasy\"}, {\"id\": 878, \"name\": \"Science Fiction\"}]'"
      ]
     },
     "execution_count": 202,
     "metadata": {},
     "output_type": "execute_result"
    }
   ],
   "source": [
    "# handle genres\n",
    "\n",
    "movies.iloc[0]['genres']"
   ]
  },
  {
   "cell_type": "code",
   "execution_count": 203,
   "metadata": {},
   "outputs": [],
   "source": [
    "import ast #for converting str to list\n",
    "\n",
    "def convert(text):\n",
    "    L = []\n",
    "    for i in ast.literal_eval(text):\n",
    "        L.append(i['name']) \n",
    "    return L"
   ]
  },
  {
   "cell_type": "code",
   "execution_count": 204,
   "metadata": {},
   "outputs": [],
   "source": [
    "movies['genres'] = movies['genres'].apply(convert)"
   ]
  },
  {
   "cell_type": "code",
   "execution_count": 205,
   "metadata": {},
   "outputs": [
    {
     "data": {
      "text/html": [
       "<div>\n",
       "<style scoped>\n",
       "    .dataframe tbody tr th:only-of-type {\n",
       "        vertical-align: middle;\n",
       "    }\n",
       "\n",
       "    .dataframe tbody tr th {\n",
       "        vertical-align: top;\n",
       "    }\n",
       "\n",
       "    .dataframe thead th {\n",
       "        text-align: right;\n",
       "    }\n",
       "</style>\n",
       "<table border=\"1\" class=\"dataframe\">\n",
       "  <thead>\n",
       "    <tr style=\"text-align: right;\">\n",
       "      <th></th>\n",
       "      <th>movie_id</th>\n",
       "      <th>title</th>\n",
       "      <th>overview</th>\n",
       "      <th>genres</th>\n",
       "      <th>keywords</th>\n",
       "      <th>cast</th>\n",
       "      <th>crew</th>\n",
       "      <th>release_date</th>\n",
       "      <th>vote_average</th>\n",
       "      <th>year</th>\n",
       "    </tr>\n",
       "  </thead>\n",
       "  <tbody>\n",
       "    <tr>\n",
       "      <th>0</th>\n",
       "      <td>19995</td>\n",
       "      <td>Avatar</td>\n",
       "      <td>In the 22nd century, a paraplegic Marine is di...</td>\n",
       "      <td>[Action, Adventure, Fantasy, Science Fiction]</td>\n",
       "      <td>[{\"id\": 1463, \"name\": \"culture clash\"}, {\"id\":...</td>\n",
       "      <td>[{\"cast_id\": 242, \"character\": \"Jake Sully\", \"...</td>\n",
       "      <td>[{\"credit_id\": \"52fe48009251416c750aca23\", \"de...</td>\n",
       "      <td>2009-12-10</td>\n",
       "      <td>7.2</td>\n",
       "      <td>2009</td>\n",
       "    </tr>\n",
       "    <tr>\n",
       "      <th>1</th>\n",
       "      <td>285</td>\n",
       "      <td>Pirates of the Caribbean: At World's End</td>\n",
       "      <td>Captain Barbossa, long believed to be dead, ha...</td>\n",
       "      <td>[Adventure, Fantasy, Action]</td>\n",
       "      <td>[{\"id\": 270, \"name\": \"ocean\"}, {\"id\": 726, \"na...</td>\n",
       "      <td>[{\"cast_id\": 4, \"character\": \"Captain Jack Spa...</td>\n",
       "      <td>[{\"credit_id\": \"52fe4232c3a36847f800b579\", \"de...</td>\n",
       "      <td>2007-05-19</td>\n",
       "      <td>6.9</td>\n",
       "      <td>2007</td>\n",
       "    </tr>\n",
       "    <tr>\n",
       "      <th>2</th>\n",
       "      <td>206647</td>\n",
       "      <td>Spectre</td>\n",
       "      <td>A cryptic message from Bond’s past sends him o...</td>\n",
       "      <td>[Action, Adventure, Crime]</td>\n",
       "      <td>[{\"id\": 470, \"name\": \"spy\"}, {\"id\": 818, \"name...</td>\n",
       "      <td>[{\"cast_id\": 1, \"character\": \"James Bond\", \"cr...</td>\n",
       "      <td>[{\"credit_id\": \"54805967c3a36829b5002c41\", \"de...</td>\n",
       "      <td>2015-10-26</td>\n",
       "      <td>6.3</td>\n",
       "      <td>2015</td>\n",
       "    </tr>\n",
       "    <tr>\n",
       "      <th>3</th>\n",
       "      <td>49026</td>\n",
       "      <td>The Dark Knight Rises</td>\n",
       "      <td>Following the death of District Attorney Harve...</td>\n",
       "      <td>[Action, Crime, Drama, Thriller]</td>\n",
       "      <td>[{\"id\": 849, \"name\": \"dc comics\"}, {\"id\": 853,...</td>\n",
       "      <td>[{\"cast_id\": 2, \"character\": \"Bruce Wayne / Ba...</td>\n",
       "      <td>[{\"credit_id\": \"52fe4781c3a36847f81398c3\", \"de...</td>\n",
       "      <td>2012-07-16</td>\n",
       "      <td>7.6</td>\n",
       "      <td>2012</td>\n",
       "    </tr>\n",
       "    <tr>\n",
       "      <th>4</th>\n",
       "      <td>49529</td>\n",
       "      <td>John Carter</td>\n",
       "      <td>John Carter is a war-weary, former military ca...</td>\n",
       "      <td>[Action, Adventure, Science Fiction]</td>\n",
       "      <td>[{\"id\": 818, \"name\": \"based on novel\"}, {\"id\":...</td>\n",
       "      <td>[{\"cast_id\": 5, \"character\": \"John Carter\", \"c...</td>\n",
       "      <td>[{\"credit_id\": \"52fe479ac3a36847f813eaa3\", \"de...</td>\n",
       "      <td>2012-03-07</td>\n",
       "      <td>6.1</td>\n",
       "      <td>2012</td>\n",
       "    </tr>\n",
       "  </tbody>\n",
       "</table>\n",
       "</div>"
      ],
      "text/plain": [
       "   movie_id                                     title  \\\n",
       "0     19995                                    Avatar   \n",
       "1       285  Pirates of the Caribbean: At World's End   \n",
       "2    206647                                   Spectre   \n",
       "3     49026                     The Dark Knight Rises   \n",
       "4     49529                               John Carter   \n",
       "\n",
       "                                            overview  \\\n",
       "0  In the 22nd century, a paraplegic Marine is di...   \n",
       "1  Captain Barbossa, long believed to be dead, ha...   \n",
       "2  A cryptic message from Bond’s past sends him o...   \n",
       "3  Following the death of District Attorney Harve...   \n",
       "4  John Carter is a war-weary, former military ca...   \n",
       "\n",
       "                                          genres  \\\n",
       "0  [Action, Adventure, Fantasy, Science Fiction]   \n",
       "1                   [Adventure, Fantasy, Action]   \n",
       "2                     [Action, Adventure, Crime]   \n",
       "3               [Action, Crime, Drama, Thriller]   \n",
       "4           [Action, Adventure, Science Fiction]   \n",
       "\n",
       "                                            keywords  \\\n",
       "0  [{\"id\": 1463, \"name\": \"culture clash\"}, {\"id\":...   \n",
       "1  [{\"id\": 270, \"name\": \"ocean\"}, {\"id\": 726, \"na...   \n",
       "2  [{\"id\": 470, \"name\": \"spy\"}, {\"id\": 818, \"name...   \n",
       "3  [{\"id\": 849, \"name\": \"dc comics\"}, {\"id\": 853,...   \n",
       "4  [{\"id\": 818, \"name\": \"based on novel\"}, {\"id\":...   \n",
       "\n",
       "                                                cast  \\\n",
       "0  [{\"cast_id\": 242, \"character\": \"Jake Sully\", \"...   \n",
       "1  [{\"cast_id\": 4, \"character\": \"Captain Jack Spa...   \n",
       "2  [{\"cast_id\": 1, \"character\": \"James Bond\", \"cr...   \n",
       "3  [{\"cast_id\": 2, \"character\": \"Bruce Wayne / Ba...   \n",
       "4  [{\"cast_id\": 5, \"character\": \"John Carter\", \"c...   \n",
       "\n",
       "                                                crew release_date  \\\n",
       "0  [{\"credit_id\": \"52fe48009251416c750aca23\", \"de...   2009-12-10   \n",
       "1  [{\"credit_id\": \"52fe4232c3a36847f800b579\", \"de...   2007-05-19   \n",
       "2  [{\"credit_id\": \"54805967c3a36829b5002c41\", \"de...   2015-10-26   \n",
       "3  [{\"credit_id\": \"52fe4781c3a36847f81398c3\", \"de...   2012-07-16   \n",
       "4  [{\"credit_id\": \"52fe479ac3a36847f813eaa3\", \"de...   2012-03-07   \n",
       "\n",
       "   vote_average  year  \n",
       "0           7.2  2009  \n",
       "1           6.9  2007  \n",
       "2           6.3  2015  \n",
       "3           7.6  2012  \n",
       "4           6.1  2012  "
      ]
     },
     "execution_count": 205,
     "metadata": {},
     "output_type": "execute_result"
    }
   ],
   "source": [
    "movies.head()"
   ]
  },
  {
   "cell_type": "code",
   "execution_count": 206,
   "metadata": {},
   "outputs": [
    {
     "data": {
      "text/plain": [
       "'[{\"id\": 1463, \"name\": \"culture clash\"}, {\"id\": 2964, \"name\": \"future\"}, {\"id\": 3386, \"name\": \"space war\"}, {\"id\": 3388, \"name\": \"space colony\"}, {\"id\": 3679, \"name\": \"society\"}, {\"id\": 3801, \"name\": \"space travel\"}, {\"id\": 9685, \"name\": \"futuristic\"}, {\"id\": 9840, \"name\": \"romance\"}, {\"id\": 9882, \"name\": \"space\"}, {\"id\": 9951, \"name\": \"alien\"}, {\"id\": 10148, \"name\": \"tribe\"}, {\"id\": 10158, \"name\": \"alien planet\"}, {\"id\": 10987, \"name\": \"cgi\"}, {\"id\": 11399, \"name\": \"marine\"}, {\"id\": 13065, \"name\": \"soldier\"}, {\"id\": 14643, \"name\": \"battle\"}, {\"id\": 14720, \"name\": \"love affair\"}, {\"id\": 165431, \"name\": \"anti war\"}, {\"id\": 193554, \"name\": \"power relations\"}, {\"id\": 206690, \"name\": \"mind and soul\"}, {\"id\": 209714, \"name\": \"3d\"}]'"
      ]
     },
     "execution_count": 206,
     "metadata": {},
     "output_type": "execute_result"
    }
   ],
   "source": [
    "# handle keywords\n",
    "movies.iloc[0]['keywords']"
   ]
  },
  {
   "cell_type": "code",
   "execution_count": 207,
   "metadata": {},
   "outputs": [
    {
     "data": {
      "text/html": [
       "<div>\n",
       "<style scoped>\n",
       "    .dataframe tbody tr th:only-of-type {\n",
       "        vertical-align: middle;\n",
       "    }\n",
       "\n",
       "    .dataframe tbody tr th {\n",
       "        vertical-align: top;\n",
       "    }\n",
       "\n",
       "    .dataframe thead th {\n",
       "        text-align: right;\n",
       "    }\n",
       "</style>\n",
       "<table border=\"1\" class=\"dataframe\">\n",
       "  <thead>\n",
       "    <tr style=\"text-align: right;\">\n",
       "      <th></th>\n",
       "      <th>movie_id</th>\n",
       "      <th>title</th>\n",
       "      <th>overview</th>\n",
       "      <th>genres</th>\n",
       "      <th>keywords</th>\n",
       "      <th>cast</th>\n",
       "      <th>crew</th>\n",
       "      <th>release_date</th>\n",
       "      <th>vote_average</th>\n",
       "      <th>year</th>\n",
       "    </tr>\n",
       "  </thead>\n",
       "  <tbody>\n",
       "    <tr>\n",
       "      <th>0</th>\n",
       "      <td>19995</td>\n",
       "      <td>Avatar</td>\n",
       "      <td>In the 22nd century, a paraplegic Marine is di...</td>\n",
       "      <td>[Action, Adventure, Fantasy, Science Fiction]</td>\n",
       "      <td>[culture clash, future, space war, space colon...</td>\n",
       "      <td>[{\"cast_id\": 242, \"character\": \"Jake Sully\", \"...</td>\n",
       "      <td>[{\"credit_id\": \"52fe48009251416c750aca23\", \"de...</td>\n",
       "      <td>2009-12-10</td>\n",
       "      <td>7.2</td>\n",
       "      <td>2009</td>\n",
       "    </tr>\n",
       "    <tr>\n",
       "      <th>1</th>\n",
       "      <td>285</td>\n",
       "      <td>Pirates of the Caribbean: At World's End</td>\n",
       "      <td>Captain Barbossa, long believed to be dead, ha...</td>\n",
       "      <td>[Adventure, Fantasy, Action]</td>\n",
       "      <td>[ocean, drug abuse, exotic island, east india ...</td>\n",
       "      <td>[{\"cast_id\": 4, \"character\": \"Captain Jack Spa...</td>\n",
       "      <td>[{\"credit_id\": \"52fe4232c3a36847f800b579\", \"de...</td>\n",
       "      <td>2007-05-19</td>\n",
       "      <td>6.9</td>\n",
       "      <td>2007</td>\n",
       "    </tr>\n",
       "    <tr>\n",
       "      <th>2</th>\n",
       "      <td>206647</td>\n",
       "      <td>Spectre</td>\n",
       "      <td>A cryptic message from Bond’s past sends him o...</td>\n",
       "      <td>[Action, Adventure, Crime]</td>\n",
       "      <td>[spy, based on novel, secret agent, sequel, mi...</td>\n",
       "      <td>[{\"cast_id\": 1, \"character\": \"James Bond\", \"cr...</td>\n",
       "      <td>[{\"credit_id\": \"54805967c3a36829b5002c41\", \"de...</td>\n",
       "      <td>2015-10-26</td>\n",
       "      <td>6.3</td>\n",
       "      <td>2015</td>\n",
       "    </tr>\n",
       "    <tr>\n",
       "      <th>3</th>\n",
       "      <td>49026</td>\n",
       "      <td>The Dark Knight Rises</td>\n",
       "      <td>Following the death of District Attorney Harve...</td>\n",
       "      <td>[Action, Crime, Drama, Thriller]</td>\n",
       "      <td>[dc comics, crime fighter, terrorist, secret i...</td>\n",
       "      <td>[{\"cast_id\": 2, \"character\": \"Bruce Wayne / Ba...</td>\n",
       "      <td>[{\"credit_id\": \"52fe4781c3a36847f81398c3\", \"de...</td>\n",
       "      <td>2012-07-16</td>\n",
       "      <td>7.6</td>\n",
       "      <td>2012</td>\n",
       "    </tr>\n",
       "    <tr>\n",
       "      <th>4</th>\n",
       "      <td>49529</td>\n",
       "      <td>John Carter</td>\n",
       "      <td>John Carter is a war-weary, former military ca...</td>\n",
       "      <td>[Action, Adventure, Science Fiction]</td>\n",
       "      <td>[based on novel, mars, medallion, space travel...</td>\n",
       "      <td>[{\"cast_id\": 5, \"character\": \"John Carter\", \"c...</td>\n",
       "      <td>[{\"credit_id\": \"52fe479ac3a36847f813eaa3\", \"de...</td>\n",
       "      <td>2012-03-07</td>\n",
       "      <td>6.1</td>\n",
       "      <td>2012</td>\n",
       "    </tr>\n",
       "  </tbody>\n",
       "</table>\n",
       "</div>"
      ],
      "text/plain": [
       "   movie_id                                     title  \\\n",
       "0     19995                                    Avatar   \n",
       "1       285  Pirates of the Caribbean: At World's End   \n",
       "2    206647                                   Spectre   \n",
       "3     49026                     The Dark Knight Rises   \n",
       "4     49529                               John Carter   \n",
       "\n",
       "                                            overview  \\\n",
       "0  In the 22nd century, a paraplegic Marine is di...   \n",
       "1  Captain Barbossa, long believed to be dead, ha...   \n",
       "2  A cryptic message from Bond’s past sends him o...   \n",
       "3  Following the death of District Attorney Harve...   \n",
       "4  John Carter is a war-weary, former military ca...   \n",
       "\n",
       "                                          genres  \\\n",
       "0  [Action, Adventure, Fantasy, Science Fiction]   \n",
       "1                   [Adventure, Fantasy, Action]   \n",
       "2                     [Action, Adventure, Crime]   \n",
       "3               [Action, Crime, Drama, Thriller]   \n",
       "4           [Action, Adventure, Science Fiction]   \n",
       "\n",
       "                                            keywords  \\\n",
       "0  [culture clash, future, space war, space colon...   \n",
       "1  [ocean, drug abuse, exotic island, east india ...   \n",
       "2  [spy, based on novel, secret agent, sequel, mi...   \n",
       "3  [dc comics, crime fighter, terrorist, secret i...   \n",
       "4  [based on novel, mars, medallion, space travel...   \n",
       "\n",
       "                                                cast  \\\n",
       "0  [{\"cast_id\": 242, \"character\": \"Jake Sully\", \"...   \n",
       "1  [{\"cast_id\": 4, \"character\": \"Captain Jack Spa...   \n",
       "2  [{\"cast_id\": 1, \"character\": \"James Bond\", \"cr...   \n",
       "3  [{\"cast_id\": 2, \"character\": \"Bruce Wayne / Ba...   \n",
       "4  [{\"cast_id\": 5, \"character\": \"John Carter\", \"c...   \n",
       "\n",
       "                                                crew release_date  \\\n",
       "0  [{\"credit_id\": \"52fe48009251416c750aca23\", \"de...   2009-12-10   \n",
       "1  [{\"credit_id\": \"52fe4232c3a36847f800b579\", \"de...   2007-05-19   \n",
       "2  [{\"credit_id\": \"54805967c3a36829b5002c41\", \"de...   2015-10-26   \n",
       "3  [{\"credit_id\": \"52fe4781c3a36847f81398c3\", \"de...   2012-07-16   \n",
       "4  [{\"credit_id\": \"52fe479ac3a36847f813eaa3\", \"de...   2012-03-07   \n",
       "\n",
       "   vote_average  year  \n",
       "0           7.2  2009  \n",
       "1           6.9  2007  \n",
       "2           6.3  2015  \n",
       "3           7.6  2012  \n",
       "4           6.1  2012  "
      ]
     },
     "execution_count": 207,
     "metadata": {},
     "output_type": "execute_result"
    }
   ],
   "source": [
    "movies['keywords'] = movies['keywords'].apply(convert)\n",
    "movies.head()"
   ]
  },
  {
   "cell_type": "code",
   "execution_count": 208,
   "metadata": {},
   "outputs": [
    {
     "data": {
      "text/plain": [
       "'[{\"cast_id\": 242, \"character\": \"Jake Sully\", \"credit_id\": \"5602a8a7c3a3685532001c9a\", \"gender\": 2, \"id\": 65731, \"name\": \"Sam Worthington\", \"order\": 0}, {\"cast_id\": 3, \"character\": \"Neytiri\", \"credit_id\": \"52fe48009251416c750ac9cb\", \"gender\": 1, \"id\": 8691, \"name\": \"Zoe Saldana\", \"order\": 1}, {\"cast_id\": 25, \"character\": \"Dr. Grace Augustine\", \"credit_id\": \"52fe48009251416c750aca39\", \"gender\": 1, \"id\": 10205, \"name\": \"Sigourney Weaver\", \"order\": 2}, {\"cast_id\": 4, \"character\": \"Col. Quaritch\", \"credit_id\": \"52fe48009251416c750ac9cf\", \"gender\": 2, \"id\": 32747, \"name\": \"Stephen Lang\", \"order\": 3}, {\"cast_id\": 5, \"character\": \"Trudy Chacon\", \"credit_id\": \"52fe48009251416c750ac9d3\", \"gender\": 1, \"id\": 17647, \"name\": \"Michelle Rodriguez\", \"order\": 4}, {\"cast_id\": 8, \"character\": \"Selfridge\", \"credit_id\": \"52fe48009251416c750ac9e1\", \"gender\": 2, \"id\": 1771, \"name\": \"Giovanni Ribisi\", \"order\": 5}, {\"cast_id\": 7, \"character\": \"Norm Spellman\", \"credit_id\": \"52fe48009251416c750ac9dd\", \"gender\": 2, \"id\": 59231, \"name\": \"Joel David Moore\", \"order\": 6}, {\"cast_id\": 9, \"character\": \"Moat\", \"credit_id\": \"52fe48009251416c750ac9e5\", \"gender\": 1, \"id\": 30485, \"name\": \"CCH Pounder\", \"order\": 7}, {\"cast_id\": 11, \"character\": \"Eytukan\", \"credit_id\": \"52fe48009251416c750ac9ed\", \"gender\": 2, \"id\": 15853, \"name\": \"Wes Studi\", \"order\": 8}, {\"cast_id\": 10, \"character\": \"Tsu\\'Tey\", \"credit_id\": \"52fe48009251416c750ac9e9\", \"gender\": 2, \"id\": 10964, \"name\": \"Laz Alonso\", \"order\": 9}, {\"cast_id\": 12, \"character\": \"Dr. Max Patel\", \"credit_id\": \"52fe48009251416c750ac9f1\", \"gender\": 2, \"id\": 95697, \"name\": \"Dileep Rao\", \"order\": 10}, {\"cast_id\": 13, \"character\": \"Lyle Wainfleet\", \"credit_id\": \"52fe48009251416c750ac9f5\", \"gender\": 2, \"id\": 98215, \"name\": \"Matt Gerald\", \"order\": 11}, {\"cast_id\": 32, \"character\": \"Private Fike\", \"credit_id\": \"52fe48009251416c750aca5b\", \"gender\": 2, \"id\": 154153, \"name\": \"Sean Anthony Moran\", \"order\": 12}, {\"cast_id\": 33, \"character\": \"Cryo Vault Med Tech\", \"credit_id\": \"52fe48009251416c750aca5f\", \"gender\": 2, \"id\": 397312, \"name\": \"Jason Whyte\", \"order\": 13}, {\"cast_id\": 34, \"character\": \"Venture Star Crew Chief\", \"credit_id\": \"52fe48009251416c750aca63\", \"gender\": 2, \"id\": 42317, \"name\": \"Scott Lawrence\", \"order\": 14}, {\"cast_id\": 35, \"character\": \"Lock Up Trooper\", \"credit_id\": \"52fe48009251416c750aca67\", \"gender\": 2, \"id\": 986734, \"name\": \"Kelly Kilgour\", \"order\": 15}, {\"cast_id\": 36, \"character\": \"Shuttle Pilot\", \"credit_id\": \"52fe48009251416c750aca6b\", \"gender\": 0, \"id\": 1207227, \"name\": \"James Patrick Pitt\", \"order\": 16}, {\"cast_id\": 37, \"character\": \"Shuttle Co-Pilot\", \"credit_id\": \"52fe48009251416c750aca6f\", \"gender\": 0, \"id\": 1180936, \"name\": \"Sean Patrick Murphy\", \"order\": 17}, {\"cast_id\": 38, \"character\": \"Shuttle Crew Chief\", \"credit_id\": \"52fe48009251416c750aca73\", \"gender\": 2, \"id\": 1019578, \"name\": \"Peter Dillon\", \"order\": 18}, {\"cast_id\": 39, \"character\": \"Tractor Operator / Troupe\", \"credit_id\": \"52fe48009251416c750aca77\", \"gender\": 0, \"id\": 91443, \"name\": \"Kevin Dorman\", \"order\": 19}, {\"cast_id\": 40, \"character\": \"Dragon Gunship Pilot\", \"credit_id\": \"52fe48009251416c750aca7b\", \"gender\": 2, \"id\": 173391, \"name\": \"Kelson Henderson\", \"order\": 20}, {\"cast_id\": 41, \"character\": \"Dragon Gunship Gunner\", \"credit_id\": \"52fe48009251416c750aca7f\", \"gender\": 0, \"id\": 1207236, \"name\": \"David Van Horn\", \"order\": 21}, {\"cast_id\": 42, \"character\": \"Dragon Gunship Navigator\", \"credit_id\": \"52fe48009251416c750aca83\", \"gender\": 0, \"id\": 215913, \"name\": \"Jacob Tomuri\", \"order\": 22}, {\"cast_id\": 43, \"character\": \"Suit #1\", \"credit_id\": \"52fe48009251416c750aca87\", \"gender\": 0, \"id\": 143206, \"name\": \"Michael Blain-Rozgay\", \"order\": 23}, {\"cast_id\": 44, \"character\": \"Suit #2\", \"credit_id\": \"52fe48009251416c750aca8b\", \"gender\": 2, \"id\": 169676, \"name\": \"Jon Curry\", \"order\": 24}, {\"cast_id\": 46, \"character\": \"Ambient Room Tech\", \"credit_id\": \"52fe48009251416c750aca8f\", \"gender\": 0, \"id\": 1048610, \"name\": \"Luke Hawker\", \"order\": 25}, {\"cast_id\": 47, \"character\": \"Ambient Room Tech / Troupe\", \"credit_id\": \"52fe48009251416c750aca93\", \"gender\": 0, \"id\": 42288, \"name\": \"Woody Schultz\", \"order\": 26}, {\"cast_id\": 48, \"character\": \"Horse Clan Leader\", \"credit_id\": \"52fe48009251416c750aca97\", \"gender\": 2, \"id\": 68278, \"name\": \"Peter Mensah\", \"order\": 27}, {\"cast_id\": 49, \"character\": \"Link Room Tech\", \"credit_id\": \"52fe48009251416c750aca9b\", \"gender\": 0, \"id\": 1207247, \"name\": \"Sonia Yee\", \"order\": 28}, {\"cast_id\": 50, \"character\": \"Basketball Avatar / Troupe\", \"credit_id\": \"52fe48009251416c750aca9f\", \"gender\": 1, \"id\": 1207248, \"name\": \"Jahnel Curfman\", \"order\": 29}, {\"cast_id\": 51, \"character\": \"Basketball Avatar\", \"credit_id\": \"52fe48009251416c750acaa3\", \"gender\": 0, \"id\": 89714, \"name\": \"Ilram Choi\", \"order\": 30}, {\"cast_id\": 52, \"character\": \"Na\\'vi Child\", \"credit_id\": \"52fe48009251416c750acaa7\", \"gender\": 0, \"id\": 1207249, \"name\": \"Kyla Warren\", \"order\": 31}, {\"cast_id\": 53, \"character\": \"Troupe\", \"credit_id\": \"52fe48009251416c750acaab\", \"gender\": 0, \"id\": 1207250, \"name\": \"Lisa Roumain\", \"order\": 32}, {\"cast_id\": 54, \"character\": \"Troupe\", \"credit_id\": \"52fe48009251416c750acaaf\", \"gender\": 1, \"id\": 83105, \"name\": \"Debra Wilson\", \"order\": 33}, {\"cast_id\": 57, \"character\": \"Troupe\", \"credit_id\": \"52fe48009251416c750acabb\", \"gender\": 0, \"id\": 1207253, \"name\": \"Chris Mala\", \"order\": 34}, {\"cast_id\": 55, \"character\": \"Troupe\", \"credit_id\": \"52fe48009251416c750acab3\", \"gender\": 0, \"id\": 1207251, \"name\": \"Taylor Kibby\", \"order\": 35}, {\"cast_id\": 56, \"character\": \"Troupe\", \"credit_id\": \"52fe48009251416c750acab7\", \"gender\": 0, \"id\": 1207252, \"name\": \"Jodie Landau\", \"order\": 36}, {\"cast_id\": 58, \"character\": \"Troupe\", \"credit_id\": \"52fe48009251416c750acabf\", \"gender\": 0, \"id\": 1207254, \"name\": \"Julie Lamm\", \"order\": 37}, {\"cast_id\": 59, \"character\": \"Troupe\", \"credit_id\": \"52fe48009251416c750acac3\", \"gender\": 0, \"id\": 1207257, \"name\": \"Cullen B. Madden\", \"order\": 38}, {\"cast_id\": 60, \"character\": \"Troupe\", \"credit_id\": \"52fe48009251416c750acac7\", \"gender\": 0, \"id\": 1207259, \"name\": \"Joseph Brady Madden\", \"order\": 39}, {\"cast_id\": 61, \"character\": \"Troupe\", \"credit_id\": \"52fe48009251416c750acacb\", \"gender\": 0, \"id\": 1207262, \"name\": \"Frankie Torres\", \"order\": 40}, {\"cast_id\": 62, \"character\": \"Troupe\", \"credit_id\": \"52fe48009251416c750acacf\", \"gender\": 1, \"id\": 1158600, \"name\": \"Austin Wilson\", \"order\": 41}, {\"cast_id\": 63, \"character\": \"Troupe\", \"credit_id\": \"52fe48019251416c750acad3\", \"gender\": 1, \"id\": 983705, \"name\": \"Sara Wilson\", \"order\": 42}, {\"cast_id\": 64, \"character\": \"Troupe\", \"credit_id\": \"52fe48019251416c750acad7\", \"gender\": 0, \"id\": 1207263, \"name\": \"Tamica Washington-Miller\", \"order\": 43}, {\"cast_id\": 65, \"character\": \"Op Center Staff\", \"credit_id\": \"52fe48019251416c750acadb\", \"gender\": 1, \"id\": 1145098, \"name\": \"Lucy Briant\", \"order\": 44}, {\"cast_id\": 66, \"character\": \"Op Center Staff\", \"credit_id\": \"52fe48019251416c750acadf\", \"gender\": 2, \"id\": 33305, \"name\": \"Nathan Meister\", \"order\": 45}, {\"cast_id\": 67, \"character\": \"Op Center Staff\", \"credit_id\": \"52fe48019251416c750acae3\", \"gender\": 0, \"id\": 1207264, \"name\": \"Gerry Blair\", \"order\": 46}, {\"cast_id\": 68, \"character\": \"Op Center Staff\", \"credit_id\": \"52fe48019251416c750acae7\", \"gender\": 2, \"id\": 33311, \"name\": \"Matthew Chamberlain\", \"order\": 47}, {\"cast_id\": 69, \"character\": \"Op Center Staff\", \"credit_id\": \"52fe48019251416c750acaeb\", \"gender\": 0, \"id\": 1207265, \"name\": \"Paul Yates\", \"order\": 48}, {\"cast_id\": 70, \"character\": \"Op Center Duty Officer\", \"credit_id\": \"52fe48019251416c750acaef\", \"gender\": 0, \"id\": 1207266, \"name\": \"Wray Wilson\", \"order\": 49}, {\"cast_id\": 71, \"character\": \"Op Center Staff\", \"credit_id\": \"52fe48019251416c750acaf3\", \"gender\": 2, \"id\": 54492, \"name\": \"James Gaylyn\", \"order\": 50}, {\"cast_id\": 72, \"character\": \"Dancer\", \"credit_id\": \"52fe48019251416c750acaf7\", \"gender\": 0, \"id\": 1207267, \"name\": \"Melvin Leno Clark III\", \"order\": 51}, {\"cast_id\": 73, \"character\": \"Dancer\", \"credit_id\": \"52fe48019251416c750acafb\", \"gender\": 0, \"id\": 1207268, \"name\": \"Carvon Futrell\", \"order\": 52}, {\"cast_id\": 74, \"character\": \"Dancer\", \"credit_id\": \"52fe48019251416c750acaff\", \"gender\": 0, \"id\": 1207269, \"name\": \"Brandon Jelkes\", \"order\": 53}, {\"cast_id\": 75, \"character\": \"Dancer\", \"credit_id\": \"52fe48019251416c750acb03\", \"gender\": 0, \"id\": 1207270, \"name\": \"Micah Moch\", \"order\": 54}, {\"cast_id\": 76, \"character\": \"Dancer\", \"credit_id\": \"52fe48019251416c750acb07\", \"gender\": 0, \"id\": 1207271, \"name\": \"Hanniyah Muhammad\", \"order\": 55}, {\"cast_id\": 77, \"character\": \"Dancer\", \"credit_id\": \"52fe48019251416c750acb0b\", \"gender\": 0, \"id\": 1207272, \"name\": \"Christopher Nolen\", \"order\": 56}, {\"cast_id\": 78, \"character\": \"Dancer\", \"credit_id\": \"52fe48019251416c750acb0f\", \"gender\": 0, \"id\": 1207273, \"name\": \"Christa Oliver\", \"order\": 57}, {\"cast_id\": 79, \"character\": \"Dancer\", \"credit_id\": \"52fe48019251416c750acb13\", \"gender\": 0, \"id\": 1207274, \"name\": \"April Marie Thomas\", \"order\": 58}, {\"cast_id\": 80, \"character\": \"Dancer\", \"credit_id\": \"52fe48019251416c750acb17\", \"gender\": 0, \"id\": 1207275, \"name\": \"Bravita A. Threatt\", \"order\": 59}, {\"cast_id\": 81, \"character\": \"Mining Chief (uncredited)\", \"credit_id\": \"52fe48019251416c750acb1b\", \"gender\": 0, \"id\": 1207276, \"name\": \"Colin Bleasdale\", \"order\": 60}, {\"cast_id\": 82, \"character\": \"Veteran Miner (uncredited)\", \"credit_id\": \"52fe48019251416c750acb1f\", \"gender\": 0, \"id\": 107969, \"name\": \"Mike Bodnar\", \"order\": 61}, {\"cast_id\": 83, \"character\": \"Richard (uncredited)\", \"credit_id\": \"52fe48019251416c750acb23\", \"gender\": 0, \"id\": 1207278, \"name\": \"Matt Clayton\", \"order\": 62}, {\"cast_id\": 84, \"character\": \"Nav\\'i (uncredited)\", \"credit_id\": \"52fe48019251416c750acb27\", \"gender\": 1, \"id\": 147898, \"name\": \"Nicole Dionne\", \"order\": 63}, {\"cast_id\": 85, \"character\": \"Trooper (uncredited)\", \"credit_id\": \"52fe48019251416c750acb2b\", \"gender\": 0, \"id\": 1207280, \"name\": \"Jamie Harrison\", \"order\": 64}, {\"cast_id\": 86, \"character\": \"Trooper (uncredited)\", \"credit_id\": \"52fe48019251416c750acb2f\", \"gender\": 0, \"id\": 1207281, \"name\": \"Allan Henry\", \"order\": 65}, {\"cast_id\": 87, \"character\": \"Ground Technician (uncredited)\", \"credit_id\": \"52fe48019251416c750acb33\", \"gender\": 2, \"id\": 1207282, \"name\": \"Anthony Ingruber\", \"order\": 66}, {\"cast_id\": 88, \"character\": \"Flight Crew Mechanic (uncredited)\", \"credit_id\": \"52fe48019251416c750acb37\", \"gender\": 0, \"id\": 1207283, \"name\": \"Ashley Jeffery\", \"order\": 67}, {\"cast_id\": 14, \"character\": \"Samson Pilot\", \"credit_id\": \"52fe48009251416c750ac9f9\", \"gender\": 0, \"id\": 98216, \"name\": \"Dean Knowsley\", \"order\": 68}, {\"cast_id\": 89, \"character\": \"Trooper (uncredited)\", \"credit_id\": \"52fe48019251416c750acb3b\", \"gender\": 0, \"id\": 1201399, \"name\": \"Joseph Mika-Hunt\", \"order\": 69}, {\"cast_id\": 90, \"character\": \"Banshee (uncredited)\", \"credit_id\": \"52fe48019251416c750acb3f\", \"gender\": 0, \"id\": 236696, \"name\": \"Terry Notary\", \"order\": 70}, {\"cast_id\": 91, \"character\": \"Soldier (uncredited)\", \"credit_id\": \"52fe48019251416c750acb43\", \"gender\": 0, \"id\": 1207287, \"name\": \"Kai Pantano\", \"order\": 71}, {\"cast_id\": 92, \"character\": \"Blast Technician (uncredited)\", \"credit_id\": \"52fe48019251416c750acb47\", \"gender\": 0, \"id\": 1207288, \"name\": \"Logan Pithyou\", \"order\": 72}, {\"cast_id\": 93, \"character\": \"Vindum Raah (uncredited)\", \"credit_id\": \"52fe48019251416c750acb4b\", \"gender\": 0, \"id\": 1207289, \"name\": \"Stuart Pollock\", \"order\": 73}, {\"cast_id\": 94, \"character\": \"Hero (uncredited)\", \"credit_id\": \"52fe48019251416c750acb4f\", \"gender\": 0, \"id\": 584868, \"name\": \"Raja\", \"order\": 74}, {\"cast_id\": 95, \"character\": \"Ops Centreworker (uncredited)\", \"credit_id\": \"52fe48019251416c750acb53\", \"gender\": 0, \"id\": 1207290, \"name\": \"Gareth Ruck\", \"order\": 75}, {\"cast_id\": 96, \"character\": \"Engineer (uncredited)\", \"credit_id\": \"52fe48019251416c750acb57\", \"gender\": 0, \"id\": 1062463, \"name\": \"Rhian Sheehan\", \"order\": 76}, {\"cast_id\": 97, \"character\": \"Col. Quaritch\\'s Mech Suit (uncredited)\", \"credit_id\": \"52fe48019251416c750acb5b\", \"gender\": 0, \"id\": 60656, \"name\": \"T. J. Storm\", \"order\": 77}, {\"cast_id\": 98, \"character\": \"Female Marine (uncredited)\", \"credit_id\": \"52fe48019251416c750acb5f\", \"gender\": 0, \"id\": 1207291, \"name\": \"Jodie Taylor\", \"order\": 78}, {\"cast_id\": 99, \"character\": \"Ikran Clan Leader (uncredited)\", \"credit_id\": \"52fe48019251416c750acb63\", \"gender\": 1, \"id\": 1186027, \"name\": \"Alicia Vela-Bailey\", \"order\": 79}, {\"cast_id\": 100, \"character\": \"Geologist (uncredited)\", \"credit_id\": \"52fe48019251416c750acb67\", \"gender\": 0, \"id\": 1207292, \"name\": \"Richard Whiteside\", \"order\": 80}, {\"cast_id\": 101, \"character\": \"Na\\'vi (uncredited)\", \"credit_id\": \"52fe48019251416c750acb6b\", \"gender\": 0, \"id\": 103259, \"name\": \"Nikie Zambo\", \"order\": 81}, {\"cast_id\": 102, \"character\": \"Ambient Room Tech / Troupe\", \"credit_id\": \"52fe48019251416c750acb6f\", \"gender\": 1, \"id\": 42286, \"name\": \"Julene Renee\", \"order\": 82}]'"
      ]
     },
     "execution_count": 208,
     "metadata": {},
     "output_type": "execute_result"
    }
   ],
   "source": [
    "# handle cast\n",
    "movies.iloc[0]['cast']"
   ]
  },
  {
   "cell_type": "code",
   "execution_count": 209,
   "metadata": {},
   "outputs": [],
   "source": [
    "# Here i am just keeping top 3 cast\n",
    "\n",
    "def convert_cast(text):\n",
    "    L = []\n",
    "    counter = 0\n",
    "    for i in ast.literal_eval(text):\n",
    "        if counter < 3:\n",
    "            L.append(i['name'])\n",
    "        counter+=1\n",
    "    return L"
   ]
  },
  {
   "cell_type": "code",
   "execution_count": 210,
   "metadata": {},
   "outputs": [
    {
     "data": {
      "text/html": [
       "<div>\n",
       "<style scoped>\n",
       "    .dataframe tbody tr th:only-of-type {\n",
       "        vertical-align: middle;\n",
       "    }\n",
       "\n",
       "    .dataframe tbody tr th {\n",
       "        vertical-align: top;\n",
       "    }\n",
       "\n",
       "    .dataframe thead th {\n",
       "        text-align: right;\n",
       "    }\n",
       "</style>\n",
       "<table border=\"1\" class=\"dataframe\">\n",
       "  <thead>\n",
       "    <tr style=\"text-align: right;\">\n",
       "      <th></th>\n",
       "      <th>movie_id</th>\n",
       "      <th>title</th>\n",
       "      <th>overview</th>\n",
       "      <th>genres</th>\n",
       "      <th>keywords</th>\n",
       "      <th>cast</th>\n",
       "      <th>crew</th>\n",
       "      <th>release_date</th>\n",
       "      <th>vote_average</th>\n",
       "      <th>year</th>\n",
       "    </tr>\n",
       "  </thead>\n",
       "  <tbody>\n",
       "    <tr>\n",
       "      <th>0</th>\n",
       "      <td>19995</td>\n",
       "      <td>Avatar</td>\n",
       "      <td>In the 22nd century, a paraplegic Marine is di...</td>\n",
       "      <td>[Action, Adventure, Fantasy, Science Fiction]</td>\n",
       "      <td>[culture clash, future, space war, space colon...</td>\n",
       "      <td>[Sam Worthington, Zoe Saldana, Sigourney Weaver]</td>\n",
       "      <td>[{\"credit_id\": \"52fe48009251416c750aca23\", \"de...</td>\n",
       "      <td>2009-12-10</td>\n",
       "      <td>7.2</td>\n",
       "      <td>2009</td>\n",
       "    </tr>\n",
       "    <tr>\n",
       "      <th>1</th>\n",
       "      <td>285</td>\n",
       "      <td>Pirates of the Caribbean: At World's End</td>\n",
       "      <td>Captain Barbossa, long believed to be dead, ha...</td>\n",
       "      <td>[Adventure, Fantasy, Action]</td>\n",
       "      <td>[ocean, drug abuse, exotic island, east india ...</td>\n",
       "      <td>[Johnny Depp, Orlando Bloom, Keira Knightley]</td>\n",
       "      <td>[{\"credit_id\": \"52fe4232c3a36847f800b579\", \"de...</td>\n",
       "      <td>2007-05-19</td>\n",
       "      <td>6.9</td>\n",
       "      <td>2007</td>\n",
       "    </tr>\n",
       "    <tr>\n",
       "      <th>2</th>\n",
       "      <td>206647</td>\n",
       "      <td>Spectre</td>\n",
       "      <td>A cryptic message from Bond’s past sends him o...</td>\n",
       "      <td>[Action, Adventure, Crime]</td>\n",
       "      <td>[spy, based on novel, secret agent, sequel, mi...</td>\n",
       "      <td>[Daniel Craig, Christoph Waltz, Léa Seydoux]</td>\n",
       "      <td>[{\"credit_id\": \"54805967c3a36829b5002c41\", \"de...</td>\n",
       "      <td>2015-10-26</td>\n",
       "      <td>6.3</td>\n",
       "      <td>2015</td>\n",
       "    </tr>\n",
       "    <tr>\n",
       "      <th>3</th>\n",
       "      <td>49026</td>\n",
       "      <td>The Dark Knight Rises</td>\n",
       "      <td>Following the death of District Attorney Harve...</td>\n",
       "      <td>[Action, Crime, Drama, Thriller]</td>\n",
       "      <td>[dc comics, crime fighter, terrorist, secret i...</td>\n",
       "      <td>[Christian Bale, Michael Caine, Gary Oldman]</td>\n",
       "      <td>[{\"credit_id\": \"52fe4781c3a36847f81398c3\", \"de...</td>\n",
       "      <td>2012-07-16</td>\n",
       "      <td>7.6</td>\n",
       "      <td>2012</td>\n",
       "    </tr>\n",
       "    <tr>\n",
       "      <th>4</th>\n",
       "      <td>49529</td>\n",
       "      <td>John Carter</td>\n",
       "      <td>John Carter is a war-weary, former military ca...</td>\n",
       "      <td>[Action, Adventure, Science Fiction]</td>\n",
       "      <td>[based on novel, mars, medallion, space travel...</td>\n",
       "      <td>[Taylor Kitsch, Lynn Collins, Samantha Morton]</td>\n",
       "      <td>[{\"credit_id\": \"52fe479ac3a36847f813eaa3\", \"de...</td>\n",
       "      <td>2012-03-07</td>\n",
       "      <td>6.1</td>\n",
       "      <td>2012</td>\n",
       "    </tr>\n",
       "  </tbody>\n",
       "</table>\n",
       "</div>"
      ],
      "text/plain": [
       "   movie_id                                     title  \\\n",
       "0     19995                                    Avatar   \n",
       "1       285  Pirates of the Caribbean: At World's End   \n",
       "2    206647                                   Spectre   \n",
       "3     49026                     The Dark Knight Rises   \n",
       "4     49529                               John Carter   \n",
       "\n",
       "                                            overview  \\\n",
       "0  In the 22nd century, a paraplegic Marine is di...   \n",
       "1  Captain Barbossa, long believed to be dead, ha...   \n",
       "2  A cryptic message from Bond’s past sends him o...   \n",
       "3  Following the death of District Attorney Harve...   \n",
       "4  John Carter is a war-weary, former military ca...   \n",
       "\n",
       "                                          genres  \\\n",
       "0  [Action, Adventure, Fantasy, Science Fiction]   \n",
       "1                   [Adventure, Fantasy, Action]   \n",
       "2                     [Action, Adventure, Crime]   \n",
       "3               [Action, Crime, Drama, Thriller]   \n",
       "4           [Action, Adventure, Science Fiction]   \n",
       "\n",
       "                                            keywords  \\\n",
       "0  [culture clash, future, space war, space colon...   \n",
       "1  [ocean, drug abuse, exotic island, east india ...   \n",
       "2  [spy, based on novel, secret agent, sequel, mi...   \n",
       "3  [dc comics, crime fighter, terrorist, secret i...   \n",
       "4  [based on novel, mars, medallion, space travel...   \n",
       "\n",
       "                                               cast  \\\n",
       "0  [Sam Worthington, Zoe Saldana, Sigourney Weaver]   \n",
       "1     [Johnny Depp, Orlando Bloom, Keira Knightley]   \n",
       "2      [Daniel Craig, Christoph Waltz, Léa Seydoux]   \n",
       "3      [Christian Bale, Michael Caine, Gary Oldman]   \n",
       "4    [Taylor Kitsch, Lynn Collins, Samantha Morton]   \n",
       "\n",
       "                                                crew release_date  \\\n",
       "0  [{\"credit_id\": \"52fe48009251416c750aca23\", \"de...   2009-12-10   \n",
       "1  [{\"credit_id\": \"52fe4232c3a36847f800b579\", \"de...   2007-05-19   \n",
       "2  [{\"credit_id\": \"54805967c3a36829b5002c41\", \"de...   2015-10-26   \n",
       "3  [{\"credit_id\": \"52fe4781c3a36847f81398c3\", \"de...   2012-07-16   \n",
       "4  [{\"credit_id\": \"52fe479ac3a36847f813eaa3\", \"de...   2012-03-07   \n",
       "\n",
       "   vote_average  year  \n",
       "0           7.2  2009  \n",
       "1           6.9  2007  \n",
       "2           6.3  2015  \n",
       "3           7.6  2012  \n",
       "4           6.1  2012  "
      ]
     },
     "execution_count": 210,
     "metadata": {},
     "output_type": "execute_result"
    }
   ],
   "source": [
    "movies['cast'] = movies['cast'].apply(convert_cast)\n",
    "movies.head()"
   ]
  },
  {
   "cell_type": "code",
   "execution_count": 211,
   "metadata": {},
   "outputs": [
    {
     "data": {
      "text/plain": [
       "'[{\"credit_id\": \"52fe48009251416c750aca23\", \"department\": \"Editing\", \"gender\": 0, \"id\": 1721, \"job\": \"Editor\", \"name\": \"Stephen E. Rivkin\"}, {\"credit_id\": \"539c47ecc3a36810e3001f87\", \"department\": \"Art\", \"gender\": 2, \"id\": 496, \"job\": \"Production Design\", \"name\": \"Rick Carter\"}, {\"credit_id\": \"54491c89c3a3680fb4001cf7\", \"department\": \"Sound\", \"gender\": 0, \"id\": 900, \"job\": \"Sound Designer\", \"name\": \"Christopher Boyes\"}, {\"credit_id\": \"54491cb70e0a267480001bd0\", \"department\": \"Sound\", \"gender\": 0, \"id\": 900, \"job\": \"Supervising Sound Editor\", \"name\": \"Christopher Boyes\"}, {\"credit_id\": \"539c4a4cc3a36810c9002101\", \"department\": \"Production\", \"gender\": 1, \"id\": 1262, \"job\": \"Casting\", \"name\": \"Mali Finn\"}, {\"credit_id\": \"5544ee3b925141499f0008fc\", \"department\": \"Sound\", \"gender\": 2, \"id\": 1729, \"job\": \"Original Music Composer\", \"name\": \"James Horner\"}, {\"credit_id\": \"52fe48009251416c750ac9c3\", \"department\": \"Directing\", \"gender\": 2, \"id\": 2710, \"job\": \"Director\", \"name\": \"James Cameron\"}, {\"credit_id\": \"52fe48009251416c750ac9d9\", \"department\": \"Writing\", \"gender\": 2, \"id\": 2710, \"job\": \"Writer\", \"name\": \"James Cameron\"}, {\"credit_id\": \"52fe48009251416c750aca17\", \"department\": \"Editing\", \"gender\": 2, \"id\": 2710, \"job\": \"Editor\", \"name\": \"James Cameron\"}, {\"credit_id\": \"52fe48009251416c750aca29\", \"department\": \"Production\", \"gender\": 2, \"id\": 2710, \"job\": \"Producer\", \"name\": \"James Cameron\"}, {\"credit_id\": \"52fe48009251416c750aca3f\", \"department\": \"Writing\", \"gender\": 2, \"id\": 2710, \"job\": \"Screenplay\", \"name\": \"James Cameron\"}, {\"credit_id\": \"539c4987c3a36810ba0021a4\", \"department\": \"Art\", \"gender\": 2, \"id\": 7236, \"job\": \"Art Direction\", \"name\": \"Andrew Menzies\"}, {\"credit_id\": \"549598c3c3a3686ae9004383\", \"department\": \"Visual Effects\", \"gender\": 0, \"id\": 6690, \"job\": \"Visual Effects Producer\", \"name\": \"Jill Brooks\"}, {\"credit_id\": \"52fe48009251416c750aca4b\", \"department\": \"Production\", \"gender\": 1, \"id\": 6347, \"job\": \"Casting\", \"name\": \"Margery Simkin\"}, {\"credit_id\": \"570b6f419251417da70032fe\", \"department\": \"Art\", \"gender\": 2, \"id\": 6878, \"job\": \"Supervising Art Director\", \"name\": \"Kevin Ishioka\"}, {\"credit_id\": \"5495a0fac3a3686ae9004468\", \"department\": \"Sound\", \"gender\": 0, \"id\": 6883, \"job\": \"Music Editor\", \"name\": \"Dick Bernstein\"}, {\"credit_id\": \"54959706c3a3686af3003e81\", \"department\": \"Sound\", \"gender\": 0, \"id\": 8159, \"job\": \"Sound Effects Editor\", \"name\": \"Shannon Mills\"}, {\"credit_id\": \"54491d58c3a3680fb1001ccb\", \"department\": \"Sound\", \"gender\": 0, \"id\": 8160, \"job\": \"Foley\", \"name\": \"Dennie Thorpe\"}, {\"credit_id\": \"54491d6cc3a3680fa5001b2c\", \"department\": \"Sound\", \"gender\": 0, \"id\": 8163, \"job\": \"Foley\", \"name\": \"Jana Vance\"}, {\"credit_id\": \"52fe48009251416c750aca57\", \"department\": \"Costume & Make-Up\", \"gender\": 1, \"id\": 8527, \"job\": \"Costume Design\", \"name\": \"Deborah Lynn Scott\"}, {\"credit_id\": \"52fe48009251416c750aca2f\", \"department\": \"Production\", \"gender\": 2, \"id\": 8529, \"job\": \"Producer\", \"name\": \"Jon Landau\"}, {\"credit_id\": \"539c4937c3a36810ba002194\", \"department\": \"Art\", \"gender\": 0, \"id\": 9618, \"job\": \"Art Direction\", \"name\": \"Sean Haworth\"}, {\"credit_id\": \"539c49b6c3a36810c10020e6\", \"department\": \"Art\", \"gender\": 1, \"id\": 12653, \"job\": \"Set Decoration\", \"name\": \"Kim Sinclair\"}, {\"credit_id\": \"570b6f2f9251413a0e00020d\", \"department\": \"Art\", \"gender\": 1, \"id\": 12653, \"job\": \"Supervising Art Director\", \"name\": \"Kim Sinclair\"}, {\"credit_id\": \"54491a6c0e0a26748c001b19\", \"department\": \"Art\", \"gender\": 2, \"id\": 14350, \"job\": \"Set Designer\", \"name\": \"Richard F. Mays\"}, {\"credit_id\": \"56928cf4c3a3684cff0025c4\", \"department\": \"Production\", \"gender\": 1, \"id\": 20294, \"job\": \"Executive Producer\", \"name\": \"Laeta Kalogridis\"}, {\"credit_id\": \"52fe48009251416c750aca51\", \"department\": \"Costume & Make-Up\", \"gender\": 0, \"id\": 17675, \"job\": \"Costume Design\", \"name\": \"Mayes C. Rubeo\"}, {\"credit_id\": \"52fe48009251416c750aca11\", \"department\": \"Camera\", \"gender\": 2, \"id\": 18265, \"job\": \"Director of Photography\", \"name\": \"Mauro Fiore\"}, {\"credit_id\": \"5449194d0e0a26748f001b39\", \"department\": \"Art\", \"gender\": 0, \"id\": 42281, \"job\": \"Set Designer\", \"name\": \"Scott Herbertson\"}, {\"credit_id\": \"52fe48009251416c750aca05\", \"department\": \"Crew\", \"gender\": 0, \"id\": 42288, \"job\": \"Stunts\", \"name\": \"Woody Schultz\"}, {\"credit_id\": \"5592aefb92514152de0010f5\", \"department\": \"Costume & Make-Up\", \"gender\": 0, \"id\": 29067, \"job\": \"Makeup Artist\", \"name\": \"Linda DeVetta\"}, {\"credit_id\": \"5592afa492514152de00112c\", \"department\": \"Costume & Make-Up\", \"gender\": 0, \"id\": 29067, \"job\": \"Hairstylist\", \"name\": \"Linda DeVetta\"}, {\"credit_id\": \"54959ed592514130fc002e5d\", \"department\": \"Camera\", \"gender\": 2, \"id\": 33302, \"job\": \"Camera Operator\", \"name\": \"Richard Bluck\"}, {\"credit_id\": \"539c4891c3a36810ba002147\", \"department\": \"Art\", \"gender\": 2, \"id\": 33303, \"job\": \"Art Direction\", \"name\": \"Simon Bright\"}, {\"credit_id\": \"54959c069251417a81001f3a\", \"department\": \"Visual Effects\", \"gender\": 0, \"id\": 113145, \"job\": \"Visual Effects Supervisor\", \"name\": \"Richard Martin\"}, {\"credit_id\": \"54959a0dc3a3680ff5002c8d\", \"department\": \"Crew\", \"gender\": 2, \"id\": 58188, \"job\": \"Visual Effects Editor\", \"name\": \"Steve R. Moore\"}, {\"credit_id\": \"52fe48009251416c750aca1d\", \"department\": \"Editing\", \"gender\": 2, \"id\": 58871, \"job\": \"Editor\", \"name\": \"John Refoua\"}, {\"credit_id\": \"54491a4dc3a3680fc30018ca\", \"department\": \"Art\", \"gender\": 0, \"id\": 92359, \"job\": \"Set Designer\", \"name\": \"Karl J. Martin\"}, {\"credit_id\": \"52fe48009251416c750aca35\", \"department\": \"Camera\", \"gender\": 1, \"id\": 72201, \"job\": \"Director of Photography\", \"name\": \"Chiling Lin\"}, {\"credit_id\": \"52fe48009251416c750ac9ff\", \"department\": \"Crew\", \"gender\": 0, \"id\": 89714, \"job\": \"Stunts\", \"name\": \"Ilram Choi\"}, {\"credit_id\": \"54959c529251416e2b004394\", \"department\": \"Visual Effects\", \"gender\": 2, \"id\": 93214, \"job\": \"Visual Effects Supervisor\", \"name\": \"Steven Quale\"}, {\"credit_id\": \"54491edf0e0a267489001c37\", \"department\": \"Crew\", \"gender\": 1, \"id\": 122607, \"job\": \"Dialect Coach\", \"name\": \"Carla Meyer\"}, {\"credit_id\": \"539c485bc3a368653d001a3a\", \"department\": \"Art\", \"gender\": 2, \"id\": 132585, \"job\": \"Art Direction\", \"name\": \"Nick Bassett\"}, {\"credit_id\": \"539c4903c3a368653d001a74\", \"department\": \"Art\", \"gender\": 0, \"id\": 132596, \"job\": \"Art Direction\", \"name\": \"Jill Cormack\"}, {\"credit_id\": \"539c4967c3a368653d001a94\", \"department\": \"Art\", \"gender\": 0, \"id\": 132604, \"job\": \"Art Direction\", \"name\": \"Andy McLaren\"}, {\"credit_id\": \"52fe48009251416c750aca45\", \"department\": \"Crew\", \"gender\": 0, \"id\": 236696, \"job\": \"Motion Capture Artist\", \"name\": \"Terry Notary\"}, {\"credit_id\": \"54959e02c3a3680fc60027d2\", \"department\": \"Crew\", \"gender\": 2, \"id\": 956198, \"job\": \"Stunt Coordinator\", \"name\": \"Garrett Warren\"}, {\"credit_id\": \"54959ca3c3a3686ae300438c\", \"department\": \"Visual Effects\", \"gender\": 2, \"id\": 957874, \"job\": \"Visual Effects Supervisor\", \"name\": \"Jonathan Rothbart\"}, {\"credit_id\": \"570b6f519251412c74001b2f\", \"department\": \"Art\", \"gender\": 0, \"id\": 957889, \"job\": \"Supervising Art Director\", \"name\": \"Stefan Dechant\"}, {\"credit_id\": \"570b6f62c3a3680b77007460\", \"department\": \"Art\", \"gender\": 2, \"id\": 959555, \"job\": \"Supervising Art Director\", \"name\": \"Todd Cherniawsky\"}, {\"credit_id\": \"539c4a3ac3a36810da0021cc\", \"department\": \"Production\", \"gender\": 0, \"id\": 1016177, \"job\": \"Casting\", \"name\": \"Miranda Rivers\"}, {\"credit_id\": \"539c482cc3a36810c1002062\", \"department\": \"Art\", \"gender\": 0, \"id\": 1032536, \"job\": \"Production Design\", \"name\": \"Robert Stromberg\"}, {\"credit_id\": \"539c4b65c3a36810c9002125\", \"department\": \"Costume & Make-Up\", \"gender\": 2, \"id\": 1071680, \"job\": \"Costume Design\", \"name\": \"John Harding\"}, {\"credit_id\": \"54959e6692514130fc002e4e\", \"department\": \"Camera\", \"gender\": 0, \"id\": 1177364, \"job\": \"Steadicam Operator\", \"name\": \"Roberto De Angelis\"}, {\"credit_id\": \"539c49f1c3a368653d001aac\", \"department\": \"Costume & Make-Up\", \"gender\": 2, \"id\": 1202850, \"job\": \"Makeup Department Head\", \"name\": \"Mike Smithson\"}, {\"credit_id\": \"5495999ec3a3686ae100460c\", \"department\": \"Visual Effects\", \"gender\": 0, \"id\": 1204668, \"job\": \"Visual Effects Producer\", \"name\": \"Alain Lalanne\"}, {\"credit_id\": \"54959cdfc3a3681153002729\", \"department\": \"Visual Effects\", \"gender\": 0, \"id\": 1206410, \"job\": \"Visual Effects Supervisor\", \"name\": \"Lucas Salton\"}, {\"credit_id\": \"549596239251417a81001eae\", \"department\": \"Crew\", \"gender\": 0, \"id\": 1234266, \"job\": \"Post Production Supervisor\", \"name\": \"Janace Tashjian\"}, {\"credit_id\": \"54959c859251416e1e003efe\", \"department\": \"Visual Effects\", \"gender\": 0, \"id\": 1271932, \"job\": \"Visual Effects Supervisor\", \"name\": \"Stephen Rosenbaum\"}, {\"credit_id\": \"5592af28c3a368775a00105f\", \"department\": \"Costume & Make-Up\", \"gender\": 0, \"id\": 1310064, \"job\": \"Makeup Artist\", \"name\": \"Frankie Karena\"}, {\"credit_id\": \"539c4adfc3a36810e300203b\", \"department\": \"Costume & Make-Up\", \"gender\": 1, \"id\": 1319844, \"job\": \"Costume Supervisor\", \"name\": \"Lisa Lovaas\"}, {\"credit_id\": \"54959b579251416e2b004371\", \"department\": \"Visual Effects\", \"gender\": 0, \"id\": 1327028, \"job\": \"Visual Effects Supervisor\", \"name\": \"Jonathan Fawkner\"}, {\"credit_id\": \"539c48a7c3a36810b5001fa7\", \"department\": \"Art\", \"gender\": 0, \"id\": 1330561, \"job\": \"Art Direction\", \"name\": \"Robert Bavin\"}, {\"credit_id\": \"539c4a71c3a36810da0021e0\", \"department\": \"Costume & Make-Up\", \"gender\": 0, \"id\": 1330567, \"job\": \"Costume Supervisor\", \"name\": \"Anthony Almaraz\"}, {\"credit_id\": \"539c4a8ac3a36810ba0021e4\", \"department\": \"Costume & Make-Up\", \"gender\": 0, \"id\": 1330570, \"job\": \"Costume Supervisor\", \"name\": \"Carolyn M. Fenton\"}, {\"credit_id\": \"539c4ab6c3a36810da0021f0\", \"department\": \"Costume & Make-Up\", \"gender\": 0, \"id\": 1330574, \"job\": \"Costume Supervisor\", \"name\": \"Beth Koenigsberg\"}, {\"credit_id\": \"54491ab70e0a267480001ba2\", \"department\": \"Art\", \"gender\": 0, \"id\": 1336191, \"job\": \"Set Designer\", \"name\": \"Sam Page\"}, {\"credit_id\": \"544919d9c3a3680fc30018bd\", \"department\": \"Art\", \"gender\": 0, \"id\": 1339441, \"job\": \"Set Designer\", \"name\": \"Tex Kadonaga\"}, {\"credit_id\": \"54491cf50e0a267483001b0c\", \"department\": \"Editing\", \"gender\": 0, \"id\": 1352422, \"job\": \"Dialogue Editor\", \"name\": \"Kim Foscato\"}, {\"credit_id\": \"544919f40e0a26748c001b09\", \"department\": \"Art\", \"gender\": 0, \"id\": 1352962, \"job\": \"Set Designer\", \"name\": \"Tammy S. Lee\"}, {\"credit_id\": \"5495a115c3a3680ff5002d71\", \"department\": \"Crew\", \"gender\": 0, \"id\": 1357070, \"job\": \"Transportation Coordinator\", \"name\": \"Denny Caira\"}, {\"credit_id\": \"5495a12f92514130fc002e94\", \"department\": \"Crew\", \"gender\": 0, \"id\": 1357071, \"job\": \"Transportation Coordinator\", \"name\": \"James Waitkus\"}, {\"credit_id\": \"5495976fc3a36811530026b0\", \"department\": \"Sound\", \"gender\": 0, \"id\": 1360103, \"job\": \"Supervising Sound Editor\", \"name\": \"Addison Teague\"}, {\"credit_id\": \"54491837c3a3680fb1001c5a\", \"department\": \"Art\", \"gender\": 2, \"id\": 1376887, \"job\": \"Set Designer\", \"name\": \"C. Scott Baker\"}, {\"credit_id\": \"54491878c3a3680fb4001c9d\", \"department\": \"Art\", \"gender\": 0, \"id\": 1376888, \"job\": \"Set Designer\", \"name\": \"Luke Caska\"}, {\"credit_id\": \"544918dac3a3680fa5001ae0\", \"department\": \"Art\", \"gender\": 0, \"id\": 1376889, \"job\": \"Set Designer\", \"name\": \"David Chow\"}, {\"credit_id\": \"544919110e0a267486001b68\", \"department\": \"Art\", \"gender\": 0, \"id\": 1376890, \"job\": \"Set Designer\", \"name\": \"Jonathan Dyer\"}, {\"credit_id\": \"54491967c3a3680faa001b5e\", \"department\": \"Art\", \"gender\": 0, \"id\": 1376891, \"job\": \"Set Designer\", \"name\": \"Joseph Hiura\"}, {\"credit_id\": \"54491997c3a3680fb1001c8a\", \"department\": \"Art\", \"gender\": 0, \"id\": 1376892, \"job\": \"Art Department Coordinator\", \"name\": \"Rebecca Jellie\"}, {\"credit_id\": \"544919ba0e0a26748f001b42\", \"department\": \"Art\", \"gender\": 0, \"id\": 1376893, \"job\": \"Set Designer\", \"name\": \"Robert Andrew Johnson\"}, {\"credit_id\": \"54491b1dc3a3680faa001b8c\", \"department\": \"Art\", \"gender\": 0, \"id\": 1376895, \"job\": \"Assistant Art Director\", \"name\": \"Mike Stassi\"}, {\"credit_id\": \"54491b79c3a3680fbb001826\", \"department\": \"Art\", \"gender\": 0, \"id\": 1376897, \"job\": \"Construction Coordinator\", \"name\": \"John Villarino\"}, {\"credit_id\": \"54491baec3a3680fb4001ce6\", \"department\": \"Art\", \"gender\": 2, \"id\": 1376898, \"job\": \"Assistant Art Director\", \"name\": \"Jeffrey Wisniewski\"}, {\"credit_id\": \"54491d2fc3a3680fb4001d07\", \"department\": \"Editing\", \"gender\": 0, \"id\": 1376899, \"job\": \"Dialogue Editor\", \"name\": \"Cheryl Nardi\"}, {\"credit_id\": \"54491d86c3a3680fa5001b2f\", \"department\": \"Editing\", \"gender\": 0, \"id\": 1376901, \"job\": \"Dialogue Editor\", \"name\": \"Marshall Winn\"}, {\"credit_id\": \"54491d9dc3a3680faa001bb0\", \"department\": \"Sound\", \"gender\": 0, \"id\": 1376902, \"job\": \"Supervising Sound Editor\", \"name\": \"Gwendolyn Yates Whittle\"}, {\"credit_id\": \"54491dc10e0a267486001bce\", \"department\": \"Sound\", \"gender\": 0, \"id\": 1376903, \"job\": \"Sound Re-Recording Mixer\", \"name\": \"William Stein\"}, {\"credit_id\": \"54491f500e0a26747c001c07\", \"department\": \"Crew\", \"gender\": 0, \"id\": 1376909, \"job\": \"Choreographer\", \"name\": \"Lula Washington\"}, {\"credit_id\": \"549599239251412c4e002a2e\", \"department\": \"Visual Effects\", \"gender\": 0, \"id\": 1391692, \"job\": \"Visual Effects Producer\", \"name\": \"Chris Del Conte\"}, {\"credit_id\": \"54959d54c3a36831b8001d9a\", \"department\": \"Visual Effects\", \"gender\": 2, \"id\": 1391695, \"job\": \"Visual Effects Supervisor\", \"name\": \"R. Christopher White\"}, {\"credit_id\": \"54959bdf9251412c4e002a66\", \"department\": \"Visual Effects\", \"gender\": 0, \"id\": 1394070, \"job\": \"Visual Effects Supervisor\", \"name\": \"Dan Lemmon\"}, {\"credit_id\": \"5495971d92514132ed002922\", \"department\": \"Sound\", \"gender\": 0, \"id\": 1394129, \"job\": \"Sound Effects Editor\", \"name\": \"Tim Nielsen\"}, {\"credit_id\": \"5592b25792514152cc0011aa\", \"department\": \"Crew\", \"gender\": 0, \"id\": 1394286, \"job\": \"CG Supervisor\", \"name\": \"Michael Mulholland\"}, {\"credit_id\": \"54959a329251416e2b004355\", \"department\": \"Crew\", \"gender\": 0, \"id\": 1394750, \"job\": \"Visual Effects Editor\", \"name\": \"Thomas Nittmann\"}, {\"credit_id\": \"54959d6dc3a3686ae9004401\", \"department\": \"Visual Effects\", \"gender\": 0, \"id\": 1394755, \"job\": \"Visual Effects Supervisor\", \"name\": \"Edson Williams\"}, {\"credit_id\": \"5495a08fc3a3686ae300441c\", \"department\": \"Editing\", \"gender\": 0, \"id\": 1394953, \"job\": \"Digital Intermediate\", \"name\": \"Christine Carr\"}, {\"credit_id\": \"55402d659251413d6d000249\", \"department\": \"Visual Effects\", \"gender\": 0, \"id\": 1395269, \"job\": \"Visual Effects Supervisor\", \"name\": \"John Bruno\"}, {\"credit_id\": \"54959e7b9251416e1e003f3e\", \"department\": \"Camera\", \"gender\": 0, \"id\": 1398970, \"job\": \"Steadicam Operator\", \"name\": \"David Emmerichs\"}, {\"credit_id\": \"54959734c3a3686ae10045e0\", \"department\": \"Sound\", \"gender\": 0, \"id\": 1400906, \"job\": \"Sound Effects Editor\", \"name\": \"Christopher Scarabosio\"}, {\"credit_id\": \"549595dd92514130fc002d79\", \"department\": \"Production\", \"gender\": 0, \"id\": 1401784, \"job\": \"Production Supervisor\", \"name\": \"Jennifer Teves\"}, {\"credit_id\": \"549596009251413af70028cc\", \"department\": \"Production\", \"gender\": 0, \"id\": 1401785, \"job\": \"Production Manager\", \"name\": \"Brigitte Yorke\"}, {\"credit_id\": \"549596e892514130fc002d99\", \"department\": \"Sound\", \"gender\": 0, \"id\": 1401786, \"job\": \"Sound Effects Editor\", \"name\": \"Ken Fischer\"}, {\"credit_id\": \"549598229251412c4e002a1c\", \"department\": \"Crew\", \"gender\": 0, \"id\": 1401787, \"job\": \"Special Effects Coordinator\", \"name\": \"Iain Hutton\"}, {\"credit_id\": \"549598349251416e2b00432b\", \"department\": \"Crew\", \"gender\": 0, \"id\": 1401788, \"job\": \"Special Effects Coordinator\", \"name\": \"Steve Ingram\"}, {\"credit_id\": \"54959905c3a3686ae3004324\", \"department\": \"Visual Effects\", \"gender\": 0, \"id\": 1401789, \"job\": \"Visual Effects Producer\", \"name\": \"Joyce Cox\"}, {\"credit_id\": \"5495994b92514132ed002951\", \"department\": \"Visual Effects\", \"gender\": 0, \"id\": 1401790, \"job\": \"Visual Effects Producer\", \"name\": \"Jenny Foster\"}, {\"credit_id\": \"549599cbc3a3686ae1004613\", \"department\": \"Crew\", \"gender\": 0, \"id\": 1401791, \"job\": \"Visual Effects Editor\", \"name\": \"Christopher Marino\"}, {\"credit_id\": \"549599f2c3a3686ae100461e\", \"department\": \"Crew\", \"gender\": 0, \"id\": 1401792, \"job\": \"Visual Effects Editor\", \"name\": \"Jim Milton\"}, {\"credit_id\": \"54959a51c3a3686af3003eb5\", \"department\": \"Visual Effects\", \"gender\": 0, \"id\": 1401793, \"job\": \"Visual Effects Producer\", \"name\": \"Cyndi Ochs\"}, {\"credit_id\": \"54959a7cc3a36811530026f4\", \"department\": \"Crew\", \"gender\": 0, \"id\": 1401794, \"job\": \"Visual Effects Editor\", \"name\": \"Lucas Putnam\"}, {\"credit_id\": \"54959b91c3a3680ff5002cb4\", \"department\": \"Visual Effects\", \"gender\": 0, \"id\": 1401795, \"job\": \"Visual Effects Supervisor\", \"name\": \"Anthony \\'Max\\' Ivins\"}, {\"credit_id\": \"54959bb69251412c4e002a5f\", \"department\": \"Visual Effects\", \"gender\": 0, \"id\": 1401796, \"job\": \"Visual Effects Supervisor\", \"name\": \"John Knoll\"}, {\"credit_id\": \"54959cbbc3a3686ae3004391\", \"department\": \"Visual Effects\", \"gender\": 2, \"id\": 1401799, \"job\": \"Visual Effects Supervisor\", \"name\": \"Eric Saindon\"}, {\"credit_id\": \"54959d06c3a3686ae90043f6\", \"department\": \"Visual Effects\", \"gender\": 0, \"id\": 1401800, \"job\": \"Visual Effects Supervisor\", \"name\": \"Wayne Stables\"}, {\"credit_id\": \"54959d259251416e1e003f11\", \"department\": \"Visual Effects\", \"gender\": 0, \"id\": 1401801, \"job\": \"Visual Effects Supervisor\", \"name\": \"David Stinnett\"}, {\"credit_id\": \"54959db49251413af7002975\", \"department\": \"Visual Effects\", \"gender\": 0, \"id\": 1401803, \"job\": \"Visual Effects Supervisor\", \"name\": \"Guy Williams\"}, {\"credit_id\": \"54959de4c3a3681153002750\", \"department\": \"Crew\", \"gender\": 0, \"id\": 1401804, \"job\": \"Stunt Coordinator\", \"name\": \"Stuart Thorp\"}, {\"credit_id\": \"54959ef2c3a3680fc60027f2\", \"department\": \"Lighting\", \"gender\": 0, \"id\": 1401805, \"job\": \"Best Boy Electric\", \"name\": \"Giles Coburn\"}, {\"credit_id\": \"54959f07c3a3680fc60027f9\", \"department\": \"Camera\", \"gender\": 2, \"id\": 1401806, \"job\": \"Still Photographer\", \"name\": \"Mark Fellman\"}, {\"credit_id\": \"54959f47c3a3681153002774\", \"department\": \"Lighting\", \"gender\": 0, \"id\": 1401807, \"job\": \"Lighting Technician\", \"name\": \"Scott Sprague\"}, {\"credit_id\": \"54959f8cc3a36831b8001df2\", \"department\": \"Visual Effects\", \"gender\": 0, \"id\": 1401808, \"job\": \"Animation Director\", \"name\": \"Jeremy Hollobon\"}, {\"credit_id\": \"54959fa0c3a36831b8001dfb\", \"department\": \"Visual Effects\", \"gender\": 0, \"id\": 1401809, \"job\": \"Animation Director\", \"name\": \"Orlando Meunier\"}, {\"credit_id\": \"54959fb6c3a3686af3003f54\", \"department\": \"Visual Effects\", \"gender\": 0, \"id\": 1401810, \"job\": \"Animation Director\", \"name\": \"Taisuke Tanimura\"}, {\"credit_id\": \"54959fd2c3a36831b8001e02\", \"department\": \"Costume & Make-Up\", \"gender\": 0, \"id\": 1401812, \"job\": \"Set Costumer\", \"name\": \"Lilia Mishel Acevedo\"}, {\"credit_id\": \"54959ff9c3a3686ae300440c\", \"department\": \"Costume & Make-Up\", \"gender\": 0, \"id\": 1401814, \"job\": \"Set Costumer\", \"name\": \"Alejandro M. Hernandez\"}, {\"credit_id\": \"5495a0ddc3a3686ae10046fe\", \"department\": \"Editing\", \"gender\": 0, \"id\": 1401815, \"job\": \"Digital Intermediate\", \"name\": \"Marvin Hall\"}, {\"credit_id\": \"5495a1f7c3a3686ae3004443\", \"department\": \"Production\", \"gender\": 0, \"id\": 1401816, \"job\": \"Publicist\", \"name\": \"Judy Alley\"}, {\"credit_id\": \"5592b29fc3a36869d100002f\", \"department\": \"Crew\", \"gender\": 0, \"id\": 1418381, \"job\": \"CG Supervisor\", \"name\": \"Mike Perry\"}, {\"credit_id\": \"5592b23a9251415df8001081\", \"department\": \"Crew\", \"gender\": 0, \"id\": 1426854, \"job\": \"CG Supervisor\", \"name\": \"Andrew Morley\"}, {\"credit_id\": \"55491e1192514104c40002d8\", \"department\": \"Art\", \"gender\": 0, \"id\": 1438901, \"job\": \"Conceptual Design\", \"name\": \"Seth Engstrom\"}, {\"credit_id\": \"5525d5809251417276002b06\", \"department\": \"Crew\", \"gender\": 0, \"id\": 1447362, \"job\": \"Visual Effects Art Director\", \"name\": \"Eric Oliver\"}, {\"credit_id\": \"554427ca925141586500312a\", \"department\": \"Visual Effects\", \"gender\": 0, \"id\": 1447503, \"job\": \"Modeling\", \"name\": \"Matsune Suzuki\"}, {\"credit_id\": \"551906889251415aab001c88\", \"department\": \"Art\", \"gender\": 0, \"id\": 1447524, \"job\": \"Art Department Manager\", \"name\": \"Paul Tobin\"}, {\"credit_id\": \"5592af8492514152cc0010de\", \"department\": \"Costume & Make-Up\", \"gender\": 0, \"id\": 1452643, \"job\": \"Hairstylist\", \"name\": \"Roxane Griffin\"}, {\"credit_id\": \"553d3c109251415852001318\", \"department\": \"Lighting\", \"gender\": 0, \"id\": 1453938, \"job\": \"Lighting Artist\", \"name\": \"Arun Ram-Mohan\"}, {\"credit_id\": \"5592af4692514152d5001355\", \"department\": \"Costume & Make-Up\", \"gender\": 0, \"id\": 1457305, \"job\": \"Makeup Artist\", \"name\": \"Georgia Lockhart-Adams\"}, {\"credit_id\": \"5592b2eac3a36877470012a5\", \"department\": \"Crew\", \"gender\": 0, \"id\": 1466035, \"job\": \"CG Supervisor\", \"name\": \"Thrain Shadbolt\"}, {\"credit_id\": \"5592b032c3a36877450015f1\", \"department\": \"Crew\", \"gender\": 0, \"id\": 1483220, \"job\": \"CG Supervisor\", \"name\": \"Brad Alexander\"}, {\"credit_id\": \"5592b05592514152d80012f6\", \"department\": \"Crew\", \"gender\": 0, \"id\": 1483221, \"job\": \"CG Supervisor\", \"name\": \"Shadi Almassizadeh\"}, {\"credit_id\": \"5592b090c3a36877570010b5\", \"department\": \"Crew\", \"gender\": 0, \"id\": 1483222, \"job\": \"CG Supervisor\", \"name\": \"Simon Clutterbuck\"}, {\"credit_id\": \"5592b0dbc3a368774b00112c\", \"department\": \"Crew\", \"gender\": 0, \"id\": 1483223, \"job\": \"CG Supervisor\", \"name\": \"Graeme Demmocks\"}, {\"credit_id\": \"5592b0fe92514152db0010c1\", \"department\": \"Crew\", \"gender\": 0, \"id\": 1483224, \"job\": \"CG Supervisor\", \"name\": \"Adrian Fernandes\"}, {\"credit_id\": \"5592b11f9251415df8001059\", \"department\": \"Crew\", \"gender\": 0, \"id\": 1483225, \"job\": \"CG Supervisor\", \"name\": \"Mitch Gates\"}, {\"credit_id\": \"5592b15dc3a3687745001645\", \"department\": \"Crew\", \"gender\": 0, \"id\": 1483226, \"job\": \"CG Supervisor\", \"name\": \"Jerry Kung\"}, {\"credit_id\": \"5592b18e925141645a0004ae\", \"department\": \"Crew\", \"gender\": 0, \"id\": 1483227, \"job\": \"CG Supervisor\", \"name\": \"Andy Lomas\"}, {\"credit_id\": \"5592b1bfc3a368775d0010e7\", \"department\": \"Crew\", \"gender\": 0, \"id\": 1483228, \"job\": \"CG Supervisor\", \"name\": \"Sebastian Marino\"}, {\"credit_id\": \"5592b2049251415df8001078\", \"department\": \"Crew\", \"gender\": 0, \"id\": 1483229, \"job\": \"CG Supervisor\", \"name\": \"Matthias Menz\"}, {\"credit_id\": \"5592b27b92514152d800136a\", \"department\": \"Crew\", \"gender\": 0, \"id\": 1483230, \"job\": \"CG Supervisor\", \"name\": \"Sergei Nevshupov\"}, {\"credit_id\": \"5592b2c3c3a36869e800003c\", \"department\": \"Crew\", \"gender\": 0, \"id\": 1483231, \"job\": \"CG Supervisor\", \"name\": \"Philippe Rebours\"}, {\"credit_id\": \"5592b317c3a36877470012af\", \"department\": \"Crew\", \"gender\": 0, \"id\": 1483232, \"job\": \"CG Supervisor\", \"name\": \"Michael Takarangi\"}, {\"credit_id\": \"5592b345c3a36877470012bb\", \"department\": \"Crew\", \"gender\": 0, \"id\": 1483233, \"job\": \"CG Supervisor\", \"name\": \"David Weitzberg\"}, {\"credit_id\": \"5592b37cc3a368775100113b\", \"department\": \"Crew\", \"gender\": 0, \"id\": 1483234, \"job\": \"CG Supervisor\", \"name\": \"Ben White\"}, {\"credit_id\": \"573c8e2f9251413f5d000094\", \"department\": \"Crew\", \"gender\": 1, \"id\": 1621932, \"job\": \"Stunts\", \"name\": \"Min Windle\"}]'"
      ]
     },
     "execution_count": 211,
     "metadata": {},
     "output_type": "execute_result"
    }
   ],
   "source": [
    "# handle crew\n",
    "\n",
    "movies.iloc[0]['crew']"
   ]
  },
  {
   "cell_type": "code",
   "execution_count": 212,
   "metadata": {},
   "outputs": [],
   "source": [
    "def fetch_director(text):\n",
    "    L = []\n",
    "    for i in ast.literal_eval(text):\n",
    "        if i['job'] == 'Director':\n",
    "            L.append(i['name'])\n",
    "            break\n",
    "    return L"
   ]
  },
  {
   "cell_type": "code",
   "execution_count": 213,
   "metadata": {},
   "outputs": [],
   "source": [
    "movies['crew'] = movies['crew'].apply(fetch_director)"
   ]
  },
  {
   "cell_type": "code",
   "execution_count": 214,
   "metadata": {},
   "outputs": [
    {
     "data": {
      "text/html": [
       "<div>\n",
       "<style scoped>\n",
       "    .dataframe tbody tr th:only-of-type {\n",
       "        vertical-align: middle;\n",
       "    }\n",
       "\n",
       "    .dataframe tbody tr th {\n",
       "        vertical-align: top;\n",
       "    }\n",
       "\n",
       "    .dataframe thead th {\n",
       "        text-align: right;\n",
       "    }\n",
       "</style>\n",
       "<table border=\"1\" class=\"dataframe\">\n",
       "  <thead>\n",
       "    <tr style=\"text-align: right;\">\n",
       "      <th></th>\n",
       "      <th>movie_id</th>\n",
       "      <th>title</th>\n",
       "      <th>overview</th>\n",
       "      <th>genres</th>\n",
       "      <th>keywords</th>\n",
       "      <th>cast</th>\n",
       "      <th>crew</th>\n",
       "      <th>release_date</th>\n",
       "      <th>vote_average</th>\n",
       "      <th>year</th>\n",
       "    </tr>\n",
       "  </thead>\n",
       "  <tbody>\n",
       "    <tr>\n",
       "      <th>0</th>\n",
       "      <td>19995</td>\n",
       "      <td>Avatar</td>\n",
       "      <td>In the 22nd century, a paraplegic Marine is di...</td>\n",
       "      <td>[Action, Adventure, Fantasy, Science Fiction]</td>\n",
       "      <td>[culture clash, future, space war, space colon...</td>\n",
       "      <td>[Sam Worthington, Zoe Saldana, Sigourney Weaver]</td>\n",
       "      <td>[James Cameron]</td>\n",
       "      <td>2009-12-10</td>\n",
       "      <td>7.2</td>\n",
       "      <td>2009</td>\n",
       "    </tr>\n",
       "    <tr>\n",
       "      <th>1</th>\n",
       "      <td>285</td>\n",
       "      <td>Pirates of the Caribbean: At World's End</td>\n",
       "      <td>Captain Barbossa, long believed to be dead, ha...</td>\n",
       "      <td>[Adventure, Fantasy, Action]</td>\n",
       "      <td>[ocean, drug abuse, exotic island, east india ...</td>\n",
       "      <td>[Johnny Depp, Orlando Bloom, Keira Knightley]</td>\n",
       "      <td>[Gore Verbinski]</td>\n",
       "      <td>2007-05-19</td>\n",
       "      <td>6.9</td>\n",
       "      <td>2007</td>\n",
       "    </tr>\n",
       "    <tr>\n",
       "      <th>2</th>\n",
       "      <td>206647</td>\n",
       "      <td>Spectre</td>\n",
       "      <td>A cryptic message from Bond’s past sends him o...</td>\n",
       "      <td>[Action, Adventure, Crime]</td>\n",
       "      <td>[spy, based on novel, secret agent, sequel, mi...</td>\n",
       "      <td>[Daniel Craig, Christoph Waltz, Léa Seydoux]</td>\n",
       "      <td>[Sam Mendes]</td>\n",
       "      <td>2015-10-26</td>\n",
       "      <td>6.3</td>\n",
       "      <td>2015</td>\n",
       "    </tr>\n",
       "    <tr>\n",
       "      <th>3</th>\n",
       "      <td>49026</td>\n",
       "      <td>The Dark Knight Rises</td>\n",
       "      <td>Following the death of District Attorney Harve...</td>\n",
       "      <td>[Action, Crime, Drama, Thriller]</td>\n",
       "      <td>[dc comics, crime fighter, terrorist, secret i...</td>\n",
       "      <td>[Christian Bale, Michael Caine, Gary Oldman]</td>\n",
       "      <td>[Christopher Nolan]</td>\n",
       "      <td>2012-07-16</td>\n",
       "      <td>7.6</td>\n",
       "      <td>2012</td>\n",
       "    </tr>\n",
       "    <tr>\n",
       "      <th>4</th>\n",
       "      <td>49529</td>\n",
       "      <td>John Carter</td>\n",
       "      <td>John Carter is a war-weary, former military ca...</td>\n",
       "      <td>[Action, Adventure, Science Fiction]</td>\n",
       "      <td>[based on novel, mars, medallion, space travel...</td>\n",
       "      <td>[Taylor Kitsch, Lynn Collins, Samantha Morton]</td>\n",
       "      <td>[Andrew Stanton]</td>\n",
       "      <td>2012-03-07</td>\n",
       "      <td>6.1</td>\n",
       "      <td>2012</td>\n",
       "    </tr>\n",
       "  </tbody>\n",
       "</table>\n",
       "</div>"
      ],
      "text/plain": [
       "   movie_id                                     title  \\\n",
       "0     19995                                    Avatar   \n",
       "1       285  Pirates of the Caribbean: At World's End   \n",
       "2    206647                                   Spectre   \n",
       "3     49026                     The Dark Knight Rises   \n",
       "4     49529                               John Carter   \n",
       "\n",
       "                                            overview  \\\n",
       "0  In the 22nd century, a paraplegic Marine is di...   \n",
       "1  Captain Barbossa, long believed to be dead, ha...   \n",
       "2  A cryptic message from Bond’s past sends him o...   \n",
       "3  Following the death of District Attorney Harve...   \n",
       "4  John Carter is a war-weary, former military ca...   \n",
       "\n",
       "                                          genres  \\\n",
       "0  [Action, Adventure, Fantasy, Science Fiction]   \n",
       "1                   [Adventure, Fantasy, Action]   \n",
       "2                     [Action, Adventure, Crime]   \n",
       "3               [Action, Crime, Drama, Thriller]   \n",
       "4           [Action, Adventure, Science Fiction]   \n",
       "\n",
       "                                            keywords  \\\n",
       "0  [culture clash, future, space war, space colon...   \n",
       "1  [ocean, drug abuse, exotic island, east india ...   \n",
       "2  [spy, based on novel, secret agent, sequel, mi...   \n",
       "3  [dc comics, crime fighter, terrorist, secret i...   \n",
       "4  [based on novel, mars, medallion, space travel...   \n",
       "\n",
       "                                               cast                 crew  \\\n",
       "0  [Sam Worthington, Zoe Saldana, Sigourney Weaver]      [James Cameron]   \n",
       "1     [Johnny Depp, Orlando Bloom, Keira Knightley]     [Gore Verbinski]   \n",
       "2      [Daniel Craig, Christoph Waltz, Léa Seydoux]         [Sam Mendes]   \n",
       "3      [Christian Bale, Michael Caine, Gary Oldman]  [Christopher Nolan]   \n",
       "4    [Taylor Kitsch, Lynn Collins, Samantha Morton]     [Andrew Stanton]   \n",
       "\n",
       "  release_date  vote_average  year  \n",
       "0   2009-12-10           7.2  2009  \n",
       "1   2007-05-19           6.9  2007  \n",
       "2   2015-10-26           6.3  2015  \n",
       "3   2012-07-16           7.6  2012  \n",
       "4   2012-03-07           6.1  2012  "
      ]
     },
     "execution_count": 214,
     "metadata": {},
     "output_type": "execute_result"
    }
   ],
   "source": [
    "movies.head()"
   ]
  },
  {
   "cell_type": "code",
   "execution_count": 215,
   "metadata": {},
   "outputs": [
    {
     "data": {
      "text/plain": [
       "'In the 22nd century, a paraplegic Marine is dispatched to the moon Pandora on a unique mission, but becomes torn between following orders and protecting an alien civilization.'"
      ]
     },
     "execution_count": 215,
     "metadata": {},
     "output_type": "execute_result"
    }
   ],
   "source": [
    "# handle overview (converting to list)\n",
    "\n",
    "movies.iloc[0]['overview']"
   ]
  },
  {
   "cell_type": "code",
   "execution_count": 216,
   "metadata": {},
   "outputs": [
    {
     "data": {
      "text/html": [
       "<div>\n",
       "<style scoped>\n",
       "    .dataframe tbody tr th:only-of-type {\n",
       "        vertical-align: middle;\n",
       "    }\n",
       "\n",
       "    .dataframe tbody tr th {\n",
       "        vertical-align: top;\n",
       "    }\n",
       "\n",
       "    .dataframe thead th {\n",
       "        text-align: right;\n",
       "    }\n",
       "</style>\n",
       "<table border=\"1\" class=\"dataframe\">\n",
       "  <thead>\n",
       "    <tr style=\"text-align: right;\">\n",
       "      <th></th>\n",
       "      <th>movie_id</th>\n",
       "      <th>title</th>\n",
       "      <th>overview</th>\n",
       "      <th>genres</th>\n",
       "      <th>keywords</th>\n",
       "      <th>cast</th>\n",
       "      <th>crew</th>\n",
       "      <th>release_date</th>\n",
       "      <th>vote_average</th>\n",
       "      <th>year</th>\n",
       "    </tr>\n",
       "  </thead>\n",
       "  <tbody>\n",
       "    <tr>\n",
       "      <th>546</th>\n",
       "      <td>211672</td>\n",
       "      <td>Minions</td>\n",
       "      <td>[Minions, Stuart,, Kevin, and, Bob, are, recru...</td>\n",
       "      <td>[Family, Animation, Adventure, Comedy]</td>\n",
       "      <td>[assistant, aftercreditsstinger, duringcredits...</td>\n",
       "      <td>[Sandra Bullock, Jon Hamm, Michael Keaton]</td>\n",
       "      <td>[Kyle Balda]</td>\n",
       "      <td>2015-06-17</td>\n",
       "      <td>6.4</td>\n",
       "      <td>2015</td>\n",
       "    </tr>\n",
       "    <tr>\n",
       "      <th>1492</th>\n",
       "      <td>1892</td>\n",
       "      <td>Return of the Jedi</td>\n",
       "      <td>[As, Rebel, leaders, map, their, strategy, for...</td>\n",
       "      <td>[Adventure, Action, Science Fiction]</td>\n",
       "      <td>[rebel, brother sister relationship, emperor, ...</td>\n",
       "      <td>[Mark Hamill, Harrison Ford, Carrie Fisher]</td>\n",
       "      <td>[Richard Marquand]</td>\n",
       "      <td>1983-05-23</td>\n",
       "      <td>7.9</td>\n",
       "      <td>1983</td>\n",
       "    </tr>\n",
       "    <tr>\n",
       "      <th>3621</th>\n",
       "      <td>17339</td>\n",
       "      <td>Force 10 from Navarone</td>\n",
       "      <td>[Mallory, and, Miller, are, back., The, surviv...</td>\n",
       "      <td>[Action, Adventure, War, Thriller]</td>\n",
       "      <td>[gun, traitor, nazis, bridge, major, colonel, ...</td>\n",
       "      <td>[Harrison Ford, Robert Shaw, Barbara Bach]</td>\n",
       "      <td>[Guy Hamilton]</td>\n",
       "      <td>1978-11-01</td>\n",
       "      <td>6.4</td>\n",
       "      <td>1978</td>\n",
       "    </tr>\n",
       "    <tr>\n",
       "      <th>2800</th>\n",
       "      <td>14574</td>\n",
       "      <td>The Boy in the Striped Pyjamas</td>\n",
       "      <td>[When, his, family, moves, from, their, home, ...</td>\n",
       "      <td>[War, Drama]</td>\n",
       "      <td>[nationalism, concentration camp, world war ii...</td>\n",
       "      <td>[Asa Butterfield, Jack Scanlon, Vera Farmiga]</td>\n",
       "      <td>[Mark Herman]</td>\n",
       "      <td>2008-05-07</td>\n",
       "      <td>7.7</td>\n",
       "      <td>2008</td>\n",
       "    </tr>\n",
       "  </tbody>\n",
       "</table>\n",
       "</div>"
      ],
      "text/plain": [
       "      movie_id                           title  \\\n",
       "546     211672                         Minions   \n",
       "1492      1892              Return of the Jedi   \n",
       "3621     17339          Force 10 from Navarone   \n",
       "2800     14574  The Boy in the Striped Pyjamas   \n",
       "\n",
       "                                               overview  \\\n",
       "546   [Minions, Stuart,, Kevin, and, Bob, are, recru...   \n",
       "1492  [As, Rebel, leaders, map, their, strategy, for...   \n",
       "3621  [Mallory, and, Miller, are, back., The, surviv...   \n",
       "2800  [When, his, family, moves, from, their, home, ...   \n",
       "\n",
       "                                      genres  \\\n",
       "546   [Family, Animation, Adventure, Comedy]   \n",
       "1492    [Adventure, Action, Science Fiction]   \n",
       "3621      [Action, Adventure, War, Thriller]   \n",
       "2800                            [War, Drama]   \n",
       "\n",
       "                                               keywords  \\\n",
       "546   [assistant, aftercreditsstinger, duringcredits...   \n",
       "1492  [rebel, brother sister relationship, emperor, ...   \n",
       "3621  [gun, traitor, nazis, bridge, major, colonel, ...   \n",
       "2800  [nationalism, concentration camp, world war ii...   \n",
       "\n",
       "                                               cast                crew  \\\n",
       "546      [Sandra Bullock, Jon Hamm, Michael Keaton]        [Kyle Balda]   \n",
       "1492    [Mark Hamill, Harrison Ford, Carrie Fisher]  [Richard Marquand]   \n",
       "3621     [Harrison Ford, Robert Shaw, Barbara Bach]      [Guy Hamilton]   \n",
       "2800  [Asa Butterfield, Jack Scanlon, Vera Farmiga]       [Mark Herman]   \n",
       "\n",
       "     release_date  vote_average  year  \n",
       "546    2015-06-17           6.4  2015  \n",
       "1492   1983-05-23           7.9  1983  \n",
       "3621   1978-11-01           6.4  1978  \n",
       "2800   2008-05-07           7.7  2008  "
      ]
     },
     "execution_count": 216,
     "metadata": {},
     "output_type": "execute_result"
    }
   ],
   "source": [
    "movies['overview'] = movies['overview'].apply(lambda x:x.split())\n",
    "movies.sample(4)"
   ]
  },
  {
   "cell_type": "code",
   "execution_count": 217,
   "metadata": {},
   "outputs": [
    {
     "data": {
      "text/plain": [
       "['In',\n",
       " 'the',\n",
       " '22nd',\n",
       " 'century,',\n",
       " 'a',\n",
       " 'paraplegic',\n",
       " 'Marine',\n",
       " 'is',\n",
       " 'dispatched',\n",
       " 'to',\n",
       " 'the',\n",
       " 'moon',\n",
       " 'Pandora',\n",
       " 'on',\n",
       " 'a',\n",
       " 'unique',\n",
       " 'mission,',\n",
       " 'but',\n",
       " 'becomes',\n",
       " 'torn',\n",
       " 'between',\n",
       " 'following',\n",
       " 'orders',\n",
       " 'and',\n",
       " 'protecting',\n",
       " 'an',\n",
       " 'alien',\n",
       " 'civilization.']"
      ]
     },
     "execution_count": 217,
     "metadata": {},
     "output_type": "execute_result"
    }
   ],
   "source": [
    "movies.iloc[0]['overview']"
   ]
  },
  {
   "cell_type": "code",
   "execution_count": 218,
   "metadata": {},
   "outputs": [],
   "source": [
    "# now removing space like that \n",
    "'Anna Kendrick'\n",
    "'AnnaKendrick'\n",
    "\n",
    "def remove_space(L):\n",
    "    L1 = []\n",
    "    for i in L:\n",
    "        L1.append(i.replace(\" \",\"\"))\n",
    "    return L1"
   ]
  },
  {
   "cell_type": "code",
   "execution_count": 219,
   "metadata": {},
   "outputs": [],
   "source": [
    "movies['cast'] = movies['cast'].apply(remove_space)\n",
    "movies['crew'] = movies['crew'].apply(remove_space)\n",
    "movies['genres'] = movies['genres'].apply(remove_space)\n",
    "movies['keywords'] = movies['keywords'].apply(remove_space)"
   ]
  },
  {
   "cell_type": "code",
   "execution_count": 220,
   "metadata": {},
   "outputs": [
    {
     "data": {
      "text/html": [
       "<div>\n",
       "<style scoped>\n",
       "    .dataframe tbody tr th:only-of-type {\n",
       "        vertical-align: middle;\n",
       "    }\n",
       "\n",
       "    .dataframe tbody tr th {\n",
       "        vertical-align: top;\n",
       "    }\n",
       "\n",
       "    .dataframe thead th {\n",
       "        text-align: right;\n",
       "    }\n",
       "</style>\n",
       "<table border=\"1\" class=\"dataframe\">\n",
       "  <thead>\n",
       "    <tr style=\"text-align: right;\">\n",
       "      <th></th>\n",
       "      <th>movie_id</th>\n",
       "      <th>title</th>\n",
       "      <th>overview</th>\n",
       "      <th>genres</th>\n",
       "      <th>keywords</th>\n",
       "      <th>cast</th>\n",
       "      <th>crew</th>\n",
       "      <th>release_date</th>\n",
       "      <th>vote_average</th>\n",
       "      <th>year</th>\n",
       "    </tr>\n",
       "  </thead>\n",
       "  <tbody>\n",
       "    <tr>\n",
       "      <th>0</th>\n",
       "      <td>19995</td>\n",
       "      <td>Avatar</td>\n",
       "      <td>[In, the, 22nd, century,, a, paraplegic, Marin...</td>\n",
       "      <td>[Action, Adventure, Fantasy, ScienceFiction]</td>\n",
       "      <td>[cultureclash, future, spacewar, spacecolony, ...</td>\n",
       "      <td>[SamWorthington, ZoeSaldana, SigourneyWeaver]</td>\n",
       "      <td>[JamesCameron]</td>\n",
       "      <td>2009-12-10</td>\n",
       "      <td>7.2</td>\n",
       "      <td>2009</td>\n",
       "    </tr>\n",
       "    <tr>\n",
       "      <th>1</th>\n",
       "      <td>285</td>\n",
       "      <td>Pirates of the Caribbean: At World's End</td>\n",
       "      <td>[Captain, Barbossa,, long, believed, to, be, d...</td>\n",
       "      <td>[Adventure, Fantasy, Action]</td>\n",
       "      <td>[ocean, drugabuse, exoticisland, eastindiatrad...</td>\n",
       "      <td>[JohnnyDepp, OrlandoBloom, KeiraKnightley]</td>\n",
       "      <td>[GoreVerbinski]</td>\n",
       "      <td>2007-05-19</td>\n",
       "      <td>6.9</td>\n",
       "      <td>2007</td>\n",
       "    </tr>\n",
       "    <tr>\n",
       "      <th>2</th>\n",
       "      <td>206647</td>\n",
       "      <td>Spectre</td>\n",
       "      <td>[A, cryptic, message, from, Bond’s, past, send...</td>\n",
       "      <td>[Action, Adventure, Crime]</td>\n",
       "      <td>[spy, basedonnovel, secretagent, sequel, mi6, ...</td>\n",
       "      <td>[DanielCraig, ChristophWaltz, LéaSeydoux]</td>\n",
       "      <td>[SamMendes]</td>\n",
       "      <td>2015-10-26</td>\n",
       "      <td>6.3</td>\n",
       "      <td>2015</td>\n",
       "    </tr>\n",
       "    <tr>\n",
       "      <th>3</th>\n",
       "      <td>49026</td>\n",
       "      <td>The Dark Knight Rises</td>\n",
       "      <td>[Following, the, death, of, District, Attorney...</td>\n",
       "      <td>[Action, Crime, Drama, Thriller]</td>\n",
       "      <td>[dccomics, crimefighter, terrorist, secretiden...</td>\n",
       "      <td>[ChristianBale, MichaelCaine, GaryOldman]</td>\n",
       "      <td>[ChristopherNolan]</td>\n",
       "      <td>2012-07-16</td>\n",
       "      <td>7.6</td>\n",
       "      <td>2012</td>\n",
       "    </tr>\n",
       "    <tr>\n",
       "      <th>4</th>\n",
       "      <td>49529</td>\n",
       "      <td>John Carter</td>\n",
       "      <td>[John, Carter, is, a, war-weary,, former, mili...</td>\n",
       "      <td>[Action, Adventure, ScienceFiction]</td>\n",
       "      <td>[basedonnovel, mars, medallion, spacetravel, p...</td>\n",
       "      <td>[TaylorKitsch, LynnCollins, SamanthaMorton]</td>\n",
       "      <td>[AndrewStanton]</td>\n",
       "      <td>2012-03-07</td>\n",
       "      <td>6.1</td>\n",
       "      <td>2012</td>\n",
       "    </tr>\n",
       "  </tbody>\n",
       "</table>\n",
       "</div>"
      ],
      "text/plain": [
       "   movie_id                                     title  \\\n",
       "0     19995                                    Avatar   \n",
       "1       285  Pirates of the Caribbean: At World's End   \n",
       "2    206647                                   Spectre   \n",
       "3     49026                     The Dark Knight Rises   \n",
       "4     49529                               John Carter   \n",
       "\n",
       "                                            overview  \\\n",
       "0  [In, the, 22nd, century,, a, paraplegic, Marin...   \n",
       "1  [Captain, Barbossa,, long, believed, to, be, d...   \n",
       "2  [A, cryptic, message, from, Bond’s, past, send...   \n",
       "3  [Following, the, death, of, District, Attorney...   \n",
       "4  [John, Carter, is, a, war-weary,, former, mili...   \n",
       "\n",
       "                                         genres  \\\n",
       "0  [Action, Adventure, Fantasy, ScienceFiction]   \n",
       "1                  [Adventure, Fantasy, Action]   \n",
       "2                    [Action, Adventure, Crime]   \n",
       "3              [Action, Crime, Drama, Thriller]   \n",
       "4           [Action, Adventure, ScienceFiction]   \n",
       "\n",
       "                                            keywords  \\\n",
       "0  [cultureclash, future, spacewar, spacecolony, ...   \n",
       "1  [ocean, drugabuse, exoticisland, eastindiatrad...   \n",
       "2  [spy, basedonnovel, secretagent, sequel, mi6, ...   \n",
       "3  [dccomics, crimefighter, terrorist, secretiden...   \n",
       "4  [basedonnovel, mars, medallion, spacetravel, p...   \n",
       "\n",
       "                                            cast                crew  \\\n",
       "0  [SamWorthington, ZoeSaldana, SigourneyWeaver]      [JamesCameron]   \n",
       "1     [JohnnyDepp, OrlandoBloom, KeiraKnightley]     [GoreVerbinski]   \n",
       "2      [DanielCraig, ChristophWaltz, LéaSeydoux]         [SamMendes]   \n",
       "3      [ChristianBale, MichaelCaine, GaryOldman]  [ChristopherNolan]   \n",
       "4    [TaylorKitsch, LynnCollins, SamanthaMorton]     [AndrewStanton]   \n",
       "\n",
       "  release_date  vote_average  year  \n",
       "0   2009-12-10           7.2  2009  \n",
       "1   2007-05-19           6.9  2007  \n",
       "2   2015-10-26           6.3  2015  \n",
       "3   2012-07-16           7.6  2012  \n",
       "4   2012-03-07           6.1  2012  "
      ]
     },
     "execution_count": 220,
     "metadata": {},
     "output_type": "execute_result"
    }
   ],
   "source": [
    "movies.head()"
   ]
  },
  {
   "cell_type": "code",
   "execution_count": 221,
   "metadata": {},
   "outputs": [],
   "source": [
    "# Concatinate all\n",
    "movies['tags'] = movies['overview'] + movies['genres'] + movies['keywords'] + movies['cast'] + movies['crew']"
   ]
  },
  {
   "cell_type": "code",
   "execution_count": 222,
   "metadata": {},
   "outputs": [
    {
     "data": {
      "text/html": [
       "<div>\n",
       "<style scoped>\n",
       "    .dataframe tbody tr th:only-of-type {\n",
       "        vertical-align: middle;\n",
       "    }\n",
       "\n",
       "    .dataframe tbody tr th {\n",
       "        vertical-align: top;\n",
       "    }\n",
       "\n",
       "    .dataframe thead th {\n",
       "        text-align: right;\n",
       "    }\n",
       "</style>\n",
       "<table border=\"1\" class=\"dataframe\">\n",
       "  <thead>\n",
       "    <tr style=\"text-align: right;\">\n",
       "      <th></th>\n",
       "      <th>movie_id</th>\n",
       "      <th>title</th>\n",
       "      <th>overview</th>\n",
       "      <th>genres</th>\n",
       "      <th>keywords</th>\n",
       "      <th>cast</th>\n",
       "      <th>crew</th>\n",
       "      <th>release_date</th>\n",
       "      <th>vote_average</th>\n",
       "      <th>year</th>\n",
       "      <th>tags</th>\n",
       "    </tr>\n",
       "  </thead>\n",
       "  <tbody>\n",
       "    <tr>\n",
       "      <th>0</th>\n",
       "      <td>19995</td>\n",
       "      <td>Avatar</td>\n",
       "      <td>[In, the, 22nd, century,, a, paraplegic, Marin...</td>\n",
       "      <td>[Action, Adventure, Fantasy, ScienceFiction]</td>\n",
       "      <td>[cultureclash, future, spacewar, spacecolony, ...</td>\n",
       "      <td>[SamWorthington, ZoeSaldana, SigourneyWeaver]</td>\n",
       "      <td>[JamesCameron]</td>\n",
       "      <td>2009-12-10</td>\n",
       "      <td>7.2</td>\n",
       "      <td>2009</td>\n",
       "      <td>[In, the, 22nd, century,, a, paraplegic, Marin...</td>\n",
       "    </tr>\n",
       "    <tr>\n",
       "      <th>1</th>\n",
       "      <td>285</td>\n",
       "      <td>Pirates of the Caribbean: At World's End</td>\n",
       "      <td>[Captain, Barbossa,, long, believed, to, be, d...</td>\n",
       "      <td>[Adventure, Fantasy, Action]</td>\n",
       "      <td>[ocean, drugabuse, exoticisland, eastindiatrad...</td>\n",
       "      <td>[JohnnyDepp, OrlandoBloom, KeiraKnightley]</td>\n",
       "      <td>[GoreVerbinski]</td>\n",
       "      <td>2007-05-19</td>\n",
       "      <td>6.9</td>\n",
       "      <td>2007</td>\n",
       "      <td>[Captain, Barbossa,, long, believed, to, be, d...</td>\n",
       "    </tr>\n",
       "    <tr>\n",
       "      <th>2</th>\n",
       "      <td>206647</td>\n",
       "      <td>Spectre</td>\n",
       "      <td>[A, cryptic, message, from, Bond’s, past, send...</td>\n",
       "      <td>[Action, Adventure, Crime]</td>\n",
       "      <td>[spy, basedonnovel, secretagent, sequel, mi6, ...</td>\n",
       "      <td>[DanielCraig, ChristophWaltz, LéaSeydoux]</td>\n",
       "      <td>[SamMendes]</td>\n",
       "      <td>2015-10-26</td>\n",
       "      <td>6.3</td>\n",
       "      <td>2015</td>\n",
       "      <td>[A, cryptic, message, from, Bond’s, past, send...</td>\n",
       "    </tr>\n",
       "    <tr>\n",
       "      <th>3</th>\n",
       "      <td>49026</td>\n",
       "      <td>The Dark Knight Rises</td>\n",
       "      <td>[Following, the, death, of, District, Attorney...</td>\n",
       "      <td>[Action, Crime, Drama, Thriller]</td>\n",
       "      <td>[dccomics, crimefighter, terrorist, secretiden...</td>\n",
       "      <td>[ChristianBale, MichaelCaine, GaryOldman]</td>\n",
       "      <td>[ChristopherNolan]</td>\n",
       "      <td>2012-07-16</td>\n",
       "      <td>7.6</td>\n",
       "      <td>2012</td>\n",
       "      <td>[Following, the, death, of, District, Attorney...</td>\n",
       "    </tr>\n",
       "    <tr>\n",
       "      <th>4</th>\n",
       "      <td>49529</td>\n",
       "      <td>John Carter</td>\n",
       "      <td>[John, Carter, is, a, war-weary,, former, mili...</td>\n",
       "      <td>[Action, Adventure, ScienceFiction]</td>\n",
       "      <td>[basedonnovel, mars, medallion, spacetravel, p...</td>\n",
       "      <td>[TaylorKitsch, LynnCollins, SamanthaMorton]</td>\n",
       "      <td>[AndrewStanton]</td>\n",
       "      <td>2012-03-07</td>\n",
       "      <td>6.1</td>\n",
       "      <td>2012</td>\n",
       "      <td>[John, Carter, is, a, war-weary,, former, mili...</td>\n",
       "    </tr>\n",
       "  </tbody>\n",
       "</table>\n",
       "</div>"
      ],
      "text/plain": [
       "   movie_id                                     title  \\\n",
       "0     19995                                    Avatar   \n",
       "1       285  Pirates of the Caribbean: At World's End   \n",
       "2    206647                                   Spectre   \n",
       "3     49026                     The Dark Knight Rises   \n",
       "4     49529                               John Carter   \n",
       "\n",
       "                                            overview  \\\n",
       "0  [In, the, 22nd, century,, a, paraplegic, Marin...   \n",
       "1  [Captain, Barbossa,, long, believed, to, be, d...   \n",
       "2  [A, cryptic, message, from, Bond’s, past, send...   \n",
       "3  [Following, the, death, of, District, Attorney...   \n",
       "4  [John, Carter, is, a, war-weary,, former, mili...   \n",
       "\n",
       "                                         genres  \\\n",
       "0  [Action, Adventure, Fantasy, ScienceFiction]   \n",
       "1                  [Adventure, Fantasy, Action]   \n",
       "2                    [Action, Adventure, Crime]   \n",
       "3              [Action, Crime, Drama, Thriller]   \n",
       "4           [Action, Adventure, ScienceFiction]   \n",
       "\n",
       "                                            keywords  \\\n",
       "0  [cultureclash, future, spacewar, spacecolony, ...   \n",
       "1  [ocean, drugabuse, exoticisland, eastindiatrad...   \n",
       "2  [spy, basedonnovel, secretagent, sequel, mi6, ...   \n",
       "3  [dccomics, crimefighter, terrorist, secretiden...   \n",
       "4  [basedonnovel, mars, medallion, spacetravel, p...   \n",
       "\n",
       "                                            cast                crew  \\\n",
       "0  [SamWorthington, ZoeSaldana, SigourneyWeaver]      [JamesCameron]   \n",
       "1     [JohnnyDepp, OrlandoBloom, KeiraKnightley]     [GoreVerbinski]   \n",
       "2      [DanielCraig, ChristophWaltz, LéaSeydoux]         [SamMendes]   \n",
       "3      [ChristianBale, MichaelCaine, GaryOldman]  [ChristopherNolan]   \n",
       "4    [TaylorKitsch, LynnCollins, SamanthaMorton]     [AndrewStanton]   \n",
       "\n",
       "  release_date  vote_average  year  \\\n",
       "0   2009-12-10           7.2  2009   \n",
       "1   2007-05-19           6.9  2007   \n",
       "2   2015-10-26           6.3  2015   \n",
       "3   2012-07-16           7.6  2012   \n",
       "4   2012-03-07           6.1  2012   \n",
       "\n",
       "                                                tags  \n",
       "0  [In, the, 22nd, century,, a, paraplegic, Marin...  \n",
       "1  [Captain, Barbossa,, long, believed, to, be, d...  \n",
       "2  [A, cryptic, message, from, Bond’s, past, send...  \n",
       "3  [Following, the, death, of, District, Attorney...  \n",
       "4  [John, Carter, is, a, war-weary,, former, mili...  "
      ]
     },
     "execution_count": 222,
     "metadata": {},
     "output_type": "execute_result"
    }
   ],
   "source": [
    "movies.head()"
   ]
  },
  {
   "cell_type": "code",
   "execution_count": 223,
   "metadata": {},
   "outputs": [
    {
     "data": {
      "text/plain": [
       "['In',\n",
       " 'the',\n",
       " '22nd',\n",
       " 'century,',\n",
       " 'a',\n",
       " 'paraplegic',\n",
       " 'Marine',\n",
       " 'is',\n",
       " 'dispatched',\n",
       " 'to',\n",
       " 'the',\n",
       " 'moon',\n",
       " 'Pandora',\n",
       " 'on',\n",
       " 'a',\n",
       " 'unique',\n",
       " 'mission,',\n",
       " 'but',\n",
       " 'becomes',\n",
       " 'torn',\n",
       " 'between',\n",
       " 'following',\n",
       " 'orders',\n",
       " 'and',\n",
       " 'protecting',\n",
       " 'an',\n",
       " 'alien',\n",
       " 'civilization.',\n",
       " 'Action',\n",
       " 'Adventure',\n",
       " 'Fantasy',\n",
       " 'ScienceFiction',\n",
       " 'cultureclash',\n",
       " 'future',\n",
       " 'spacewar',\n",
       " 'spacecolony',\n",
       " 'society',\n",
       " 'spacetravel',\n",
       " 'futuristic',\n",
       " 'romance',\n",
       " 'space',\n",
       " 'alien',\n",
       " 'tribe',\n",
       " 'alienplanet',\n",
       " 'cgi',\n",
       " 'marine',\n",
       " 'soldier',\n",
       " 'battle',\n",
       " 'loveaffair',\n",
       " 'antiwar',\n",
       " 'powerrelations',\n",
       " 'mindandsoul',\n",
       " '3d',\n",
       " 'SamWorthington',\n",
       " 'ZoeSaldana',\n",
       " 'SigourneyWeaver',\n",
       " 'JamesCameron']"
      ]
     },
     "execution_count": 223,
     "metadata": {},
     "output_type": "execute_result"
    }
   ],
   "source": [
    "movies.iloc[0]['tags']"
   ]
  },
  {
   "cell_type": "code",
   "execution_count": 224,
   "metadata": {},
   "outputs": [],
   "source": [
    "# droping those extra columns\n",
    "new_df = movies[['movie_id', 'title', 'tags', 'year', 'vote_average']]"
   ]
  },
  {
   "cell_type": "code",
   "execution_count": 225,
   "metadata": {},
   "outputs": [
    {
     "data": {
      "text/html": [
       "<div>\n",
       "<style scoped>\n",
       "    .dataframe tbody tr th:only-of-type {\n",
       "        vertical-align: middle;\n",
       "    }\n",
       "\n",
       "    .dataframe tbody tr th {\n",
       "        vertical-align: top;\n",
       "    }\n",
       "\n",
       "    .dataframe thead th {\n",
       "        text-align: right;\n",
       "    }\n",
       "</style>\n",
       "<table border=\"1\" class=\"dataframe\">\n",
       "  <thead>\n",
       "    <tr style=\"text-align: right;\">\n",
       "      <th></th>\n",
       "      <th>movie_id</th>\n",
       "      <th>title</th>\n",
       "      <th>tags</th>\n",
       "      <th>year</th>\n",
       "      <th>vote_average</th>\n",
       "    </tr>\n",
       "  </thead>\n",
       "  <tbody>\n",
       "    <tr>\n",
       "      <th>0</th>\n",
       "      <td>19995</td>\n",
       "      <td>Avatar</td>\n",
       "      <td>[In, the, 22nd, century,, a, paraplegic, Marin...</td>\n",
       "      <td>2009</td>\n",
       "      <td>7.2</td>\n",
       "    </tr>\n",
       "    <tr>\n",
       "      <th>1</th>\n",
       "      <td>285</td>\n",
       "      <td>Pirates of the Caribbean: At World's End</td>\n",
       "      <td>[Captain, Barbossa,, long, believed, to, be, d...</td>\n",
       "      <td>2007</td>\n",
       "      <td>6.9</td>\n",
       "    </tr>\n",
       "    <tr>\n",
       "      <th>2</th>\n",
       "      <td>206647</td>\n",
       "      <td>Spectre</td>\n",
       "      <td>[A, cryptic, message, from, Bond’s, past, send...</td>\n",
       "      <td>2015</td>\n",
       "      <td>6.3</td>\n",
       "    </tr>\n",
       "    <tr>\n",
       "      <th>3</th>\n",
       "      <td>49026</td>\n",
       "      <td>The Dark Knight Rises</td>\n",
       "      <td>[Following, the, death, of, District, Attorney...</td>\n",
       "      <td>2012</td>\n",
       "      <td>7.6</td>\n",
       "    </tr>\n",
       "    <tr>\n",
       "      <th>4</th>\n",
       "      <td>49529</td>\n",
       "      <td>John Carter</td>\n",
       "      <td>[John, Carter, is, a, war-weary,, former, mili...</td>\n",
       "      <td>2012</td>\n",
       "      <td>6.1</td>\n",
       "    </tr>\n",
       "  </tbody>\n",
       "</table>\n",
       "</div>"
      ],
      "text/plain": [
       "   movie_id                                     title  \\\n",
       "0     19995                                    Avatar   \n",
       "1       285  Pirates of the Caribbean: At World's End   \n",
       "2    206647                                   Spectre   \n",
       "3     49026                     The Dark Knight Rises   \n",
       "4     49529                               John Carter   \n",
       "\n",
       "                                                tags  year  vote_average  \n",
       "0  [In, the, 22nd, century,, a, paraplegic, Marin...  2009           7.2  \n",
       "1  [Captain, Barbossa,, long, believed, to, be, d...  2007           6.9  \n",
       "2  [A, cryptic, message, from, Bond’s, past, send...  2015           6.3  \n",
       "3  [Following, the, death, of, District, Attorney...  2012           7.6  \n",
       "4  [John, Carter, is, a, war-weary,, former, mili...  2012           6.1  "
      ]
     },
     "execution_count": 225,
     "metadata": {},
     "output_type": "execute_result"
    }
   ],
   "source": [
    "new_df.head()"
   ]
  },
  {
   "cell_type": "code",
   "execution_count": 226,
   "metadata": {},
   "outputs": [
    {
     "name": "stderr",
     "output_type": "stream",
     "text": [
      "/var/folders/cc/gfk9jr990pl4qc5h0062vkw00000gn/T/ipykernel_15121/3674298559.py:2: SettingWithCopyWarning: \n",
      "A value is trying to be set on a copy of a slice from a DataFrame.\n",
      "Try using .loc[row_indexer,col_indexer] = value instead\n",
      "\n",
      "See the caveats in the documentation: https://pandas.pydata.org/pandas-docs/stable/user_guide/indexing.html#returning-a-view-versus-a-copy\n",
      "  new_df['tags'] = new_df['tags'].apply(lambda x: \" \".join(x))\n"
     ]
    },
    {
     "data": {
      "text/html": [
       "<div>\n",
       "<style scoped>\n",
       "    .dataframe tbody tr th:only-of-type {\n",
       "        vertical-align: middle;\n",
       "    }\n",
       "\n",
       "    .dataframe tbody tr th {\n",
       "        vertical-align: top;\n",
       "    }\n",
       "\n",
       "    .dataframe thead th {\n",
       "        text-align: right;\n",
       "    }\n",
       "</style>\n",
       "<table border=\"1\" class=\"dataframe\">\n",
       "  <thead>\n",
       "    <tr style=\"text-align: right;\">\n",
       "      <th></th>\n",
       "      <th>movie_id</th>\n",
       "      <th>title</th>\n",
       "      <th>tags</th>\n",
       "      <th>year</th>\n",
       "      <th>vote_average</th>\n",
       "    </tr>\n",
       "  </thead>\n",
       "  <tbody>\n",
       "    <tr>\n",
       "      <th>0</th>\n",
       "      <td>19995</td>\n",
       "      <td>Avatar</td>\n",
       "      <td>In the 22nd century, a paraplegic Marine is di...</td>\n",
       "      <td>2009</td>\n",
       "      <td>7.2</td>\n",
       "    </tr>\n",
       "    <tr>\n",
       "      <th>1</th>\n",
       "      <td>285</td>\n",
       "      <td>Pirates of the Caribbean: At World's End</td>\n",
       "      <td>Captain Barbossa, long believed to be dead, ha...</td>\n",
       "      <td>2007</td>\n",
       "      <td>6.9</td>\n",
       "    </tr>\n",
       "    <tr>\n",
       "      <th>2</th>\n",
       "      <td>206647</td>\n",
       "      <td>Spectre</td>\n",
       "      <td>A cryptic message from Bond’s past sends him o...</td>\n",
       "      <td>2015</td>\n",
       "      <td>6.3</td>\n",
       "    </tr>\n",
       "    <tr>\n",
       "      <th>3</th>\n",
       "      <td>49026</td>\n",
       "      <td>The Dark Knight Rises</td>\n",
       "      <td>Following the death of District Attorney Harve...</td>\n",
       "      <td>2012</td>\n",
       "      <td>7.6</td>\n",
       "    </tr>\n",
       "    <tr>\n",
       "      <th>4</th>\n",
       "      <td>49529</td>\n",
       "      <td>John Carter</td>\n",
       "      <td>John Carter is a war-weary, former military ca...</td>\n",
       "      <td>2012</td>\n",
       "      <td>6.1</td>\n",
       "    </tr>\n",
       "  </tbody>\n",
       "</table>\n",
       "</div>"
      ],
      "text/plain": [
       "   movie_id                                     title  \\\n",
       "0     19995                                    Avatar   \n",
       "1       285  Pirates of the Caribbean: At World's End   \n",
       "2    206647                                   Spectre   \n",
       "3     49026                     The Dark Knight Rises   \n",
       "4     49529                               John Carter   \n",
       "\n",
       "                                                tags  year  vote_average  \n",
       "0  In the 22nd century, a paraplegic Marine is di...  2009           7.2  \n",
       "1  Captain Barbossa, long believed to be dead, ha...  2007           6.9  \n",
       "2  A cryptic message from Bond’s past sends him o...  2015           6.3  \n",
       "3  Following the death of District Attorney Harve...  2012           7.6  \n",
       "4  John Carter is a war-weary, former military ca...  2012           6.1  "
      ]
     },
     "execution_count": 226,
     "metadata": {},
     "output_type": "execute_result"
    }
   ],
   "source": [
    "# Converting list to str\n",
    "new_df['tags'] = new_df['tags'].apply(lambda x: \" \".join(x))\n",
    "new_df.head()"
   ]
  },
  {
   "cell_type": "code",
   "execution_count": 227,
   "metadata": {},
   "outputs": [
    {
     "data": {
      "text/plain": [
       "'In the 22nd century, a paraplegic Marine is dispatched to the moon Pandora on a unique mission, but becomes torn between following orders and protecting an alien civilization. Action Adventure Fantasy ScienceFiction cultureclash future spacewar spacecolony society spacetravel futuristic romance space alien tribe alienplanet cgi marine soldier battle loveaffair antiwar powerrelations mindandsoul 3d SamWorthington ZoeSaldana SigourneyWeaver JamesCameron'"
      ]
     },
     "execution_count": 227,
     "metadata": {},
     "output_type": "execute_result"
    }
   ],
   "source": [
    "new_df.iloc[0]['tags']"
   ]
  },
  {
   "cell_type": "code",
   "execution_count": 228,
   "metadata": {},
   "outputs": [
    {
     "name": "stderr",
     "output_type": "stream",
     "text": [
      "/var/folders/cc/gfk9jr990pl4qc5h0062vkw00000gn/T/ipykernel_15121/3444714728.py:2: SettingWithCopyWarning: \n",
      "A value is trying to be set on a copy of a slice from a DataFrame.\n",
      "Try using .loc[row_indexer,col_indexer] = value instead\n",
      "\n",
      "See the caveats in the documentation: https://pandas.pydata.org/pandas-docs/stable/user_guide/indexing.html#returning-a-view-versus-a-copy\n",
      "  new_df['tags'] = new_df['tags'].apply(lambda x:x.lower())\n"
     ]
    }
   ],
   "source": [
    "# Converting to lower case\n",
    "new_df['tags'] = new_df['tags'].apply(lambda x:x.lower())"
   ]
  },
  {
   "cell_type": "code",
   "execution_count": 229,
   "metadata": {},
   "outputs": [
    {
     "data": {
      "text/html": [
       "<div>\n",
       "<style scoped>\n",
       "    .dataframe tbody tr th:only-of-type {\n",
       "        vertical-align: middle;\n",
       "    }\n",
       "\n",
       "    .dataframe tbody tr th {\n",
       "        vertical-align: top;\n",
       "    }\n",
       "\n",
       "    .dataframe thead th {\n",
       "        text-align: right;\n",
       "    }\n",
       "</style>\n",
       "<table border=\"1\" class=\"dataframe\">\n",
       "  <thead>\n",
       "    <tr style=\"text-align: right;\">\n",
       "      <th></th>\n",
       "      <th>movie_id</th>\n",
       "      <th>title</th>\n",
       "      <th>tags</th>\n",
       "      <th>year</th>\n",
       "      <th>vote_average</th>\n",
       "    </tr>\n",
       "  </thead>\n",
       "  <tbody>\n",
       "    <tr>\n",
       "      <th>0</th>\n",
       "      <td>19995</td>\n",
       "      <td>Avatar</td>\n",
       "      <td>in the 22nd century, a paraplegic marine is di...</td>\n",
       "      <td>2009</td>\n",
       "      <td>7.2</td>\n",
       "    </tr>\n",
       "    <tr>\n",
       "      <th>1</th>\n",
       "      <td>285</td>\n",
       "      <td>Pirates of the Caribbean: At World's End</td>\n",
       "      <td>captain barbossa, long believed to be dead, ha...</td>\n",
       "      <td>2007</td>\n",
       "      <td>6.9</td>\n",
       "    </tr>\n",
       "    <tr>\n",
       "      <th>2</th>\n",
       "      <td>206647</td>\n",
       "      <td>Spectre</td>\n",
       "      <td>a cryptic message from bond’s past sends him o...</td>\n",
       "      <td>2015</td>\n",
       "      <td>6.3</td>\n",
       "    </tr>\n",
       "    <tr>\n",
       "      <th>3</th>\n",
       "      <td>49026</td>\n",
       "      <td>The Dark Knight Rises</td>\n",
       "      <td>following the death of district attorney harve...</td>\n",
       "      <td>2012</td>\n",
       "      <td>7.6</td>\n",
       "    </tr>\n",
       "    <tr>\n",
       "      <th>4</th>\n",
       "      <td>49529</td>\n",
       "      <td>John Carter</td>\n",
       "      <td>john carter is a war-weary, former military ca...</td>\n",
       "      <td>2012</td>\n",
       "      <td>6.1</td>\n",
       "    </tr>\n",
       "  </tbody>\n",
       "</table>\n",
       "</div>"
      ],
      "text/plain": [
       "   movie_id                                     title  \\\n",
       "0     19995                                    Avatar   \n",
       "1       285  Pirates of the Caribbean: At World's End   \n",
       "2    206647                                   Spectre   \n",
       "3     49026                     The Dark Knight Rises   \n",
       "4     49529                               John Carter   \n",
       "\n",
       "                                                tags  year  vote_average  \n",
       "0  in the 22nd century, a paraplegic marine is di...  2009           7.2  \n",
       "1  captain barbossa, long believed to be dead, ha...  2007           6.9  \n",
       "2  a cryptic message from bond’s past sends him o...  2015           6.3  \n",
       "3  following the death of district attorney harve...  2012           7.6  \n",
       "4  john carter is a war-weary, former military ca...  2012           6.1  "
      ]
     },
     "execution_count": 229,
     "metadata": {},
     "output_type": "execute_result"
    }
   ],
   "source": [
    "new_df.head()"
   ]
  },
  {
   "cell_type": "code",
   "execution_count": 230,
   "metadata": {},
   "outputs": [
    {
     "name": "stdout",
     "output_type": "stream",
     "text": [
      "Requirement already satisfied: nltk in ./venv/lib/python3.12/site-packages (3.9.2)\n",
      "Requirement already satisfied: click in ./venv/lib/python3.12/site-packages (from nltk) (8.3.0)\n",
      "Requirement already satisfied: joblib in ./venv/lib/python3.12/site-packages (from nltk) (1.5.2)\n",
      "Requirement already satisfied: regex>=2021.8.3 in ./venv/lib/python3.12/site-packages (from nltk) (2025.10.23)\n",
      "Requirement already satisfied: tqdm in ./venv/lib/python3.12/site-packages (from nltk) (4.67.1)\n",
      "\n",
      "\u001b[1m[\u001b[0m\u001b[34;49mnotice\u001b[0m\u001b[1;39;49m]\u001b[0m\u001b[39;49m A new release of pip is available: \u001b[0m\u001b[31;49m24.2\u001b[0m\u001b[39;49m -> \u001b[0m\u001b[32;49m25.3\u001b[0m\n",
      "\u001b[1m[\u001b[0m\u001b[34;49mnotice\u001b[0m\u001b[1;39;49m]\u001b[0m\u001b[39;49m To update, run: \u001b[0m\u001b[32;49mpip install --upgrade pip\u001b[0m\n",
      "Note: you may need to restart the kernel to use updated packages.\n"
     ]
    }
   ],
   "source": [
    "%pip install nltk\n",
    "\n",
    "import nltk\n",
    "from nltk.stem import PorterStemmer"
   ]
  },
  {
   "cell_type": "code",
   "execution_count": 231,
   "metadata": {},
   "outputs": [],
   "source": [
    "ps = PorterStemmer()"
   ]
  },
  {
   "cell_type": "code",
   "execution_count": 232,
   "metadata": {},
   "outputs": [],
   "source": [
    "def stems(text):\n",
    "    T = []\n",
    "    \n",
    "    for i in text.split():\n",
    "        T.append(ps.stem(i))\n",
    "    \n",
    "    return \" \".join(T)"
   ]
  },
  {
   "cell_type": "code",
   "execution_count": 233,
   "metadata": {},
   "outputs": [
    {
     "name": "stderr",
     "output_type": "stream",
     "text": [
      "/var/folders/cc/gfk9jr990pl4qc5h0062vkw00000gn/T/ipykernel_15121/3973021881.py:1: SettingWithCopyWarning: \n",
      "A value is trying to be set on a copy of a slice from a DataFrame.\n",
      "Try using .loc[row_indexer,col_indexer] = value instead\n",
      "\n",
      "See the caveats in the documentation: https://pandas.pydata.org/pandas-docs/stable/user_guide/indexing.html#returning-a-view-versus-a-copy\n",
      "  new_df['tags'] = new_df['tags'].apply(stems)\n"
     ]
    }
   ],
   "source": [
    "new_df['tags'] = new_df['tags'].apply(stems)"
   ]
  },
  {
   "cell_type": "code",
   "execution_count": 234,
   "metadata": {},
   "outputs": [
    {
     "name": "stdout",
     "output_type": "stream",
     "text": [
      "in the 22nd century, a parapleg marin is dispatch to the moon pandora on a uniqu mission, but becom torn between follow order and protect an alien civilization. action adventur fantasi sciencefict cultureclash futur spacewar spacecoloni societi spacetravel futurist romanc space alien tribe alienplanet cgi marin soldier battl loveaffair antiwar powerrel mindandsoul 3d samworthington zoesaldana sigourneyweav jamescameron\n"
     ]
    }
   ],
   "source": [
    "print(new_df.iloc[0]['tags'])"
   ]
  },
  {
   "cell_type": "code",
   "execution_count": 235,
   "metadata": {},
   "outputs": [
    {
     "data": {
      "text/html": [
       "<div>\n",
       "<style scoped>\n",
       "    .dataframe tbody tr th:only-of-type {\n",
       "        vertical-align: middle;\n",
       "    }\n",
       "\n",
       "    .dataframe tbody tr th {\n",
       "        vertical-align: top;\n",
       "    }\n",
       "\n",
       "    .dataframe thead th {\n",
       "        text-align: right;\n",
       "    }\n",
       "</style>\n",
       "<table border=\"1\" class=\"dataframe\">\n",
       "  <thead>\n",
       "    <tr style=\"text-align: right;\">\n",
       "      <th></th>\n",
       "      <th>movie_id</th>\n",
       "      <th>title</th>\n",
       "      <th>tags</th>\n",
       "      <th>year</th>\n",
       "      <th>vote_average</th>\n",
       "    </tr>\n",
       "  </thead>\n",
       "  <tbody>\n",
       "    <tr>\n",
       "      <th>0</th>\n",
       "      <td>19995</td>\n",
       "      <td>Avatar</td>\n",
       "      <td>in the 22nd century, a parapleg marin is dispa...</td>\n",
       "      <td>2009</td>\n",
       "      <td>7.2</td>\n",
       "    </tr>\n",
       "    <tr>\n",
       "      <th>1</th>\n",
       "      <td>285</td>\n",
       "      <td>Pirates of the Caribbean: At World's End</td>\n",
       "      <td>captain barbossa, long believ to be dead, ha c...</td>\n",
       "      <td>2007</td>\n",
       "      <td>6.9</td>\n",
       "    </tr>\n",
       "    <tr>\n",
       "      <th>2</th>\n",
       "      <td>206647</td>\n",
       "      <td>Spectre</td>\n",
       "      <td>a cryptic messag from bond’ past send him on a...</td>\n",
       "      <td>2015</td>\n",
       "      <td>6.3</td>\n",
       "    </tr>\n",
       "    <tr>\n",
       "      <th>3</th>\n",
       "      <td>49026</td>\n",
       "      <td>The Dark Knight Rises</td>\n",
       "      <td>follow the death of district attorney harvey d...</td>\n",
       "      <td>2012</td>\n",
       "      <td>7.6</td>\n",
       "    </tr>\n",
       "    <tr>\n",
       "      <th>4</th>\n",
       "      <td>49529</td>\n",
       "      <td>John Carter</td>\n",
       "      <td>john carter is a war-weary, former militari ca...</td>\n",
       "      <td>2012</td>\n",
       "      <td>6.1</td>\n",
       "    </tr>\n",
       "  </tbody>\n",
       "</table>\n",
       "</div>"
      ],
      "text/plain": [
       "   movie_id                                     title  \\\n",
       "0     19995                                    Avatar   \n",
       "1       285  Pirates of the Caribbean: At World's End   \n",
       "2    206647                                   Spectre   \n",
       "3     49026                     The Dark Knight Rises   \n",
       "4     49529                               John Carter   \n",
       "\n",
       "                                                tags  year  vote_average  \n",
       "0  in the 22nd century, a parapleg marin is dispa...  2009           7.2  \n",
       "1  captain barbossa, long believ to be dead, ha c...  2007           6.9  \n",
       "2  a cryptic messag from bond’ past send him on a...  2015           6.3  \n",
       "3  follow the death of district attorney harvey d...  2012           7.6  \n",
       "4  john carter is a war-weary, former militari ca...  2012           6.1  "
      ]
     },
     "execution_count": 235,
     "metadata": {},
     "output_type": "execute_result"
    }
   ],
   "source": [
    "new_df.head()"
   ]
  },
  {
   "cell_type": "code",
   "execution_count": 236,
   "metadata": {},
   "outputs": [],
   "source": [
    "from sklearn.feature_extraction.text import CountVectorizer\n",
    "cv = CountVectorizer(max_features=5000,stop_words='english')\n"
   ]
  },
  {
   "cell_type": "code",
   "execution_count": 237,
   "metadata": {},
   "outputs": [],
   "source": [
    "vector = cv.fit_transform(new_df['tags']).toarray()"
   ]
  },
  {
   "cell_type": "code",
   "execution_count": 238,
   "metadata": {},
   "outputs": [
    {
     "data": {
      "text/plain": [
       "(4805, 5)"
      ]
     },
     "execution_count": 238,
     "metadata": {},
     "output_type": "execute_result"
    }
   ],
   "source": [
    "new_df.shape"
   ]
  },
  {
   "cell_type": "code",
   "execution_count": 239,
   "metadata": {},
   "outputs": [
    {
     "data": {
      "text/plain": [
       "(4805, 5000)"
      ]
     },
     "execution_count": 239,
     "metadata": {},
     "output_type": "execute_result"
    }
   ],
   "source": [
    "vector.shape"
   ]
  },
  {
   "cell_type": "code",
   "execution_count": 240,
   "metadata": {},
   "outputs": [
    {
     "data": {
      "text/plain": [
       "array([0, 0, 0, ..., 0, 0, 0], shape=(5000,))"
      ]
     },
     "execution_count": 240,
     "metadata": {},
     "output_type": "execute_result"
    }
   ],
   "source": [
    "vector[1]"
   ]
  },
  {
   "cell_type": "code",
   "execution_count": 241,
   "metadata": {},
   "outputs": [
    {
     "data": {
      "text/plain": [
       "(4805, 5000)"
      ]
     },
     "execution_count": 241,
     "metadata": {},
     "output_type": "execute_result"
    }
   ],
   "source": [
    "vector.shape"
   ]
  },
  {
   "cell_type": "code",
   "execution_count": 242,
   "metadata": {},
   "outputs": [
    {
     "data": {
      "text/plain": [
       "5000"
      ]
     },
     "execution_count": 242,
     "metadata": {},
     "output_type": "execute_result"
    }
   ],
   "source": [
    "len(cv.get_feature_names_out())"
   ]
  },
  {
   "cell_type": "code",
   "execution_count": 243,
   "metadata": {},
   "outputs": [],
   "source": [
    "from sklearn.metrics.pairwise import cosine_similarity"
   ]
  },
  {
   "cell_type": "code",
   "execution_count": 244,
   "metadata": {},
   "outputs": [],
   "source": [
    "similarity = cosine_similarity(vector)"
   ]
  },
  {
   "cell_type": "code",
   "execution_count": 245,
   "metadata": {},
   "outputs": [
    {
     "data": {
      "text/plain": [
       "(4805, 4805)"
      ]
     },
     "execution_count": 245,
     "metadata": {},
     "output_type": "execute_result"
    }
   ],
   "source": [
    "similarity.shape"
   ]
  },
  {
   "cell_type": "markdown",
   "metadata": {},
   "source": [
    "# similarity"
   ]
  },
  {
   "cell_type": "code",
   "execution_count": 246,
   "metadata": {},
   "outputs": [],
   "source": [
    "i = new_df[new_df['title'] == 'The Lego Movie'].index[0]"
   ]
  },
  {
   "cell_type": "code",
   "execution_count": 247,
   "metadata": {},
   "outputs": [
    {
     "data": {
      "text/plain": [
       "array([0.06488857, 0.06859943, 0.03535534, ..., 0.02773501, 0.        ,\n",
       "       0.        ], shape=(4805,))"
      ]
     },
     "execution_count": 247,
     "metadata": {},
     "output_type": "execute_result"
    }
   ],
   "source": [
    "similarity[744]"
   ]
  },
  {
   "cell_type": "code",
   "execution_count": 248,
   "metadata": {},
   "outputs": [
    {
     "name": "stdout",
     "output_type": "stream",
     "text": [
      "[(0, np.float64(0.08740748201220976)), (1, np.float64(0.09240616554505461)), (2, np.float64(0.06350006350009525)), (3, np.float64(0.061008887608656304)), (4, np.float64(0.07859437755933692)), (5, np.float64(0.07200230411059791)), (6, np.float64(0.0445545919354113)), (7, np.float64(0.10830607221477648)), (8, np.float64(0.0)), (9, np.float64(0.1338698881504165)), (10, np.float64(0.08519427513705972)), (11, np.float64(0.05239625170622461)), (12, np.float64(0.10005560189476051)), (13, np.float64(0.049813548138671795)), (14, np.float64(0.08519427513705972)), (15, np.float64(0.023186944788008413)), (16, np.float64(0.0582716546748065)), (17, np.float64(0.08843153765707637)), (18, np.float64(0.16816968473377)), (19, np.float64(0.04599220498182739)), (20, np.float64(0.048193159734149935)), (21, np.float64(0.060717674071891624)), (22, np.float64(0.0)), (23, np.float64(0.0)), (24, np.float64(0.14763464883937316)), (25, np.float64(0.07531100588381143)), (26, np.float64(0.056796183424706485)), (27, np.float64(0.0689883074727411)), (28, np.float64(0.06451612903225808)), (29, np.float64(0.12000384018432984)), (30, np.float64(0.049341371149144844)), (31, np.float64(0.0704469953676347)), (32, np.float64(0.0)), (33, np.float64(0.07184212081070997)), (34, np.float64(0.0)), (35, np.float64(0.07332355751067667)), (36, np.float64(0.08122955416108235)), (37, np.float64(0.0)), (38, np.float64(0.11225331376673432)), (39, np.float64(0.060717674071891624)), (40, np.float64(0.08519427513705972)), (41, np.float64(0.07859437755933692)), (42, np.float64(0.025923792368260635)), (43, np.float64(0.05029954548278569)), (44, np.float64(0.07490058862731383)), (45, np.float64(0.06842968850192396)), (46, np.float64(0.09240616554505461)), (47, np.float64(0.06534102628035482)), (48, np.float64(0.14029571206348673)), (49, np.float64(0.0)), (50, np.float64(0.1250610798961445)), (51, np.float64(0.06632365324280728)), (52, np.float64(0.05415303610738824)), (53, np.float64(0.04757860680698065)), (54, np.float64(0.0)), (55, np.float64(0.058442790592989444)), (56, np.float64(0.11487593716012254)), (57, np.float64(0.0803219328902499)), (58, np.float64(0.14944064441601537)), (59, np.float64(0.060241449667687415)), (60, np.float64(0.0203362958695521)), (61, np.float64(0.10998533626601499)), (62, np.float64(0.09274777915203365)), (63, np.float64(0.0)), (64, np.float64(0.032791291789197645)), (65, np.float64(0.04324387500644106)), (66, np.float64(0.049813548138671795)), (67, np.float64(0.05986843400892497)), (68, np.float64(0.06670373459650701)), (69, np.float64(0.0)), (70, np.float64(0.08414890701798217)), (71, np.float64(0.08122955416108235)), (72, np.float64(0.12143534814378325)), (73, np.float64(0.03666177875533833)), (74, np.float64(0.07472032220800769)), (75, np.float64(0.11503946170861017)), (76, np.float64(0.05296271413323761)), (77, np.float64(0.06374957355164235)), (78, np.float64(0.0)), (79, np.float64(0.0919844099636548)), (80, np.float64(0.0)), (81, np.float64(0.061008887608656304)), (82, np.float64(0.056099271345321444)), (83, np.float64(0.09962709627734359)), (84, np.float64(0.04561979233461597)), (85, np.float64(0.0902550601789804)), (86, np.float64(0.026198125853112306)), (87, np.float64(0.03080205518168487)), (88, np.float64(0.10005560189476051)), (89, np.float64(0.03187478677582117)), (90, np.float64(0.0)), (91, np.float64(0.06160411036336974)), (92, np.float64(0.04599220498182739)), (93, np.float64(0.05239625170622461)), (94, np.float64(0.06913011298202835)), (95, np.float64(0.0)), (96, np.float64(0.056796183424706485)), (97, np.float64(0.07697370086861781)), (98, np.float64(0.05542739954736933)), (99, np.float64(0.059053859535749265)), (100, np.float64(0.0)), (101, np.float64(0.11359236684941297)), (102, np.float64(0.1149805124545685)), (103, np.float64(0.06632365324280728)), (104, np.float64(0.1250610798961445)), (105, np.float64(0.07658395810674835)), (106, np.float64(0.0689883074727411)), (107, np.float64(0.11404948083653993)), (108, np.float64(0.0803219328902499)), (109, np.float64(0.07184212081070997)), (110, np.float64(0.024906774069335898)), (111, np.float64(0.083141099321054)), (112, np.float64(0.056796183424706485)), (113, np.float64(0.0)), (114, np.float64(0.0254000254000381)), (115, np.float64(0.12108986992412071)), (116, np.float64(0.0803219328902499)), (117, np.float64(0.032791291789197645)), (118, np.float64(0.03724840446384683)), (119, np.float64(0.07200230411059791)), (120, np.float64(0.05184758473652127)), (121, np.float64(0.12320822072673948)), (122, np.float64(0.09677419354838711)), (123, np.float64(0.07472032220800769)), (124, np.float64(0.0)), (125, np.float64(0.05789203073355576)), (126, np.float64(0.0885807893036239)), (127, np.float64(0.12124305135149324)), (128, np.float64(0.0)), (129, np.float64(0.051315800579078544)), (130, np.float64(0.08980265101338746)), (131, np.float64(0.116543309349613)), (132, np.float64(0.0)), (133, np.float64(0.03126526997403613)), (134, np.float64(0.07184212081070997)), (135, np.float64(0.0)), (136, np.float64(0.05184758473652127)), (137, np.float64(0.033351867298253506)), (138, np.float64(0.056796183424706485)), (139, np.float64(0.1336637758062339)), (140, np.float64(0.07472032220800769)), (141, np.float64(0.0)), (142, np.float64(0.06253053994807226)), (143, np.float64(0.048001536073731935)), (144, np.float64(0.11085479909473867)), (145, np.float64(0.021466939537054593)), (146, np.float64(0.05388159060803247)), (147, np.float64(0.09240616554505461)), (148, np.float64(0.10776318121606496)), (149, np.float64(0.042933879074109185)), (150, np.float64(0.10103587612624436)), (151, np.float64(0.07490058862731383)), (152, np.float64(0.12320822072673948)), (153, np.float64(0.08712136837380642)), (154, np.float64(0.03394221166510653)), (155, np.float64(0.04525628222014204)), (156, np.float64(0.06632365324280728)), (157, np.float64(0.07332355751067667)), (158, np.float64(0.049341371149144844)), (159, np.float64(0.0704469953676347)), (160, np.float64(0.1111492346706859)), (161, np.float64(0.0)), (162, np.float64(0.07332355751067667)), (163, np.float64(0.056099271345321444)), (164, np.float64(0.14763464883937316)), (165, np.float64(0.0508000508000762)), (166, np.float64(0.05542739954736933)), (167, np.float64(0.10005560189476051)), (168, np.float64(0.05542739954736933)), (169, np.float64(0.04888237167378443)), (170, np.float64(0.07074999459548673)), (171, np.float64(0.05029954548278569)), (172, np.float64(0.0)), (173, np.float64(0.025657900289539272)), (174, np.float64(0.1437993271357627)), (175, np.float64(0.026198125853112306)), (176, np.float64(0.0)), (177, np.float64(0.0)), (178, np.float64(0.08122955416108235)), (179, np.float64(0.04016096644512494)), (180, np.float64(0.07332355751067665)), (181, np.float64(0.049813548138671795)), (182, np.float64(0.07777137710478191)), (183, np.float64(0.058442790592989444)), (184, np.float64(0.056099271345321444)), (185, np.float64(0.028049635672660722)), (186, np.float64(0.06534102628035482)), (187, np.float64(0.08519427513705972)), (188, np.float64(0.04888237167378443)), (189, np.float64(0.0)), (190, np.float64(0.09433332612731564)), (191, np.float64(0.08122955416108235)), (192, np.float64(0.026198125853112306)), (193, np.float64(0.06977923626520519)), (194, np.float64(0.0)), (195, np.float64(0.09837387536759294)), (196, np.float64(0.11503946170861017)), (197, np.float64(0.0)), (198, np.float64(0.09525009525014287)), (199, np.float64(0.048001536073731935)), (200, np.float64(0.04016096644512494)), (201, np.float64(0.0)), (202, np.float64(0.03456505649101418)), (203, np.float64(0.09240616554505461)), (204, np.float64(0.10955820713295535)), (205, np.float64(0.12361284651454937)), (206, np.float64(0.0409358475083573)), (207, np.float64(0.056796183424706485)), (208, np.float64(0.06788442333021306)), (209, np.float64(0.18725147156828456)), (210, np.float64(0.083141099321054)), (211, np.float64(0.02707651805369412)), (212, np.float64(0.12220592918446108)), (213, np.float64(0.10890171046725804)), (214, np.float64(0.0)), (215, np.float64(0.09776474334756886)), (216, np.float64(0.07184212081070997)), (217, np.float64(0.07074999459548673)), (218, np.float64(0.08466675133346034)), (219, np.float64(0.16971105832553265)), (220, np.float64(0.0)), (221, np.float64(0.026198125853112306)), (222, np.float64(0.044215768828538185)), (223, np.float64(0.05751973085430508)), (224, np.float64(0.04490132550669373)), (225, np.float64(0.05184758473652127)), (226, np.float64(0.033351867298253506)), (227, np.float64(0.09107651110783743)), (228, np.float64(0.04888237167378443)), (229, np.float64(0.0991704379697524)), (230, np.float64(0.0406725917391042)), (231, np.float64(0.025923792368260635)), (232, np.float64(0.09240616554505461)), (233, np.float64(0.07658395810674835)), (234, np.float64(0.07136791021047098)), (235, np.float64(0.028049635672660722)), (236, np.float64(0.06350006350009525)), (237, np.float64(0.07332355751067667)), (238, np.float64(0.0818716950167146)), (239, np.float64(0.020207175225248872)), (240, np.float64(0.05184758473652127)), (241, np.float64(0.14567913668701626)), (242, np.float64(0.08980265101338746)), (243, np.float64(0.07697370086861781)), (244, np.float64(0.10182663499531959)), (245, np.float64(0.05986843400892497)), (246, np.float64(0.06306363177516375)), (247, np.float64(0.033351867298253506)), (248, np.float64(0.12335342787286212)), (249, np.float64(0.0)), (250, np.float64(0.03522349768381735)), (251, np.float64(0.046373889576016826)), (252, np.float64(0.06735198826004059)), (253, np.float64(0.13912166872805048)), (254, np.float64(0.025657900289539272)), (255, np.float64(0.0)), (256, np.float64(0.0)), (257, np.float64(0.059053859535749265)), (258, np.float64(0.03919309008348103)), (259, np.float64(0.13576884666042613)), (260, np.float64(0.06451612903225808)), (261, np.float64(0.1338698881504165)), (262, np.float64(0.04716666306365782)), (263, np.float64(0.10776318121606496)), (264, np.float64(0.08843153765707638)), (265, np.float64(0.030358837035945812)), (266, np.float64(0.05542739954736933)), (267, np.float64(0.07184212081070997)), (268, np.float64(0.0582716546748065)), (269, np.float64(0.032791291789197645)), (270, np.float64(0.0)), (271, np.float64(0.05239625170622461)), (272, np.float64(0.06160411036336974)), (273, np.float64(0.04676523735449557)), (274, np.float64(0.056796183424706485)), (275, np.float64(0.09525009525014287)), (276, np.float64(0.0)), (277, np.float64(0.05878963512522154)), (278, np.float64(0.05184758473652127)), (279, np.float64(0.051315800579078544)), (280, np.float64(0.08627959628145762)), (281, np.float64(0.024000768036865967)), (282, np.float64(0.12335342787286213)), (283, np.float64(0.09107651110783743)), (284, np.float64(0.0203362958695521)), (285, np.float64(0.08648775001288211)), (286, np.float64(0.06486581250966159)), (287, np.float64(0.0)), (288, np.float64(0.0)), (289, np.float64(0.0508000508000762)), (290, np.float64(0.0704469953676347)), (291, np.float64(0.05477910356647767)), (292, np.float64(0.06558258357839529)), (293, np.float64(0.0)), (294, np.float64(0.0)), (295, np.float64(0.0582716546748065)), (296, np.float64(0.06440081861116377)), (297, np.float64(0.04888237167378443)), (298, np.float64(0.05296271413323761)), (299, np.float64(0.10971139976028735)), (300, np.float64(0.05415303610738824)), (301, np.float64(0.10369516947304251)), (302, np.float64(0.051315800579078544)), (303, np.float64(0.09240616554505461)), (304, np.float64(0.08740748201220976)), (305, np.float64(0.0)), (306, np.float64(0.029934217004462485)), (307, np.float64(0.10321840754779724)), (308, np.float64(0.22470176588194146)), (309, np.float64(0.03456505649101418)), (310, np.float64(0.1018266349953196)), (311, np.float64(0.083141099321054)), (312, np.float64(0.083141099321054)), (313, np.float64(0.0)), (314, np.float64(0.0)), (315, np.float64(0.09240616554505461)), (316, np.float64(0.04388455990411494)), (317, np.float64(0.0)), (318, np.float64(0.021466939537054593)), (319, np.float64(0.14664711502135333)), (320, np.float64(0.10182663499531959)), (321, np.float64(0.11757927025044308)), (322, np.float64(0.0582716546748065)), (323, np.float64(0.032791291789197645)), (324, np.float64(0.05415303610738824)), (325, np.float64(0.10998533626601499)), (326, np.float64(0.0)), (327, np.float64(0.0)), (328, np.float64(0.0)), (329, np.float64(0.0582716546748065)), (330, np.float64(0.05542739954736933)), (331, np.float64(0.024906774069335898)), (332, np.float64(0.059053859535749265)), (333, np.float64(0.0)), (334, np.float64(0.0803219328902499)), (335, np.float64(0.051315800579078544)), (336, np.float64(0.0)), (337, np.float64(0.07544931822417852)), (338, np.float64(0.0)), (339, np.float64(0.10830607221477648)), (340, np.float64(0.08216865534971651)), (341, np.float64(0.030358837035945812)), (342, np.float64(0.07933635037580192)), (343, np.float64(0.021315227815974377)), (344, np.float64(0.06558258357839529)), (345, np.float64(0.1270001270001905)), (346, np.float64(0.0)), (347, np.float64(0.026198125853112306)), (348, np.float64(0.10182663499531959)), (349, np.float64(0.028049635672660722)), (350, np.float64(0.13538259026847058)), (351, np.float64(0.0)), (352, np.float64(0.0)), (353, np.float64(0.06842968850192396)), (354, np.float64(0.0)), (355, np.float64(0.16165740180199098)), (356, np.float64(0.10005560189476051)), (357, np.float64(0.0)), (358, np.float64(0.0)), (359, np.float64(0.10369516947304254)), (360, np.float64(0.023186944788008413)), (361, np.float64(0.11085479909473867)), (362, np.float64(0.1408939907352694)), (363, np.float64(0.02194227995205747)), (364, np.float64(0.025923792368260635)), (365, np.float64(0.0)), (366, np.float64(0.06253053994807226)), (367, np.float64(0.11235088294097074)), (368, np.float64(0.0)), (369, np.float64(0.056796183424706485)), (370, np.float64(0.22439708538128578)), (371, np.float64(0.05296271413323761)), (372, np.float64(0.05239625170622461)), (373, np.float64(0.0)), (374, np.float64(0.02102121059172125)), (375, np.float64(0.06788442333021306)), (376, np.float64(0.05184758473652127)), (377, np.float64(0.025657900289539272)), (378, np.float64(0.03394221166510653)), (379, np.float64(0.037450294313656915)), (380, np.float64(0.02875986542715254)), (381, np.float64(0.09274777915203365)), (382, np.float64(0.0)), (383, np.float64(0.048001536073731935)), (384, np.float64(0.0)), (385, np.float64(0.031750031750047626)), (386, np.float64(0.07265392195447243)), (387, np.float64(0.07944407119985641)), (388, np.float64(0.0)), (389, np.float64(0.12903225806451615)), (390, np.float64(0.02913582733740325)), (391, np.float64(0.041757384532966166)), (392, np.float64(0.06670373459650701)), (393, np.float64(0.0885807893036239)), (394, np.float64(0.10955820713295535)), (395, np.float64(0.02875986542715254)), (396, np.float64(0.09687189593929657)), (397, np.float64(0.08627959628145762)), (398, np.float64(0.0)), (399, np.float64(0.0)), (400, np.float64(0.06670373459650701)), (401, np.float64(0.0)), (402, np.float64(0.11503946170861017)), (403, np.float64(0.1379766149454822)), (404, np.float64(0.0)), (405, np.float64(0.06160411036336974)), (406, np.float64(0.022996102490913696)), (407, np.float64(0.0)), (408, np.float64(0.14368424162141993)), (409, np.float64(0.0)), (410, np.float64(0.02707651805369412)), (411, np.float64(0.08740748201220976)), (412, np.float64(0.05296271413323761)), (413, np.float64(0.09379580992210838)), (414, np.float64(0.032791291789197645)), (415, np.float64(0.05914272920158134)), (416, np.float64(0.028049635672660722)), (417, np.float64(0.03592106040535498)), (418, np.float64(0.03919309008348103)), (419, np.float64(0.0)), (420, np.float64(0.0)), (421, np.float64(0.025657900289539272)), (422, np.float64(0.06451612903225808)), (423, np.float64(0.022809896167307987)), (424, np.float64(0.041204282171516456)), (425, np.float64(0.09433332612731564)), (426, np.float64(0.0)), (427, np.float64(0.02913582733740325)), (428, np.float64(0.10301070542879114)), (429, np.float64(0.05986843400892497)), (430, np.float64(0.028049635672660722)), (431, np.float64(0.0803219328902499)), (432, np.float64(0.10059909096557136)), (433, np.float64(0.1728252824550709)), (434, np.float64(0.05239625170622461)), (435, np.float64(0.11757927025044308)), (436, np.float64(0.11359236684941297)), (437, np.float64(0.1419904585617662)), (438, np.float64(0.02707651805369412)), (439, np.float64(0.0)), (440, np.float64(0.05477910356647767)), (441, np.float64(0.06350006350009525)), (442, np.float64(0.15089863644835708)), (443, np.float64(0.02358333153182891)), (444, np.float64(0.025923792368260635)), (445, np.float64(0.05477910356647767)), (446, np.float64(0.051315800579078544)), (447, np.float64(0.1903144272279226)), (448, np.float64(0.02358333153182891)), (449, np.float64(0.060717674071891624)), (450, np.float64(0.07074999459548673)), (451, np.float64(0.0)), (452, np.float64(0.03394221166510653)), (453, np.float64(0.08122955416108235)), (454, np.float64(0.025657900289539272)), (455, np.float64(0.11225331376673431)), (456, np.float64(0.07200230411059791)), (457, np.float64(0.09525009525014287)), (458, np.float64(0.048001536073731935)), (459, np.float64(0.03829197905337418)), (460, np.float64(0.0535479552601666)), (461, np.float64(0.0)), (462, np.float64(0.053614186522661575)), (463, np.float64(0.0)), (464, np.float64(0.025149772741392844)), (465, np.float64(0.04233337566673017)), (466, np.float64(0.08032193289024989)), (467, np.float64(0.04676523735449557)), (468, np.float64(0.09240616554505461)), (469, np.float64(0.08776911980822988)), (470, np.float64(0.0)), (471, np.float64(0.07074999459548673)), (472, np.float64(0.0885807893036239)), (473, np.float64(0.051315800579078544)), (474, np.float64(0.0)), (475, np.float64(0.048435947969648285)), (476, np.float64(0.11235088294097074)), (477, np.float64(0.0)), (478, np.float64(0.05986843400892497)), (479, np.float64(0.0)), (480, np.float64(0.08122955416108235)), (481, np.float64(0.026198125853112306)), (482, np.float64(0.0)), (483, np.float64(0.10369516947304254)), (484, np.float64(0.03225806451612904)), (485, np.float64(0.02913582733740325)), (486, np.float64(0.035394072520104396)), (487, np.float64(0.0704469953676347)), (488, np.float64(0.018427115179918692)), (489, np.float64(0.0)), (490, np.float64(0.07838618016696206)), (491, np.float64(0.06582683985617241)), (492, np.float64(0.056099271345321444)), (493, np.float64(0.016971105832553266)), (494, np.float64(0.0)), (495, np.float64(0.10567049305145204)), (496, np.float64(0.018827751470952857)), (497, np.float64(0.2155263624321299)), (498, np.float64(0.0)), (499, np.float64(0.02913582733740325)), (500, np.float64(0.08627959628145762)), (501, np.float64(0.0)), (502, np.float64(0.0)), (503, np.float64(0.11085479909473867)), (504, np.float64(0.0)), (505, np.float64(0.07490058862731383)), (506, np.float64(0.07658395810674835)), (507, np.float64(0.09433332612731564)), (508, np.float64(0.11219854269064289)), (509, np.float64(0.04888237167378443)), (510, np.float64(0.05477910356647767)), (511, np.float64(0.06788442333021306)), (512, np.float64(0.060717674071891624)), (513, np.float64(0.13694775891619418)), (514, np.float64(0.05477910356647767)), (515, np.float64(0.027389551783238836)), (516, np.float64(0.03126526997403613)), (517, np.float64(0.022107884414269093)), (518, np.float64(0.12108986992412071)), (519, np.float64(0.1419904585617662)), (520, np.float64(0.04016096644512494)), (521, np.float64(0.027713699773684666)), (522, np.float64(0.0535479552601666)), (523, np.float64(0.0803219328902499)), (524, np.float64(0.03225806451612904)), (525, np.float64(0.10479250341244922)), (526, np.float64(0.03126526997403613)), (527, np.float64(0.03666177875533833)), (528, np.float64(0.07401205672371727)), (529, np.float64(0.0535479552601666)), (530, np.float64(0.12320822072673948)), (531, np.float64(0.20526320231631415)), (532, np.float64(0.02358333153182891)), (533, np.float64(0.033351867298253506)), (534, np.float64(0.13912166872805048)), (535, np.float64(0.05415303610738824)), (536, np.float64(0.024906774069335898)), (537, np.float64(0.07490058862731383)), (538, np.float64(0.06670373459650701)), (539, np.float64(0.06160411036336974)), (540, np.float64(0.11085479909473867)), (541, np.float64(0.09353047470899115)), (542, np.float64(0.0409358475083573)), (543, np.float64(0.07859437755933692)), (544, np.float64(0.06160411036336974)), (545, np.float64(0.0)), (546, np.float64(0.0704469953676347)), (547, np.float64(0.06160411036336974)), (548, np.float64(0.02913582733740325)), (549, np.float64(0.0)), (550, np.float64(0.0)), (551, np.float64(0.020878692266483083)), (552, np.float64(0.03126526997403613)), (553, np.float64(0.19050019050028574)), (554, np.float64(0.03126526997403613)), (555, np.float64(0.04981354813867179)), (556, np.float64(0.0885807893036239)), (557, np.float64(0.08122955416108235)), (558, np.float64(0.04356068418690321)), (559, np.float64(0.0)), (560, np.float64(0.03991228933928331)), (561, np.float64(0.0)), (562, np.float64(0.06788442333021306)), (563, np.float64(0.028398091712353243)), (564, np.float64(0.0)), (565, np.float64(0.024000768036865967)), (566, np.float64(0.026481357066618805)), (567, np.float64(0.083141099321054)), (568, np.float64(0.06253053994807226)), (569, np.float64(0.05239625170622461)), (570, np.float64(0.19145989526687088)), (571, np.float64(0.04676523735449557)), (572, np.float64(0.04757860680698065)), (573, np.float64(0.04599220498182739)), (574, np.float64(0.07777137710478191)), (575, np.float64(0.025149772741392844)), (576, np.float64(0.02875986542715254)), (577, np.float64(0.06253053994807226)), (578, np.float64(0.041478067789217005)), (579, np.float64(0.06451612903225808)), (580, np.float64(0.0535479552601666)), (581, np.float64(0.06451612903225808)), (582, np.float64(0.0986827422982897)), (583, np.float64(0.0)), (584, np.float64(0.04490132550669373)), (585, np.float64(0.0)), (586, np.float64(0.09962709627734359)), (587, np.float64(0.05239625170622461)), (588, np.float64(0.0)), (589, np.float64(0.042933879074109185)), (590, np.float64(0.13340746919301402)), (591, np.float64(0.0)), (592, np.float64(0.0)), (593, np.float64(0.02102121059172125)), (594, np.float64(0.13856849886842332)), (595, np.float64(0.051315800579078544)), (596, np.float64(0.15394740173723562)), (597, np.float64(0.09837387536759294)), (598, np.float64(0.04016096644512494)), (599, np.float64(0.015179418517972906)), (600, np.float64(0.10160010160015241)), (601, np.float64(0.05557461733534295)), (602, np.float64(0.20119818193114272)), (603, np.float64(0.11973686801784994)), (604, np.float64(0.10998533626601499)), (605, np.float64(0.027713699773684666)), (606, np.float64(0.0)), (607, np.float64(0.08526091126389751)), (608, np.float64(0.0)), (609, np.float64(0.07859437755933692)), (610, np.float64(0.09638631946829988)), (611, np.float64(0.051315800579078544)), (612, np.float64(0.0)), (613, np.float64(0.07838618016696206)), (614, np.float64(0.02707651805369412)), (615, np.float64(0.13576884666042613)), (616, np.float64(0.03829197905337418)), (617, np.float64(0.0)), (618, np.float64(0.09776474334756886)), (619, np.float64(0.028398091712353243)), (620, np.float64(0.0)), (621, np.float64(0.07184212081070997)), (622, np.float64(0.04676523735449557)), (623, np.float64(0.024906774069335898)), (624, np.float64(0.07658395810674835)), (625, np.float64(0.0)), (626, np.float64(0.12143534814378325)), (627, np.float64(0.08032193289024989)), (628, np.float64(0.0)), (629, np.float64(0.0803219328902499)), (630, np.float64(0.05415303610738824)), (631, np.float64(0.056099271345321444)), (632, np.float64(0.028398091712353243)), (633, np.float64(0.07401205672371727)), (634, np.float64(0.05477910356647767)), (635, np.float64(0.0)), (636, np.float64(0.05184758473652127)), (637, np.float64(0.0)), (638, np.float64(0.037450294313656915)), (639, np.float64(0.0267739776300833)), (640, np.float64(0.044215768828538185)), (641, np.float64(0.029526929767874632)), (642, np.float64(0.0)), (643, np.float64(0.05542739954736933)), (644, np.float64(0.05542739954736933)), (645, np.float64(0.04888237167378443)), (646, np.float64(0.02913582733740325)), (647, np.float64(0.0)), (648, np.float64(0.033351867298253506)), (649, np.float64(0.056796183424706485)), (650, np.float64(0.02875986542715254)), (651, np.float64(0.056099271345321444)), (652, np.float64(0.07136791021047098)), (653, np.float64(0.12048289933537483)), (654, np.float64(0.1379766149454822)), (655, np.float64(0.05296271413323761)), (656, np.float64(0.02707651805369412)), (657, np.float64(0.07658395810674835)), (658, np.float64(0.0803219328902499)), (659, np.float64(0.08414890701798217)), (660, np.float64(0.10369516947304254)), (661, np.float64(0.0)), (662, np.float64(0.06558258357839529)), (663, np.float64(0.03225806451612904)), (664, np.float64(0.10005560189476051)), (665, np.float64(0.10059909096557136)), (666, np.float64(0.0)), (667, np.float64(0.0)), (668, np.float64(0.11235088294097074)), (669, np.float64(0.0)), (670, np.float64(0.0)), (671, np.float64(0.05029954548278569)), (672, np.float64(0.0)), (673, np.float64(0.06632365324280728)), (674, np.float64(0.05239625170622461)), (675, np.float64(0.0)), (676, np.float64(0.09525009525014287)), (677, np.float64(0.11085479909473867)), (678, np.float64(0.09677419354838711)), (679, np.float64(0.02102121059172125)), (680, np.float64(0.05542739954736933)), (681, np.float64(0.030358837035945812)), (682, np.float64(0.06632365324280728)), (683, np.float64(0.0803219328902499)), (684, np.float64(0.0)), (685, np.float64(0.10776318121606496)), (686, np.float64(0.0704469953676347)), (687, np.float64(0.05751973085430508)), (688, np.float64(0.024000768036865967)), (689, np.float64(0.028049635672660722)), (690, np.float64(0.0)), (691, np.float64(0.13116516715679058)), (692, np.float64(0.024217973984824143)), (693, np.float64(0.037450294313656915)), (694, np.float64(0.048435947969648285)), (695, np.float64(0.07332355751067667)), (696, np.float64(0.0)), (697, np.float64(0.020602141085758228)), (698, np.float64(0.024000768036865967)), (699, np.float64(0.08466675133346034)), (700, np.float64(0.1270001270001905)), (701, np.float64(0.031750031750047626)), (702, np.float64(0.049813548138671795)), (703, np.float64(0.07136791021047098)), (704, np.float64(0.025149772741392844)), (705, np.float64(0.05415303610738824)), (706, np.float64(0.0)), (707, np.float64(0.03592106040535498)), (708, np.float64(0.08216865534971651)), (709, np.float64(0.022809896167307987)), (710, np.float64(0.021315227815974377)), (711, np.float64(0.116543309349613)), (712, np.float64(0.0535479552601666)), (713, np.float64(0.0)), (714, np.float64(0.0582716546748065)), (715, np.float64(0.07332355751067667)), (716, np.float64(0.08980265101338746)), (717, np.float64(0.0)), (718, np.float64(0.049813548138671795)), (719, np.float64(0.0)), (720, np.float64(0.0)), (721, np.float64(0.07184212081070997)), (722, np.float64(0.0)), (723, np.float64(0.02707651805369412)), (724, np.float64(0.05239625170622461)), (725, np.float64(0.03126526997403613)), (726, np.float64(0.10005560189476051)), (727, np.float64(0.10228428509895354)), (728, np.float64(0.0535479552601666)), (729, np.float64(0.02707651805369412)), (730, np.float64(0.050244842317626416)), (731, np.float64(0.2300789234172203)), (732, np.float64(0.05029954548278569)), (733, np.float64(0.02262814111007102)), (734, np.float64(0.049341371149144844)), (735, np.float64(0.12335342787286213)), (736, np.float64(0.06558258357839529)), (737, np.float64(0.08519427513705972)), (738, np.float64(0.03829197905337418)), (739, np.float64(0.08466675133346034)), (740, np.float64(0.09600307214746387)), (741, np.float64(0.15401027590842437)), (742, np.float64(0.033351867298253506)), (743, np.float64(0.051315800579078544)), (744, np.float64(0.03592106040535498)), (745, np.float64(1.0000000000000002)), (746, np.float64(0.04757860680698065)), (747, np.float64(0.04356068418690321)), (748, np.float64(0.04016096644512494)), (749, np.float64(0.0)), (750, np.float64(0.04716666306365782)), (751, np.float64(0.03522349768381735)), (752, np.float64(0.024217973984824143)), (753, np.float64(0.2125118592516207)), (754, np.float64(0.027713699773684666)), (755, np.float64(0.084084842366885)), (756, np.float64(0.031750031750047626)), (757, np.float64(0.0)), (758, np.float64(0.0)), (759, np.float64(0.025657900289539272)), (760, np.float64(0.029526929767874632)), (761, np.float64(0.09525009525014287)), (762, np.float64(0.2951216261027788)), (763, np.float64(0.04356068418690321)), (764, np.float64(0.0)), (765, np.float64(0.0)), (766, np.float64(0.056099271345321444)), (767, np.float64(0.10369516947304254)), (768, np.float64(0.04525628222014204)), (769, np.float64(0.0)), (770, np.float64(0.023789303403490326)), (771, np.float64(0.0)), (772, np.float64(0.0)), (773, np.float64(0.0704469953676347)), (774, np.float64(0.08712136837380642)), (775, np.float64(0.06350006350009525)), (776, np.float64(0.0)), (777, np.float64(0.07401205672371727)), (778, np.float64(0.10263160115815707)), (779, np.float64(0.05415303610738824)), (780, np.float64(0.04356068418690321)), (781, np.float64(0.0)), (782, np.float64(0.10263160115815707)), (783, np.float64(0.03592106040535498)), (784, np.float64(0.05296271413323761)), (785, np.float64(0.02046792375417865)), (786, np.float64(0.05986843400892497)), (787, np.float64(0.060717674071891624)), (788, np.float64(0.10369516947304254)), (789, np.float64(0.03456505649101418)), (790, np.float64(0.05986843400892497)), (791, np.float64(0.03522349768381735)), (792, np.float64(0.056796183424706485)), (793, np.float64(0.028049635672660722)), (794, np.float64(0.06451612903225808)), (795, np.float64(0.048435947969648285)), (796, np.float64(0.037450294313656915)), (797, np.float64(0.12048289933537483)), (798, np.float64(0.04016096644512494)), (799, np.float64(0.0813451834782084)), (800, np.float64(0.08240856434303291)), (801, np.float64(0.031750031750047626)), (802, np.float64(0.029934217004462485)), (803, np.float64(0.07859437755933692)), (804, np.float64(0.22718473369882594)), (805, np.float64(0.05986843400892497)), (806, np.float64(0.0)), (807, np.float64(0.11810771907149853)), (808, np.float64(0.08240856434303291)), (809, np.float64(0.021466939537054593)), (810, np.float64(0.03126526997403613)), (811, np.float64(0.046373889576016826)), (812, np.float64(0.06735198826004059)), (813, np.float64(0.051315800579078544)), (814, np.float64(0.05751973085430508)), (815, np.float64(0.04490132550669373)), (816, np.float64(0.026481357066618805)), (817, np.float64(0.029934217004462485)), (818, np.float64(0.10830607221477648)), (819, np.float64(0.024906774069335898)), (820, np.float64(0.0175276827349873)), (821, np.float64(0.08805874420954338)), (822, np.float64(0.023186944788008413)), (823, np.float64(0.05296271413323761)), (824, np.float64(0.0)), (825, np.float64(0.0)), (826, np.float64(0.0)), (827, np.float64(0.024000768036865967)), (828, np.float64(0.056796183424706485)), (829, np.float64(0.025657900289539272)), (830, np.float64(0.05986843400892497)), (831, np.float64(0.07859437755933692)), (832, np.float64(0.02875986542715254)), (833, np.float64(0.1070959105203332)), (834, np.float64(0.07777137710478191)), (835, np.float64(0.056099271345321444)), (836, np.float64(0.04561979233461597)), (837, np.float64(0.09240616554505461)), (838, np.float64(0.06394568344792313)), (839, np.float64(0.0)), (840, np.float64(0.06253053994807226)), (841, np.float64(0.025923792368260635)), (842, np.float64(0.02227729596770565)), (843, np.float64(0.05986843400892497)), (844, np.float64(0.1437993271357627)), (845, np.float64(0.0)), (846, np.float64(0.042933879074109185)), (847, np.float64(0.01316929969238268)), (848, np.float64(0.02046792375417865)), (849, np.float64(0.028398091712353243)), (850, np.float64(0.16933350266692068)), (851, np.float64(0.028049635672660722)), (852, np.float64(0.0)), (853, np.float64(0.0)), (854, np.float64(0.059053859535749265)), (855, np.float64(0.0)), (856, np.float64(0.05296271413323761)), (857, np.float64(0.03829197905337418)), (858, np.float64(0.04016096644512494)), (859, np.float64(0.09107651110783743)), (860, np.float64(0.05743796858006127)), (861, np.float64(0.0)), (862, np.float64(0.02913582733740325)), (863, np.float64(0.20365326999063918)), (864, np.float64(0.042630455631948755)), (865, np.float64(0.04356068418690321)), (866, np.float64(0.08980265101338746)), (867, np.float64(0.028049635672660722)), (868, np.float64(0.04599220498182739)), (869, np.float64(0.05542739954736933)), (870, np.float64(0.05296271413323761)), (871, np.float64(0.0)), (872, np.float64(0.0)), (873, np.float64(0.09274777915203365)), (874, np.float64(0.0)), (875, np.float64(0.0)), (876, np.float64(0.033351867298253506)), (877, np.float64(0.10369516947304254)), (878, np.float64(0.0)), (879, np.float64(0.0)), (880, np.float64(0.0704469953676347)), (881, np.float64(0.0)), (882, np.float64(0.0)), (883, np.float64(0.11219854269064289)), (884, np.float64(0.0)), (885, np.float64(0.027389551783238836)), (886, np.float64(0.025657900289539272)), (887, np.float64(0.03807624787725668)), (888, np.float64(0.07859437755933692)), (889, np.float64(0.03556714970147894)), (890, np.float64(0.029526929767874632)), (891, np.float64(0.048001536073731935)), (892, np.float64(0.0)), (893, np.float64(0.05557461733534295)), (894, np.float64(0.09379580992210838)), (895, np.float64(0.060717674071891624)), (896, np.float64(0.022450662753346864)), (897, np.float64(0.04356068418690321)), (898, np.float64(0.0)), (899, np.float64(0.029526929767874632)), (900, np.float64(0.026481357066618805)), (901, np.float64(0.0)), (902, np.float64(0.051315800579078544)), (903, np.float64(0.03456505649101418)), (904, np.float64(0.04561979233461597)), (905, np.float64(0.02913582733740325)), (906, np.float64(0.08466675133346034)), (907, np.float64(0.026198125853112306)), (908, np.float64(0.0)), (909, np.float64(0.0)), (910, np.float64(0.044215768828538185)), (911, np.float64(0.07859437755933692)), (912, np.float64(0.0)), (913, np.float64(0.041204282171516456)), (914, np.float64(0.12361284651454937)), (915, np.float64(0.0)), (916, np.float64(0.07658395810674835)), (917, np.float64(0.031750031750047626)), (918, np.float64(0.0)), (919, np.float64(0.048001536073731935)), (920, np.float64(0.06913011298202835)), (921, np.float64(0.02162193750322053)), (922, np.float64(0.08627959628145762)), (923, np.float64(0.0254000254000381)), (924, np.float64(0.0)), (925, np.float64(0.02227729596770565)), (926, np.float64(0.02875986542715254)), (927, np.float64(0.030358837035945812)), (928, np.float64(0.0)), (929, np.float64(0.0582716546748065)), (930, np.float64(0.0803219328902499)), (931, np.float64(0.06451612903225808)), (932, np.float64(0.10592542826647522)), (933, np.float64(0.10592542826647522)), (934, np.float64(0.032791291789197645)), (935, np.float64(0.11235088294097074)), (936, np.float64(0.0)), (937, np.float64(0.1402481783633036)), (938, np.float64(0.02913582733740325)), (939, np.float64(0.09857121533596891)), (940, np.float64(0.024441185836892216)), (941, np.float64(0.06670373459650701)), (942, np.float64(0.05296271413323761)), (943, np.float64(0.030358837035945812)), (944, np.float64(0.0535479552601666)), (945, np.float64(0.06788442333021306)), (946, np.float64(0.0)), (947, np.float64(0.0)), (948, np.float64(0.025657900289539272)), (949, np.float64(0.06582683985617241)), (950, np.float64(0.041204282171516456)), (951, np.float64(0.0704469953676347)), (952, np.float64(0.08414890701798217)), (953, np.float64(0.05029954548278569)), (954, np.float64(0.0)), (955, np.float64(0.08740748201220976)), (956, np.float64(0.13856849886842332)), (957, np.float64(0.10369516947304254)), (958, np.float64(0.0)), (959, np.float64(0.08414890701798217)), (960, np.float64(0.06451612903225808)), (961, np.float64(0.027713699773684666)), (962, np.float64(0.0803219328902499)), (963, np.float64(0.04599220498182739)), (964, np.float64(0.0)), (965, np.float64(0.02913582733740325)), (966, np.float64(0.04356068418690321)), (967, np.float64(0.0)), (968, np.float64(0.08122955416108235)), (969, np.float64(0.06440081861116377)), (970, np.float64(0.0)), (971, np.float64(0.07184212081070997)), (972, np.float64(0.06670373459650701)), (973, np.float64(0.06253053994807226)), (974, np.float64(0.09525009525014287)), (975, np.float64(0.06253053994807226)), (976, np.float64(0.06451612903225808)), (977, np.float64(0.10592542826647522)), (978, np.float64(0.0)), (979, np.float64(0.09962709627734358)), (980, np.float64(0.04599220498182739)), (981, np.float64(0.0)), (982, np.float64(0.09677419354838711)), (983, np.float64(0.053614186522661575)), (984, np.float64(0.0)), (985, np.float64(0.09107651110783743)), (986, np.float64(0.05542739954736933)), (987, np.float64(0.032791291789197645)), (988, np.float64(0.0535479552601666)), (989, np.float64(0.07332355751067667)), (990, np.float64(0.0919844099636548)), (991, np.float64(0.06670373459650701)), (992, np.float64(0.025923792368260635)), (993, np.float64(0.2060214108575823)), (994, np.float64(0.06160411036336974)), (995, np.float64(0.07544931822417852)), (996, np.float64(0.0)), (997, np.float64(0.025923792368260635)), (998, np.float64(0.04016096644512494)), (999, np.float64(0.032791291789197645)), (1000, np.float64(0.022107884414269093)), (1001, np.float64(0.07697370086861781)), (1002, np.float64(0.10005560189476051)), (1003, np.float64(0.08466675133346034)), (1004, np.float64(0.116543309349613)), (1005, np.float64(0.022107884414269093)), (1006, np.float64(0.08648775001288211)), (1007, np.float64(0.083141099321054)), (1008, np.float64(0.0)), (1009, np.float64(0.07136791021047098)), (1010, np.float64(0.0)), (1011, np.float64(0.027389551783238836)), (1012, np.float64(0.0)), (1013, np.float64(0.08627959628145762)), (1014, np.float64(0.032791291789197645)), (1015, np.float64(0.024670685574572422)), (1016, np.float64(0.0)), (1017, np.float64(0.0951572136139613)), (1018, np.float64(0.02358333153182891)), (1019, np.float64(0.0)), (1020, np.float64(0.0)), (1021, np.float64(0.0535479552601666)), (1022, np.float64(0.03126526997403613)), (1023, np.float64(0.041204282171516456)), (1024, np.float64(0.0)), (1025, np.float64(0.13116516715679058)), (1026, np.float64(0.0)), (1027, np.float64(0.06253053994807226)), (1028, np.float64(0.09198440996365478)), (1029, np.float64(0.0)), (1030, np.float64(0.03080205518168487)), (1031, np.float64(0.0)), (1032, np.float64(0.03225806451612904)), (1033, np.float64(0.03456505649101418)), (1034, np.float64(0.056796183424706485)), (1035, np.float64(0.083141099321054)), (1036, np.float64(0.0508000508000762)), (1037, np.float64(0.0)), (1038, np.float64(0.041204282171516456)), (1039, np.float64(0.0)), (1040, np.float64(0.0)), (1041, np.float64(0.05184758473652127)), (1042, np.float64(0.10567049305145204)), (1043, np.float64(0.04356068418690321)), (1044, np.float64(0.33659562807192867)), (1045, np.float64(0.13116516715679058)), (1046, np.float64(0.027713699773684666)), (1047, np.float64(0.0)), (1048, np.float64(0.04525628222014204)), (1049, np.float64(0.07200230411059791)), (1050, np.float64(0.06788442333021306)), (1051, np.float64(0.05296271413323761)), (1052, np.float64(0.0)), (1053, np.float64(0.07332355751067667)), (1054, np.float64(0.026198125853112306)), (1055, np.float64(0.03522349768381735)), (1056, np.float64(0.03394221166510653)), (1057, np.float64(0.03873467559917655)), (1058, np.float64(0.0)), (1059, np.float64(0.10592542826647522)), (1060, np.float64(0.0)), (1061, np.float64(0.09677419354838711)), (1062, np.float64(0.033351867298253506)), (1063, np.float64(0.03080205518168487)), (1064, np.float64(0.0)), (1065, np.float64(0.05184758473652127)), (1066, np.float64(0.03592106040535498)), (1067, np.float64(0.03456505649101418)), (1068, np.float64(0.05477910356647767)), (1069, np.float64(0.056796183424706485)), (1070, np.float64(0.031750031750047626)), (1071, np.float64(0.06558258357839529)), (1072, np.float64(0.03592106040535498)), (1073, np.float64(0.05184758473652127)), (1074, np.float64(0.0704469953676347)), (1075, np.float64(0.0)), (1076, np.float64(0.04233337566673017)), (1077, np.float64(0.06558258357839529)), (1078, np.float64(0.116543309349613)), (1079, np.float64(0.025149772741392844)), (1080, np.float64(0.08519427513705972)), (1081, np.float64(0.0)), (1082, np.float64(0.0)), (1083, np.float64(0.07332355751067667)), (1084, np.float64(0.08519427513705972)), (1085, np.float64(0.07332355751067665)), (1086, np.float64(0.049813548138671795)), (1087, np.float64(0.0406725917391042)), (1088, np.float64(0.0)), (1089, np.float64(0.032791291789197645)), (1090, np.float64(0.10005560189476051)), (1091, np.float64(0.0)), (1092, np.float64(0.0)), (1093, np.float64(0.0)), (1094, np.float64(0.10369516947304254)), (1095, np.float64(0.0)), (1096, np.float64(0.051315800579078544)), (1097, np.float64(0.08648775001288211)), (1098, np.float64(0.1667593364912675)), (1099, np.float64(0.024906774069335898)), (1100, np.float64(0.09687189593929657)), (1101, np.float64(0.13576884666042613)), (1102, np.float64(0.1270001270001905)), (1103, np.float64(0.0)), (1104, np.float64(0.03991228933928331)), (1105, np.float64(0.06788442333021306)), (1106, np.float64(0.056099271345321444)), (1107, np.float64(0.08122955416108235)), (1108, np.float64(0.0254000254000381)), (1109, np.float64(0.018330889377669166)), (1110, np.float64(0.04888237167378443)), (1111, np.float64(0.08627959628145762)), (1112, np.float64(0.0)), (1113, np.float64(0.023789303403490326)), (1114, np.float64(0.06451612903225808)), (1115, np.float64(0.04888237167378443)), (1116, np.float64(0.0267739776300833)), (1117, np.float64(0.11174521339154048)), (1118, np.float64(0.0)), (1119, np.float64(0.04888237167378443)), (1120, np.float64(0.09274777915203365)), (1121, np.float64(0.056099271345321444)), (1122, np.float64(0.04757860680698065)), (1123, np.float64(0.049813548138671795)), (1124, np.float64(0.06451612903225808)), (1125, np.float64(0.2514977274139284)), (1126, np.float64(0.04716666306365782)), (1127, np.float64(0.03919309008348103)), (1128, np.float64(0.0)), (1129, np.float64(0.02707651805369412)), (1130, np.float64(0.0)), (1131, np.float64(0.03666177875533833)), (1132, np.float64(0.06558258357839529)), (1133, np.float64(0.0)), (1134, np.float64(0.05184758473652127)), (1135, np.float64(0.03225806451612904)), (1136, np.float64(0.060717674071891624)), (1137, np.float64(0.08466675133346034)), (1138, np.float64(0.07777137710478191)), (1139, np.float64(0.09837387536759294)), (1140, np.float64(0.09379580992210838)), (1141, np.float64(0.04505804963244026)), (1142, np.float64(0.0)), (1143, np.float64(0.026198125853112306)), (1144, np.float64(0.051315800579078544)), (1145, np.float64(0.10182663499531959)), (1146, np.float64(0.0)), (1147, np.float64(0.059053859535749265)), (1148, np.float64(0.029934217004462485)), (1149, np.float64(0.025149772741392844)), (1150, np.float64(0.14980117725462766)), (1151, np.float64(0.07838618016696206)), (1152, np.float64(0.0)), (1153, np.float64(0.0951572136139613)), (1154, np.float64(0.07184212081070997)), (1155, np.float64(0.0)), (1156, np.float64(0.1382602259640567)), (1157, np.float64(0.028398091712353243)), (1158, np.float64(0.030358837035945812)), (1159, np.float64(0.0582716546748065)), (1160, np.float64(0.0582716546748065)), (1161, np.float64(0.0)), (1162, np.float64(0.046373889576016826)), (1163, np.float64(0.032791291789197645)), (1164, np.float64(0.03919309008348103)), (1165, np.float64(0.06350006350009525)), (1166, np.float64(0.05296271413323761)), (1167, np.float64(0.0254000254000381)), (1168, np.float64(0.0)), (1169, np.float64(0.03666177875533833)), (1170, np.float64(0.0)), (1171, np.float64(0.02102121059172125)), (1172, np.float64(0.08032193289024989)), (1173, np.float64(0.0)), (1174, np.float64(0.06788442333021306)), (1175, np.float64(0.09525009525014287)), (1176, np.float64(0.0582716546748065)), (1177, np.float64(0.0)), (1178, np.float64(0.056099271345321444)), (1179, np.float64(0.06558258357839529)), (1180, np.float64(0.05542739954736933)), (1181, np.float64(0.04356068418690321)), (1182, np.float64(0.03394221166510653)), (1183, np.float64(0.14567913668701626)), (1184, np.float64(0.07200230411059791)), (1185, np.float64(0.02913582733740325)), (1186, np.float64(0.03522349768381735)), (1187, np.float64(0.0)), (1188, np.float64(0.020739033894608502)), (1189, np.float64(0.0689883074727411)), (1190, np.float64(0.049813548138671795)), (1191, np.float64(0.04490132550669373)), (1192, np.float64(0.18725147156828456)), (1193, np.float64(0.05751973085430508)), (1194, np.float64(0.060717674071891624)), (1195, np.float64(0.0)), (1196, np.float64(0.083141099321054)), (1197, np.float64(0.0)), (1198, np.float64(0.03592106040535498)), (1199, np.float64(0.03522349768381735)), (1200, np.float64(0.04599220498182739)), (1201, np.float64(0.049813548138671795)), (1202, np.float64(0.08122955416108235)), (1203, np.float64(0.05296271413323761)), (1204, np.float64(0.0)), (1205, np.float64(0.060717674071891624)), (1206, np.float64(0.02875986542715254)), (1207, np.float64(0.041204282171516456)), (1208, np.float64(0.025149772741392844)), (1209, np.float64(0.04716666306365782)), (1210, np.float64(0.0)), (1211, np.float64(0.0)), (1212, np.float64(0.07401205672371727)), (1213, np.float64(0.0)), (1214, np.float64(0.08466675133346034)), (1215, np.float64(0.033351867298253506)), (1216, np.float64(0.051315800579078544)), (1217, np.float64(0.03522349768381735)), (1218, np.float64(0.0254000254000381)), (1219, np.float64(0.03919309008348103)), (1220, np.float64(0.0)), (1221, np.float64(0.0)), (1222, np.float64(0.0)), (1223, np.float64(0.020739033894608502)), (1224, np.float64(0.037450294313656915)), (1225, np.float64(0.024670685574572422)), (1226, np.float64(0.11757927025044308)), (1227, np.float64(0.0)), (1228, np.float64(0.028398091712353243)), (1229, np.float64(0.029526929767874632)), (1230, np.float64(0.09837387536759294)), (1231, np.float64(0.07544931822417852)), (1232, np.float64(0.02875986542715254)), (1233, np.float64(0.056099271345321444)), (1234, np.float64(0.0)), (1235, np.float64(0.14763464883937316)), (1236, np.float64(0.02162193750322053)), (1237, np.float64(0.14944064441601537)), (1238, np.float64(0.11757927025044308)), (1239, np.float64(0.0)), (1240, np.float64(0.06350006350009525)), (1241, np.float64(0.0)), (1242, np.float64(0.023382618677247786)), (1243, np.float64(0.0)), (1244, np.float64(0.0)), (1245, np.float64(0.032791291789197645)), (1246, np.float64(0.08216865534971651)), (1247, np.float64(0.03225806451612904)), (1248, np.float64(0.024670685574572422)), (1249, np.float64(0.0)), (1250, np.float64(0.041757384532966166)), (1251, np.float64(0.03225806451612904)), (1252, np.float64(0.08466675133346034)), (1253, np.float64(0.0)), (1254, np.float64(0.10984531668503693)), (1255, np.float64(0.048001536073731935)), (1256, np.float64(0.025657900289539272)), (1257, np.float64(0.12903225806451615)), (1258, np.float64(0.028049635672660722)), (1259, np.float64(0.09837387536759294)), (1260, np.float64(0.0704469953676347)), (1261, np.float64(0.06350006350009525)), (1262, np.float64(0.02913582733740325)), (1263, np.float64(0.023789303403490326)), (1264, np.float64(0.0)), (1265, np.float64(0.0)), (1266, np.float64(0.0254000254000381)), (1267, np.float64(0.05986843400892497)), (1268, np.float64(0.13470397652008118)), (1269, np.float64(0.06350006350009525)), (1270, np.float64(0.15554275420956382)), (1271, np.float64(0.10479250341244922)), (1272, np.float64(0.06670373459650701)), (1273, np.float64(0.06788442333021306)), (1274, np.float64(0.10369516947304254)), (1275, np.float64(0.048001536073731935)), (1276, np.float64(0.0254000254000381)), (1277, np.float64(0.07490058862731383)), (1278, np.float64(0.03666177875533833)), (1279, np.float64(0.04676523735449557)), (1280, np.float64(0.08526091126389751)), (1281, np.float64(0.020739033894608502)), (1282, np.float64(0.06180642325727469)), (1283, np.float64(0.051315800579078544)), (1284, np.float64(0.030358837035945812)), (1285, np.float64(0.06160411036336974)), (1286, np.float64(0.08466675133346034)), (1287, np.float64(0.056796183424706485)), (1288, np.float64(0.028049635672660722)), (1289, np.float64(0.2247017658819415)), (1290, np.float64(0.07490058862731383)), (1291, np.float64(0.11085479909473867)), (1292, np.float64(0.056099271345321444)), (1293, np.float64(0.029526929767874632)), (1294, np.float64(0.028398091712353243)), (1295, np.float64(0.1606438657804998)), (1296, np.float64(0.0)), (1297, np.float64(0.08122955416108235)), (1298, np.float64(0.041204282171516456)), (1299, np.float64(0.06350006350009525)), (1300, np.float64(0.056796183424706485)), (1301, np.float64(0.03080205518168487)), (1302, np.float64(0.03522349768381735)), (1303, np.float64(0.07014785603174337)), (1304, np.float64(0.06670373459650701)), (1305, np.float64(0.07136791021047098)), (1306, np.float64(0.04016096644512494)), (1307, np.float64(0.03873467559917655)), (1308, np.float64(0.0)), (1309, np.float64(0.0)), (1310, np.float64(0.033351867298253506)), (1311, np.float64(0.09837387536759294)), (1312, np.float64(0.0)), (1313, np.float64(0.06842968850192396)), (1314, np.float64(0.0)), (1315, np.float64(0.024217973984824143)), (1316, np.float64(0.03873467559917655)), (1317, np.float64(0.0267739776300833)), (1318, np.float64(0.07490058862731383)), (1319, np.float64(0.0)), (1320, np.float64(0.06394568344792313)), (1321, np.float64(0.2060214108575823)), (1322, np.float64(0.06160411036336974)), (1323, np.float64(0.029526929767874632)), (1324, np.float64(0.07184212081070997)), (1325, np.float64(0.11487593716012254)), (1326, np.float64(0.0)), (1327, np.float64(0.0)), (1328, np.float64(0.0)), (1329, np.float64(0.07136791021047098)), (1330, np.float64(0.022996102490913696)), (1331, np.float64(0.031750031750047626)), (1332, np.float64(0.031750031750047626)), (1333, np.float64(0.07332355751067667)), (1334, np.float64(0.0)), (1335, np.float64(0.08032193289024989)), (1336, np.float64(0.06788442333021306)), (1337, np.float64(0.0)), (1338, np.float64(0.0)), (1339, np.float64(0.0)), (1340, np.float64(0.13240678533309402)), (1341, np.float64(0.037450294313656915)), (1342, np.float64(0.05542739954736933)), (1343, np.float64(0.05617544147048537)), (1344, np.float64(0.13264730648561457)), (1345, np.float64(0.06788442333021306)), (1346, np.float64(0.0)), (1347, np.float64(0.0)), (1348, np.float64(0.07838618016696206)), (1349, np.float64(0.06160411036336974)), (1350, np.float64(0.04324387500644106)), (1351, np.float64(0.0)), (1352, np.float64(0.0)), (1353, np.float64(0.0)), (1354, np.float64(0.11138647983852826)), (1355, np.float64(0.0)), (1356, np.float64(0.03666177875533833)), (1357, np.float64(0.05477910356647767)), (1358, np.float64(0.08712136837380642)), (1359, np.float64(0.08843153765707638)), (1360, np.float64(0.05986843400892497)), (1361, np.float64(0.06350006350009525)), (1362, np.float64(0.0)), (1363, np.float64(0.16245910832216473)), (1364, np.float64(0.032791291789197645)), (1365, np.float64(0.11085479909473867)), (1366, np.float64(0.033351867298253506)), (1367, np.float64(0.0)), (1368, np.float64(0.05296271413323761)), (1369, np.float64(0.0)), (1370, np.float64(0.03829197905337418)), (1371, np.float64(0.0)), (1372, np.float64(0.021780342093451605)), (1373, np.float64(0.09600307214746387)), (1374, np.float64(0.031750031750047626)), (1375, np.float64(0.0)), (1376, np.float64(0.0)), (1377, np.float64(0.03666177875533833)), (1378, np.float64(0.04490132550669373)), (1379, np.float64(0.056099271345321444)), (1380, np.float64(0.0)), (1381, np.float64(0.041204282171516456)), (1382, np.float64(0.05751973085430508)), (1383, np.float64(0.03225806451612904)), (1384, np.float64(0.08740748201220976)), (1385, np.float64(0.027389551783238836)), (1386, np.float64(0.0951572136139613)), (1387, np.float64(0.03456505649101418)), (1388, np.float64(0.03919309008348103)), (1389, np.float64(0.0)), (1390, np.float64(0.03919309008348103)), (1391, np.float64(0.02102121059172125)), (1392, np.float64(0.06842968850192396)), (1393, np.float64(0.02913582733740325)), (1394, np.float64(0.07332355751067667)), (1395, np.float64(0.028049635672660722)), (1396, np.float64(0.10998533626601499)), (1397, np.float64(0.08122955416108235)), (1398, np.float64(0.0)), (1399, np.float64(0.03592106040535498)), (1400, np.float64(0.12903225806451615)), (1401, np.float64(0.15594107177393957)), (1402, np.float64(0.060717674071891624)), (1403, np.float64(0.01903812393862834)), (1404, np.float64(0.033351867298253506)), (1405, np.float64(0.048001536073731935)), (1406, np.float64(0.07838618016696206)), (1407, np.float64(0.0)), (1408, np.float64(0.0)), (1409, np.float64(0.041204282171516456)), (1410, np.float64(0.0)), (1411, np.float64(0.03225806451612904)), (1412, np.float64(0.0)), (1413, np.float64(0.06180642325727469)), (1414, np.float64(0.10059909096557136)), (1415, np.float64(0.13264730648561457)), (1416, np.float64(0.031750031750047626)), (1417, np.float64(0.0)), (1418, np.float64(0.1250610798961445)), (1419, np.float64(0.0704469953676347)), (1420, np.float64(0.0)), (1421, np.float64(0.06788442333021306)), (1422, np.float64(0.04324387500644106)), (1423, np.float64(0.0)), (1424, np.float64(0.2721431292861225)), (1425, np.float64(0.01778357485073947)), (1426, np.float64(0.0)), (1427, np.float64(0.09525009525014287)), (1428, np.float64(0.04888237167378443)), (1429, np.float64(0.049813548138671795)), (1430, np.float64(0.10005560189476051)), (1431, np.float64(0.0)), (1432, np.float64(0.06558258357839529)), (1433, np.float64(0.08712136837380642)), (1434, np.float64(0.10776318121606496)), (1435, np.float64(0.02227729596770565)), (1436, np.float64(0.09677419354838711)), (1437, np.float64(0.03225806451612904)), (1438, np.float64(0.03394221166510653)), (1439, np.float64(0.05986843400892497)), (1440, np.float64(0.08980265101338746)), (1441, np.float64(0.07472032220800769)), (1442, np.float64(0.051315800579078544)), (1443, np.float64(0.06913011298202835)), (1444, np.float64(0.0)), (1445, np.float64(0.08740748201220976)), (1446, np.float64(0.018624202231923414)), (1447, np.float64(0.056796183424706485)), (1448, np.float64(0.0)), (1449, np.float64(0.09240616554505461)), (1450, np.float64(0.0582716546748065)), (1451, np.float64(0.0)), (1452, np.float64(0.11973686801784994)), (1453, np.float64(0.10263160115815707)), (1454, np.float64(0.0)), (1455, np.float64(0.04757860680698065)), (1456, np.float64(0.02875986542715254)), (1457, np.float64(0.05477910356647767)), (1458, np.float64(0.09353047470899115)), (1459, np.float64(0.04676523735449557)), (1460, np.float64(0.0)), (1461, np.float64(0.06253053994807226)), (1462, np.float64(0.037450294313656915)), (1463, np.float64(0.026481357066618805)), (1464, np.float64(0.0)), (1465, np.float64(0.10005560189476051)), (1466, np.float64(0.10369516947304254)), (1467, np.float64(0.05415303610738824)), (1468, np.float64(0.02913582733740325)), (1469, np.float64(0.03080205518168487)), (1470, np.float64(0.0)), (1471, np.float64(0.11359236684941297)), (1472, np.float64(0.1567723603339241)), (1473, np.float64(0.019367337799588276)), (1474, np.float64(0.0)), (1475, np.float64(0.022809896167307987)), (1476, np.float64(0.10005560189476051)), (1477, np.float64(0.06670373459650701)), (1478, np.float64(0.0)), (1479, np.float64(0.07332355751067667)), (1480, np.float64(0.0)), (1481, np.float64(0.059053859535749265)), (1482, np.float64(0.14368424162141993)), (1483, np.float64(0.0406725917391042)), (1484, np.float64(0.07838618016696206)), (1485, np.float64(0.04016096644512494)), (1486, np.float64(0.19050019050028574)), (1487, np.float64(0.12995783552244983)), (1488, np.float64(0.19674775073518588)), (1489, np.float64(0.0)), (1490, np.float64(0.14664711502135333)), (1491, np.float64(0.04233337566673017)), (1492, np.float64(0.07014785603174337)), (1493, np.float64(0.08526091126389751)), (1494, np.float64(0.05184758473652127)), (1495, np.float64(0.03592106040535498)), (1496, np.float64(0.0267739776300833)), (1497, np.float64(0.0)), (1498, np.float64(0.04233337566673017)), (1499, np.float64(0.08776911980822988)), (1500, np.float64(0.03080205518168487)), (1501, np.float64(0.028049635672660722)), (1502, np.float64(0.11810771907149853)), (1503, np.float64(0.0)), (1504, np.float64(0.083141099321054)), (1505, np.float64(0.04490132550669373)), (1506, np.float64(0.022996102490913696)), (1507, np.float64(0.2804963567266072)), (1508, np.float64(0.024670685574572422)), (1509, np.float64(0.060717674071891624)), (1510, np.float64(0.028049635672660722)), (1511, np.float64(0.0)), (1512, np.float64(0.09353047470899116)), (1513, np.float64(0.0)), (1514, np.float64(0.0)), (1515, np.float64(0.08980265101338746)), (1516, np.float64(0.07658395810674835)), (1517, np.float64(0.16481712868606582)), (1518, np.float64(0.025149772741392844)), (1519, np.float64(0.1402481783633036)), (1520, np.float64(0.08032193289024989)), (1521, np.float64(0.03829197905337418)), (1522, np.float64(0.07332355751067667)), (1523, np.float64(0.060717674071891624)), (1524, np.float64(0.0)), (1525, np.float64(0.02046792375417865)), (1526, np.float64(0.048001536073731935)), (1527, np.float64(0.0)), (1528, np.float64(0.051315800579078544)), (1529, np.float64(0.0)), (1530, np.float64(0.08843153765707637)), (1531, np.float64(0.02913582733740325)), (1532, np.float64(0.0)), (1533, np.float64(0.07697370086861781)), (1534, np.float64(0.0508000508000762)), (1535, np.float64(0.0)), (1536, np.float64(0.02358333153182891)), (1537, np.float64(0.07933635037580192)), (1538, np.float64(0.025149772741392844)), (1539, np.float64(0.01971424306719378)), (1540, np.float64(0.14980117725462766)), (1541, np.float64(0.06788442333021306)), (1542, np.float64(0.0535479552601666)), (1543, np.float64(0.023382618677247786)), (1544, np.float64(0.116543309349613)), (1545, np.float64(0.0)), (1546, np.float64(0.02162193750322053)), (1547, np.float64(0.0)), (1548, np.float64(0.060241449667687415)), (1549, np.float64(0.0)), (1550, np.float64(0.046373889576016826)), (1551, np.float64(0.06394568344792313)), (1552, np.float64(0.06160411036336974)), (1553, np.float64(0.026198125853112306)), (1554, np.float64(0.03666177875533833)), (1555, np.float64(0.0)), (1556, np.float64(0.0885807893036239)), (1557, np.float64(0.024906774069335898)), (1558, np.float64(0.0)), (1559, np.float64(0.0)), (1560, np.float64(0.028049635672660722)), (1561, np.float64(0.0)), (1562, np.float64(0.06253053994807226)), (1563, np.float64(0.0445545919354113)), (1564, np.float64(0.06451612903225808)), (1565, np.float64(0.0)), (1566, np.float64(0.0)), (1567, np.float64(0.0)), (1568, np.float64(0.018624202231923414)), (1569, np.float64(0.0704469953676347)), (1570, np.float64(0.1016814793477605)), (1571, np.float64(0.08240856434303291)), (1572, np.float64(0.06632365324280728)), (1573, np.float64(0.04233337566673017)), (1574, np.float64(0.02046792375417865)), (1575, np.float64(0.06788442333021306)), (1576, np.float64(0.049813548138671795)), (1577, np.float64(0.056099271345321444)), (1578, np.float64(0.08240856434303291)), (1579, np.float64(0.10263160115815707)), (1580, np.float64(0.03394221166510653)), (1581, np.float64(0.060717674071891624)), (1582, np.float64(0.032791291789197645)), (1583, np.float64(0.0)), (1584, np.float64(0.0)), (1585, np.float64(0.06253053994807226)), (1586, np.float64(0.025149772741392844)), (1587, np.float64(0.05184758473652127)), (1588, np.float64(0.0508000508000762)), (1589, np.float64(0.02227729596770565)), (1590, np.float64(0.03592106040535498)), (1591, np.float64(0.083141099321054)), (1592, np.float64(0.0)), (1593, np.float64(0.02913582733740325)), (1594, np.float64(0.07074999459548673)), (1595, np.float64(0.04490132550669373)), (1596, np.float64(0.0)), (1597, np.float64(0.0)), (1598, np.float64(0.22439708538128578)), (1599, np.float64(0.04388455990411494)), (1600, np.float64(0.0)), (1601, np.float64(0.0)), (1602, np.float64(0.03456505649101418)), (1603, np.float64(0.03394221166510653)), (1604, np.float64(0.0)), (1605, np.float64(0.0420424211834425)), (1606, np.float64(0.0)), (1607, np.float64(0.0)), (1608, np.float64(0.027389551783238836)), (1609, np.float64(0.1270001270001905)), (1610, np.float64(0.11085479909473867)), (1611, np.float64(0.044215768828538185)), (1612, np.float64(0.09379580992210838)), (1613, np.float64(0.05184758473652127)), (1614, np.float64(0.03919309008348103)), (1615, np.float64(0.0)), (1616, np.float64(0.0582716546748065)), (1617, np.float64(0.08466675133346034)), (1618, np.float64(0.07472032220800769)), (1619, np.float64(0.05415303610738824)), (1620, np.float64(0.0)), (1621, np.float64(0.0267739776300833)), (1622, np.float64(0.0)), (1623, np.float64(0.03666177875533833)), (1624, np.float64(0.03592106040535498)), (1625, np.float64(0.049813548138671795)), (1626, np.float64(0.0)), (1627, np.float64(0.06558258357839529)), (1628, np.float64(0.12961896184130317)), (1629, np.float64(0.026481357066618805)), (1630, np.float64(0.07449680892769366)), (1631, np.float64(0.06451612903225808)), (1632, np.float64(0.027713699773684666)), (1633, np.float64(0.03456505649101418)), (1634, np.float64(0.0)), (1635, np.float64(0.04676523735449557)), (1636, np.float64(0.028049635672660722)), (1637, np.float64(0.05950226278185144)), (1638, np.float64(0.08216865534971651)), (1639, np.float64(0.08216865534971651)), (1640, np.float64(0.028398091712353243)), (1641, np.float64(0.1382602259640567)), (1642, np.float64(0.059053859535749265)), (1643, np.float64(0.022450662753346864)), (1644, np.float64(0.026198125853112306)), (1645, np.float64(0.02875986542715254)), (1646, np.float64(0.024217973984824143)), (1647, np.float64(0.07944407119985641)), (1648, np.float64(0.018932061141568826)), (1649, np.float64(0.0)), (1650, np.float64(0.060717674071891624)), (1651, np.float64(0.0)), (1652, np.float64(0.05029954548278569)), (1653, np.float64(0.06160411036336974)), (1654, np.float64(0.10005560189476051)), (1655, np.float64(0.1513535625225437)), (1656, np.float64(0.0)), (1657, np.float64(0.05751973085430508)), (1658, np.float64(0.03666177875533833)), (1659, np.float64(0.0)), (1660, np.float64(0.0)), (1661, np.float64(0.04356068418690321)), (1662, np.float64(0.037450294313656915)), (1663, np.float64(0.06253053994807226)), (1664, np.float64(0.0)), (1665, np.float64(0.0)), (1666, np.float64(0.11757927025044308)), (1667, np.float64(0.03592106040535498)), (1668, np.float64(0.0)), (1669, np.float64(0.13068205256070964)), (1670, np.float64(0.0)), (1671, np.float64(0.05233442719890389)), (1672, np.float64(0.04888237167378443)), (1673, np.float64(0.09868274229828969)), (1674, np.float64(0.06062152567574662)), (1675, np.float64(0.029526929767874632)), (1676, np.float64(0.0)), (1677, np.float64(0.07658395810674835)), (1678, np.float64(0.029934217004462485)), (1679, np.float64(0.0)), (1680, np.float64(0.0)), (1681, np.float64(0.0)), (1682, np.float64(0.0)), (1683, np.float64(0.0)), (1684, np.float64(0.06160411036336974)), (1685, np.float64(0.08032193289024989)), (1686, np.float64(0.0)), (1687, np.float64(0.048435947969648285)), (1688, np.float64(0.10369516947304254)), (1689, np.float64(0.022107884414269093)), (1690, np.float64(0.05239625170622461)), (1691, np.float64(0.05986843400892497)), (1692, np.float64(0.041204282171516456)), (1693, np.float64(0.0)), (1694, np.float64(0.09274777915203365)), (1695, np.float64(0.05029954548278569)), (1696, np.float64(0.0)), (1697, np.float64(0.07697370086861781)), (1698, np.float64(0.0)), (1699, np.float64(0.06350006350009525)), (1700, np.float64(0.09962709627734358)), (1701, np.float64(0.0803219328902499)), (1702, np.float64(0.11487593716012254)), (1703, np.float64(0.1408939907352694)), (1704, np.float64(0.07265392195447243)), (1705, np.float64(0.06670373459650701)), (1706, np.float64(0.04490132550669373)), (1707, np.float64(0.038961860395326293)), (1708, np.float64(0.04757860680698065)), (1709, np.float64(0.06451612903225808)), (1710, np.float64(0.05415303610738824)), (1711, np.float64(0.04356068418690321)), (1712, np.float64(0.03829197905337418)), (1713, np.float64(0.0)), (1714, np.float64(0.03592106040535498)), (1715, np.float64(0.08627959628145762)), (1716, np.float64(0.03394221166510653)), (1717, np.float64(0.10369516947304254)), (1718, np.float64(0.05029954548278569)), (1719, np.float64(0.0)), (1720, np.float64(0.03522349768381735)), (1721, np.float64(0.07401205672371727)), (1722, np.float64(0.12903225806451615)), (1723, np.float64(0.14368424162141993)), (1724, np.float64(0.0)), (1725, np.float64(0.025657900289539272)), (1726, np.float64(0.0)), (1727, np.float64(0.0)), (1728, np.float64(0.0)), (1729, np.float64(0.07074999459548673)), (1730, np.float64(0.03829197905337418)), (1731, np.float64(0.02194227995205747)), (1732, np.float64(0.051315800579078544)), (1733, np.float64(0.037450294313656915)), (1734, np.float64(0.06558258357839529)), (1735, np.float64(0.0885807893036239)), (1736, np.float64(0.028398091712353243)), (1737, np.float64(0.06956083436402524)), (1738, np.float64(0.08032193289024989)), (1739, np.float64(0.021166687833365085)), (1740, np.float64(0.0)), (1741, np.float64(0.07838618016696206)), (1742, np.float64(0.0885807893036239)), (1743, np.float64(0.059053859535749265)), (1744, np.float64(0.049341371149144844)), (1745, np.float64(0.12320822072673948)), (1746, np.float64(0.03126526997403613)), (1747, np.float64(0.0689883074727411)), (1748, np.float64(0.07401205672371726)), (1749, np.float64(0.027713699773684666)), (1750, np.float64(0.023789303403490326)), (1751, np.float64(0.0)), (1752, np.float64(0.06788442333021306)), (1753, np.float64(0.12361284651454937)), (1754, np.float64(0.0)), (1755, np.float64(0.07136791021047098)), (1756, np.float64(0.03225806451612904)), (1757, np.float64(0.09600307214746387)), (1758, np.float64(0.021780342093451605)), (1759, np.float64(0.10059909096557136)), (1760, np.float64(0.026481357066618805)), (1761, np.float64(0.0)), (1762, np.float64(0.0)), (1763, np.float64(0.0)), (1764, np.float64(0.0)), (1765, np.float64(0.0)), (1766, np.float64(0.08240856434303291)), (1767, np.float64(0.11503946170861017)), (1768, np.float64(0.0)), (1769, np.float64(0.1270001270001905)), (1770, np.float64(0.0)), (1771, np.float64(0.15246239465416125)), (1772, np.float64(0.0)), (1773, np.float64(0.17424273674761287)), (1774, np.float64(0.04356068418690321)), (1775, np.float64(0.16481712868606582)), (1776, np.float64(0.019480930197663147)), (1777, np.float64(0.0)), (1778, np.float64(0.03919309008348103)), (1779, np.float64(0.1466471150213533)), (1780, np.float64(0.03126526997403613)), (1781, np.float64(0.021780342093451605)), (1782, np.float64(0.05415303610738824)), (1783, np.float64(0.0)), (1784, np.float64(0.05296271413323761)), (1785, np.float64(0.12048289933537483)), (1786, np.float64(0.029934217004462485)), (1787, np.float64(0.0)), (1788, np.float64(0.0)), (1789, np.float64(0.0)), (1790, np.float64(0.0)), (1791, np.float64(0.0)), (1792, np.float64(0.09525009525014287)), (1793, np.float64(0.0)), (1794, np.float64(0.04525628222014204)), (1795, np.float64(0.07777137710478191)), (1796, np.float64(0.07544931822417852)), (1797, np.float64(0.05415303610738824)), (1798, np.float64(0.0)), (1799, np.float64(0.1728252824550709)), (1800, np.float64(0.10776318121606496)), (1801, np.float64(0.0)), (1802, np.float64(0.0)), (1803, np.float64(0.041204282171516456)), (1804, np.float64(0.05986843400892497)), (1805, np.float64(0.029934217004462485)), (1806, np.float64(0.029526929767874632)), (1807, np.float64(0.060717674071891624)), (1808, np.float64(0.031750031750047626)), (1809, np.float64(0.04233337566673017)), (1810, np.float64(0.0)), (1811, np.float64(0.028398091712353243)), (1812, np.float64(0.0)), (1813, np.float64(0.04716666306365782)), (1814, np.float64(0.0)), (1815, np.float64(0.0)), (1816, np.float64(0.0)), (1817, np.float64(0.060717674071891624)), (1818, np.float64(0.0)), (1819, np.float64(0.08122955416108235)), (1820, np.float64(0.0)), (1821, np.float64(0.0)), (1822, np.float64(0.0)), (1823, np.float64(0.029934217004462485)), (1824, np.float64(0.0)), (1825, np.float64(0.0)), (1826, np.float64(0.0)), (1827, np.float64(0.07944407119985641)), (1828, np.float64(0.07265392195447243)), (1829, np.float64(0.16395645894598823)), (1830, np.float64(0.032791291789197645)), (1831, np.float64(0.0)), (1832, np.float64(0.07449680892769366)), (1833, np.float64(0.031750031750047626)), (1834, np.float64(0.027713699773684666)), (1835, np.float64(0.031750031750047626)), (1836, np.float64(0.037450294313656915)), (1837, np.float64(0.05415303610738824)), (1838, np.float64(0.060717674071891624)), (1839, np.float64(0.06788442333021306)), (1840, np.float64(0.029526929767874632)), (1841, np.float64(0.0)), (1842, np.float64(0.0)), (1843, np.float64(0.05184758473652127)), (1844, np.float64(0.023789303403490326)), (1845, np.float64(0.03829197905337418)), (1846, np.float64(0.060717674071891624)), (1847, np.float64(0.0)), (1848, np.float64(0.07332355751067667)), (1849, np.float64(0.0)), (1850, np.float64(0.1408939907352694)), (1851, np.float64(0.02227729596770565)), (1852, np.float64(0.07531100588381143)), (1853, np.float64(0.08776911980822988)), (1854, np.float64(0.0)), (1855, np.float64(0.06253053994807226)), (1856, np.float64(0.14980117725462766)), (1857, np.float64(0.019367337799588276)), (1858, np.float64(0.0)), (1859, np.float64(0.026198125853112306)), (1860, np.float64(0.07697370086861781)), (1861, np.float64(0.059053859535749265)), (1862, np.float64(0.09837387536759294)), (1863, np.float64(0.06306363177516375)), (1864, np.float64(0.04356068418690321)), (1865, np.float64(0.026481357066618805)), (1866, np.float64(0.0)), (1867, np.float64(0.026198125853112306)), (1868, np.float64(0.0)), (1869, np.float64(0.02046792375417865)), (1870, np.float64(0.09687189593929657)), (1871, np.float64(0.029526929767874632)), (1872, np.float64(0.04525628222014204)), (1873, np.float64(0.037450294313656915)), (1874, np.float64(0.04525628222014204)), (1875, np.float64(0.046373889576016826)), (1876, np.float64(0.0)), (1877, np.float64(0.0)), (1878, np.float64(0.05184758473652127)), (1879, np.float64(0.10592542826647522)), (1880, np.float64(0.03666177875533833)), (1881, np.float64(0.02707651805369412)), (1882, np.float64(0.11235088294097074)), (1883, np.float64(0.021780342093451605)), (1884, np.float64(0.05542739954736933)), (1885, np.float64(0.033351867298253506)), (1886, np.float64(0.0)), (1887, np.float64(0.033351867298253506)), (1888, np.float64(0.04016096644512494)), (1889, np.float64(0.12320822072673948)), (1890, np.float64(0.024441185836892216)), (1891, np.float64(0.0)), (1892, np.float64(0.0254000254000381)), (1893, np.float64(0.022809896167307987)), (1894, np.float64(0.08776911980822988)), (1895, np.float64(0.0704469953676347)), (1896, np.float64(0.2300789234172203)), (1897, np.float64(0.04356068418690321)), (1898, np.float64(0.03394221166510653)), (1899, np.float64(0.05542739954736933)), (1900, np.float64(0.03919309008348103)), (1901, np.float64(0.03456505649101418)), (1902, np.float64(0.024670685574572422)), (1903, np.float64(0.0)), (1904, np.float64(0.01796053020267749)), (1905, np.float64(0.0)), (1906, np.float64(0.02707651805369412)), (1907, np.float64(0.0)), (1908, np.float64(0.02707651805369412)), (1909, np.float64(0.11085479909473867)), (1910, np.float64(0.06582683985617241)), (1911, np.float64(0.0)), (1912, np.float64(0.07859437755933692)), (1913, np.float64(0.0)), (1914, np.float64(0.0)), (1915, np.float64(0.0)), (1916, np.float64(0.0)), (1917, np.float64(0.0)), (1918, np.float64(0.0)), (1919, np.float64(0.0)), (1920, np.float64(0.06440081861116377)), (1921, np.float64(0.04016096644512494)), (1922, np.float64(0.04356068418690321)), (1923, np.float64(0.07184212081070997)), (1924, np.float64(0.09379580992210838)), (1925, np.float64(0.0)), (1926, np.float64(0.048435947969648285)), (1927, np.float64(0.0)), (1928, np.float64(0.0)), (1929, np.float64(0.027389551783238836)), (1930, np.float64(0.03522349768381735)), (1931, np.float64(0.037450294313656915)), (1932, np.float64(0.15394740173723562)), (1933, np.float64(0.0)), (1934, np.float64(0.07944407119985641)), (1935, np.float64(0.13068205256070964)), (1936, np.float64(0.024000768036865967)), (1937, np.float64(0.03225806451612904)), (1938, np.float64(0.10776318121606496)), (1939, np.float64(0.10369516947304254)), (1940, np.float64(0.0)), (1941, np.float64(0.060717674071891624)), (1942, np.float64(0.06451612903225808)), (1943, np.float64(0.041204282171516456)), (1944, np.float64(0.0)), (1945, np.float64(0.0)), (1946, np.float64(0.10567049305145204)), (1947, np.float64(0.0)), (1948, np.float64(0.05415303610738824)), (1949, np.float64(0.015813365095036138)), (1950, np.float64(0.03225806451612904)), (1951, np.float64(0.0)), (1952, np.float64(0.04233337566673017)), (1953, np.float64(0.0)), (1954, np.float64(0.024217973984824143)), (1955, np.float64(0.05986843400892497)), (1956, np.float64(0.05986843400892497)), (1957, np.float64(0.059053859535749265)), (1958, np.float64(0.0508000508000762)), (1959, np.float64(0.0)), (1960, np.float64(0.0)), (1961, np.float64(0.02194227995205747)), (1962, np.float64(0.022809896167307987)), (1963, np.float64(0.027389551783238836)), (1964, np.float64(0.08980265101338746)), (1965, np.float64(0.04356068418690321)), (1966, np.float64(0.1070959105203332)), (1967, np.float64(0.0)), (1968, np.float64(0.05184758473652127)), (1969, np.float64(0.06670373459650701)), (1970, np.float64(0.025149772741392844)), (1971, np.float64(0.028049635672660722)), (1972, np.float64(0.03394221166510653)), (1973, np.float64(0.07544931822417852)), (1974, np.float64(0.10567049305145204)), (1975, np.float64(0.16508332072280235)), (1976, np.float64(0.025149772741392844)), (1977, np.float64(0.03080205518168487)), (1978, np.float64(0.1250610798961445)), (1979, np.float64(0.0)), (1980, np.float64(0.14400460822119582)), (1981, np.float64(0.06253053994807226)), (1982, np.float64(0.08712136837380642)), (1983, np.float64(0.07332355751067665)), (1984, np.float64(0.0)), (1985, np.float64(0.048001536073731935)), (1986, np.float64(0.02046792375417865)), (1987, np.float64(0.0)), (1988, np.float64(0.03647231093011027)), (1989, np.float64(0.0)), (1990, np.float64(0.03225806451612904)), (1991, np.float64(0.03456505649101418)), (1992, np.float64(0.0535479552601666)), (1993, np.float64(0.07697370086861781)), (1994, np.float64(0.04233337566673017)), (1995, np.float64(0.0)), (1996, np.float64(0.0)), (1997, np.float64(0.09051256444028409)), (1998, np.float64(0.0508000508000762)), (1999, np.float64(0.0)), (2000, np.float64(0.03592106040535498)), (2001, np.float64(0.0)), (2002, np.float64(0.025923792368260635)), (2003, np.float64(0.15554275420956382)), (2004, np.float64(0.05477910356647767)), (2005, np.float64(0.02707651805369412)), (2006, np.float64(0.0)), (2007, np.float64(0.0)), (2008, np.float64(0.0)), (2009, np.float64(0.10955820713295535)), (2010, np.float64(0.0)), (2011, np.float64(0.0)), (2012, np.float64(0.0)), (2013, np.float64(0.06913011298202835)), (2014, np.float64(0.0)), (2015, np.float64(0.06788442333021306)), (2016, np.float64(0.0)), (2017, np.float64(0.05415303610738824)), (2018, np.float64(0.09107651110783743)), (2019, np.float64(0.0)), (2020, np.float64(0.030358837035945812)), (2021, np.float64(0.07472032220800769)), (2022, np.float64(0.030467845778187626)), (2023, np.float64(0.024441185836892216)), (2024, np.float64(0.0)), (2025, np.float64(0.0891091838708226)), (2026, np.float64(0.026481357066618805)), (2027, np.float64(0.0)), (2028, np.float64(0.13478996693836337)), (2029, np.float64(0.022450662753346864)), (2030, np.float64(0.0)), (2031, np.float64(0.07544931822417852)), (2032, np.float64(0.0)), (2033, np.float64(0.10369516947304254)), (2034, np.float64(0.0)), (2035, np.float64(0.028398091712353243)), (2036, np.float64(0.04490132550669373)), (2037, np.float64(0.0)), (2038, np.float64(0.032791291789197645)), (2039, np.float64(0.04490132550669373)), (2040, np.float64(0.029526929767874632)), (2041, np.float64(0.03592106040535498)), (2042, np.float64(0.025923792368260635)), (2043, np.float64(0.06160411036336974)), (2044, np.float64(0.021466939537054593)), (2045, np.float64(0.07381732441968658)), (2046, np.float64(0.0)), (2047, np.float64(0.028049635672660722)), (2048, np.float64(0.048001536073731935)), (2049, np.float64(0.14664711502135333)), (2050, np.float64(0.06735198826004059)), (2051, np.float64(0.02707651805369412)), (2052, np.float64(0.1624591083221647)), (2053, np.float64(0.0)), (2054, np.float64(0.0)), (2055, np.float64(0.027389551783238836)), (2056, np.float64(0.09837387536759294)), (2057, np.float64(0.13470397652008118)), (2058, np.float64(0.032791291789197645)), (2059, np.float64(0.049813548138671795)), (2060, np.float64(0.0)), (2061, np.float64(0.037450294313656915)), (2062, np.float64(0.0)), (2063, np.float64(0.07184212081070997)), (2064, np.float64(0.06160411036336974)), (2065, np.float64(0.11894651701745164)), (2066, np.float64(0.0)), (2067, np.float64(0.024217973984824143)), (2068, np.float64(0.08740748201220976)), (2069, np.float64(0.10776318121606496)), (2070, np.float64(0.03126526997403613)), (2071, np.float64(0.16395645894598823)), (2072, np.float64(0.03919309008348103)), (2073, np.float64(0.02913582733740325)), (2074, np.float64(0.0)), (2075, np.float64(0.0)), (2076, np.float64(0.049341371149144844)), (2077, np.float64(0.06263607679944926)), (2078, np.float64(0.0)), (2079, np.float64(0.025657900289539272)), (2080, np.float64(0.048001536073731935)), (2081, np.float64(0.0)), (2082, np.float64(0.06306363177516375)), (2083, np.float64(0.02707651805369412)), (2084, np.float64(0.02358333153182891)), (2085, np.float64(0.04016096644512494)), (2086, np.float64(0.06788442333021306)), (2087, np.float64(0.05986843400892497)), (2088, np.float64(0.05029954548278569)), (2089, np.float64(0.0)), (2090, np.float64(0.0)), (2091, np.float64(0.07777137710478191)), (2092, np.float64(0.026198125853112306)), (2093, np.float64(0.083141099321054)), (2094, np.float64(0.033351867298253506)), (2095, np.float64(0.0891091838708226)), (2096, np.float64(0.0)), (2097, np.float64(0.07332355751067667)), (2098, np.float64(0.0)), (2099, np.float64(0.051315800579078544)), (2100, np.float64(0.048001536073731935)), (2101, np.float64(0.02358333153182891)), (2102, np.float64(0.1131407055503551)), (2103, np.float64(0.20119818193114275)), (2104, np.float64(0.02875986542715254)), (2105, np.float64(0.024441185836892216)), (2106, np.float64(0.0)), (2107, np.float64(0.07136791021047098)), (2108, np.float64(0.09837387536759294)), (2109, np.float64(0.0704469953676347)), (2110, np.float64(0.0)), (2111, np.float64(0.05914272920158134)), (2112, np.float64(0.03394221166510653)), (2113, np.float64(0.07490058862731383)), (2114, np.float64(0.041204282171516456)), (2115, np.float64(0.07658395810674835)), (2116, np.float64(0.0)), (2117, np.float64(0.0)), (2118, np.float64(0.03225806451612904)), (2119, np.float64(0.0)), (2120, np.float64(0.033351867298253506)), (2121, np.float64(0.0)), (2122, np.float64(0.0)), (2123, np.float64(0.0)), (2124, np.float64(0.09240616554505461)), (2125, np.float64(0.0)), (2126, np.float64(0.049341371149144844)), (2127, np.float64(0.0)), (2128, np.float64(0.05239625170622461)), (2129, np.float64(0.024217973984824143)), (2130, np.float64(0.029934217004462485)), (2131, np.float64(0.1210898699241207)), (2132, np.float64(0.0)), (2133, np.float64(0.0)), (2134, np.float64(0.033351867298253506)), (2135, np.float64(0.0)), (2136, np.float64(0.028049635672660722)), (2137, np.float64(0.0)), (2138, np.float64(0.07078814504020879)), (2139, np.float64(0.0)), (2140, np.float64(0.0)), (2141, np.float64(0.033351867298253506)), (2142, np.float64(0.12903225806451615)), (2143, np.float64(0.04676523735449557)), (2144, np.float64(0.060717674071891624)), (2145, np.float64(0.14763464883937316)), (2146, np.float64(0.041757384532966166)), (2147, np.float64(0.0)), (2148, np.float64(0.05477910356647767)), (2149, np.float64(0.023186944788008413)), (2150, np.float64(0.04757860680698065)), (2151, np.float64(0.03522349768381735)), (2152, np.float64(0.033351867298253506)), (2153, np.float64(0.0)), (2154, np.float64(0.0)), (2155, np.float64(0.033351867298253506)), (2156, np.float64(0.05542739954736933)), (2157, np.float64(0.1567723603339241)), (2158, np.float64(0.049341371149144844)), (2159, np.float64(0.083141099321054)), (2160, np.float64(0.059053859535749265)), (2161, np.float64(0.04233337566673017)), (2162, np.float64(0.0)), (2163, np.float64(0.060717674071891624)), (2164, np.float64(0.0)), (2165, np.float64(0.060717674071891624)), (2166, np.float64(0.03225806451612904)), (2167, np.float64(0.03919309008348103)), (2168, np.float64(0.060717674071891624)), (2169, np.float64(0.0)), (2170, np.float64(0.0)), (2171, np.float64(0.060717674071891624)), (2172, np.float64(0.027389551783238836)), (2173, np.float64(0.02875986542715254)), (2174, np.float64(0.0)), (2175, np.float64(0.03126526997403613)), (2176, np.float64(0.05542739954736933)), (2177, np.float64(0.02875986542715254)), (2178, np.float64(0.02046792375417865)), (2179, np.float64(0.02707651805369412)), (2180, np.float64(0.0)), (2181, np.float64(0.06558258357839529)), (2182, np.float64(0.0)), (2183, np.float64(0.05239625170622461)), (2184, np.float64(0.0)), (2185, np.float64(0.06350006350009525)), (2186, np.float64(0.1228075425250719)), (2187, np.float64(0.02262814111007102)), (2188, np.float64(0.0)), (2189, np.float64(0.0)), (2190, np.float64(0.07490058862731383)), (2191, np.float64(0.02008048322256247)), (2192, np.float64(0.03126526997403613)), (2193, np.float64(0.0)), (2194, np.float64(0.0)), (2195, np.float64(0.14664711502135333)), (2196, np.float64(0.1419904585617662)), (2197, np.float64(0.05477910356647767)), (2198, np.float64(0.12903225806451615)), (2199, np.float64(0.022809896167307987)), (2200, np.float64(0.083141099321054)), (2201, np.float64(0.08712136837380642)), (2202, np.float64(0.09240616554505461)), (2203, np.float64(0.0774693511983531)), (2204, np.float64(0.028049635672660722)), (2205, np.float64(0.0762000762001143)), (2206, np.float64(0.03522349768381735)), (2207, np.float64(0.05751973085430508)), (2208, np.float64(0.04016096644512494)), (2209, np.float64(0.0689883074727411)), (2210, np.float64(0.0)), (2211, np.float64(0.0803219328902499)), (2212, np.float64(0.06558258357839529)), (2213, np.float64(0.030358837035945812)), (2214, np.float64(0.07490058862731383)), (2215, np.float64(0.056796183424706485)), (2216, np.float64(0.024217973984824143)), (2217, np.float64(0.0)), (2218, np.float64(0.03394221166510653)), (2219, np.float64(0.04716666306365782)), (2220, np.float64(0.0582716546748065)), (2221, np.float64(0.0)), (2222, np.float64(0.06632365324280728)), (2223, np.float64(0.13340746919301402)), (2224, np.float64(0.17611748841908675)), (2225, np.float64(0.059053859535749265)), (2226, np.float64(0.03225806451612904)), (2227, np.float64(0.03592106040535498)), (2228, np.float64(0.0)), (2229, np.float64(0.0)), (2230, np.float64(0.03592106040535498)), (2231, np.float64(0.16129032258064518)), (2232, np.float64(0.05184758473652127)), (2233, np.float64(0.05415303610738824)), (2234, np.float64(0.03456505649101418)), (2235, np.float64(0.024906774069335898)), (2236, np.float64(0.0)), (2237, np.float64(0.05296271413323761)), (2238, np.float64(0.0)), (2239, np.float64(0.0762000762001143)), (2240, np.float64(0.03666177875533833)), (2241, np.float64(0.0)), (2242, np.float64(0.024906774069335898)), (2243, np.float64(0.0)), (2244, np.float64(0.0)), (2245, np.float64(0.0)), (2246, np.float64(0.07332355751067667)), (2247, np.float64(0.06670373459650701)), (2248, np.float64(0.05986843400892497)), (2249, np.float64(0.0)), (2250, np.float64(0.024441185836892216)), (2251, np.float64(0.056796183424706485)), (2252, np.float64(0.041478067789217005)), (2253, np.float64(0.03829197905337418)), (2254, np.float64(0.049813548138671795)), (2255, np.float64(0.07332355751067667)), (2256, np.float64(0.0)), (2257, np.float64(0.06350006350009525)), (2258, np.float64(0.06440081861116377)), (2259, np.float64(0.0)), (2260, np.float64(0.0)), (2261, np.float64(0.0)), (2262, np.float64(0.033351867298253506)), (2263, np.float64(0.03592106040535498)), (2264, np.float64(0.03592106040535498)), (2265, np.float64(0.05477910356647767)), (2266, np.float64(0.10776318121606496)), (2267, np.float64(0.10776318121606496)), (2268, np.float64(0.0)), (2269, np.float64(0.0)), (2270, np.float64(0.1270001270001905)), (2271, np.float64(0.0)), (2272, np.float64(0.027389551783238836)), (2273, np.float64(0.0)), (2274, np.float64(0.0)), (2275, np.float64(0.0)), (2276, np.float64(0.03126526997403613)), (2277, np.float64(0.03394221166510653)), (2278, np.float64(0.0)), (2279, np.float64(0.10567049305145204)), (2280, np.float64(0.025923792368260635)), (2281, np.float64(0.03126526997403613)), (2282, np.float64(0.024670685574572422)), (2283, np.float64(0.024217973984824143)), (2284, np.float64(0.0)), (2285, np.float64(0.0)), (2286, np.float64(0.0)), (2287, np.float64(0.042933879074109185)), (2288, np.float64(0.0)), (2289, np.float64(0.028049635672660722)), (2290, np.float64(0.04918693768379647)), (2291, np.float64(0.0582716546748065)), (2292, np.float64(0.02262814111007102)), (2293, np.float64(0.12048289933537483)), (2294, np.float64(0.0582716546748065)), (2295, np.float64(0.08032193289024989)), (2296, np.float64(0.0)), (2297, np.float64(0.06977923626520519)), (2298, np.float64(0.09776474334756886)), (2299, np.float64(0.0)), (2300, np.float64(0.03126526997403613)), (2301, np.float64(0.07472032220800769)), (2302, np.float64(0.0)), (2303, np.float64(0.0181428752857415)), (2304, np.float64(0.03829197905337418)), (2305, np.float64(0.03592106040535498)), (2306, np.float64(0.0)), (2307, np.float64(0.037450294313656915)), (2308, np.float64(0.0)), (2309, np.float64(0.03919309008348103)), (2310, np.float64(0.0)), (2311, np.float64(0.09962709627734359)), (2312, np.float64(0.03225806451612904)), (2313, np.float64(0.04016096644512494)), (2314, np.float64(0.07490058862731383)), (2315, np.float64(0.046373889576016826)), (2316, np.float64(0.024441185836892216)), (2317, np.float64(0.029526929767874632)), (2318, np.float64(0.06913011298202835)), (2319, np.float64(0.07658395810674835)), (2320, np.float64(0.0)), (2321, np.float64(0.049813548138671795)), (2322, np.float64(0.08240856434303291)), (2323, np.float64(0.03592106040535498)), (2324, np.float64(0.05184758473652127)), (2325, np.float64(0.02875986542715254)), (2326, np.float64(0.031750031750047626)), (2327, np.float64(0.08980265101338746)), (2328, np.float64(0.04490132550669373)), (2329, np.float64(0.07544931822417852)), (2330, np.float64(0.0)), (2331, np.float64(0.0)), (2332, np.float64(0.07332355751067667)), (2333, np.float64(0.030358837035945812)), (2334, np.float64(0.0)), (2335, np.float64(0.04490132550669373)), (2336, np.float64(0.04888237167378443)), (2337, np.float64(0.07944407119985641)), (2338, np.float64(0.1382602259640567)), (2339, np.float64(0.0)), (2340, np.float64(0.13240678533309402)), (2341, np.float64(0.05415303610738824)), (2342, np.float64(0.053350724552218405)), (2343, np.float64(0.03080205518168487)), (2344, np.float64(0.10182663499531959)), (2345, np.float64(0.03364315551262445)), (2346, np.float64(0.022450662753346864)), (2347, np.float64(0.024670685574572422)), (2348, np.float64(0.05415303610738824)), (2349, np.float64(0.08980265101338746)), (2350, np.float64(0.0)), (2351, np.float64(0.1270001270001905)), (2352, np.float64(0.028049635672660722)), (2353, np.float64(0.028398091712353243)), (2354, np.float64(0.051315800579078544)), (2355, np.float64(0.03080205518168487)), (2356, np.float64(0.0)), (2357, np.float64(0.04490132550669373)), (2358, np.float64(0.021780342093451605)), (2359, np.float64(0.07472032220800769)), (2360, np.float64(0.0)), (2361, np.float64(0.023186944788008413)), (2362, np.float64(0.0803219328902499)), (2363, np.float64(0.020878692266483083)), (2364, np.float64(0.029934217004462485)), (2365, np.float64(0.041204282171516456)), (2366, np.float64(0.04757860680698065)), (2367, np.float64(0.0)), (2368, np.float64(0.024670685574572422)), (2369, np.float64(0.025149772741392844)), (2370, np.float64(0.08627959628145762)), (2371, np.float64(0.03394221166510653)), (2372, np.float64(0.0)), (2373, np.float64(0.056099271345321444)), (2374, np.float64(0.10998533626601499)), (2375, np.float64(0.0)), (2376, np.float64(0.0)), (2377, np.float64(0.08032193289024989)), (2378, np.float64(0.05296271413323761)), (2379, np.float64(0.0)), (2380, np.float64(0.0)), (2381, np.float64(0.0)), (2382, np.float64(0.036854230359837384)), (2383, np.float64(0.027713699773684666)), (2384, np.float64(0.0)), (2385, np.float64(0.0)), (2386, np.float64(0.0)), (2387, np.float64(0.029934217004462485)), (2388, np.float64(0.04233337566673017)), (2389, np.float64(0.0)), (2390, np.float64(0.08032193289024989)), (2391, np.float64(0.05477910356647767)), (2392, np.float64(0.06913011298202835)), (2393, np.float64(0.06632365324280728)), (2394, np.float64(0.07658395810674835)), (2395, np.float64(0.06558258357839529)), (2396, np.float64(0.06350006350009525)), (2397, np.float64(0.0)), (2398, np.float64(0.03080205518168487)), (2399, np.float64(0.0)), (2400, np.float64(0.14530784390894486)), (2401, np.float64(0.03126526997403613)), (2402, np.float64(0.11235088294097074)), (2403, np.float64(0.0)), (2404, np.float64(0.027713699773684666)), (2405, np.float64(0.05415303610738824)), (2406, np.float64(0.0)), (2407, np.float64(0.049341371149144844)), (2408, np.float64(0.056099271345321444)), (2409, np.float64(0.03394221166510653)), (2410, np.float64(0.02707651805369412)), (2411, np.float64(0.0)), (2412, np.float64(0.03919309008348103)), (2413, np.float64(0.04356068418690321)), (2414, np.float64(0.18215302221567486)), (2415, np.float64(0.02913582733740325)), (2416, np.float64(0.04888237167378443)), (2417, np.float64(0.0267739776300833)), (2418, np.float64(0.0)), (2419, np.float64(0.02875986542715254)), (2420, np.float64(0.03080205518168487)), (2421, np.float64(0.0)), (2422, np.float64(0.041204282171516456)), (2423, np.float64(0.0)), (2424, np.float64(0.04757860680698065)), (2425, np.float64(0.04388455990411494)), (2426, np.float64(0.0)), (2427, np.float64(0.0)), (2428, np.float64(0.11359236684941297)), (2429, np.float64(0.06350006350009525)), (2430, np.float64(0.0)), (2431, np.float64(0.11235088294097074)), (2432, np.float64(0.0)), (2433, np.float64(0.0535479552601666)), (2434, np.float64(0.05542739954736933)), (2435, np.float64(0.04599220498182739)), (2436, np.float64(0.028398091712353243)), (2437, np.float64(0.051315800579078544)), (2438, np.float64(0.0)), (2439, np.float64(0.0)), (2440, np.float64(0.0)), (2441, np.float64(0.0)), (2442, np.float64(0.0)), (2443, np.float64(0.0)), (2444, np.float64(0.09683668899794139)), (2445, np.float64(0.028049635672660722)), (2446, np.float64(0.05542739954736933)), (2447, np.float64(0.0)), (2448, np.float64(0.030358837035945812)), (2449, np.float64(0.05415303610738824)), (2450, np.float64(0.0)), (2451, np.float64(0.0)), (2452, np.float64(0.0)), (2453, np.float64(0.03919309008348103)), (2454, np.float64(0.0)), (2455, np.float64(0.032791291789197645)), (2456, np.float64(0.02707651805369412)), (2457, np.float64(0.06788442333021306)), (2458, np.float64(0.0)), (2459, np.float64(0.03522349768381735)), (2460, np.float64(0.027713699773684666)), (2461, np.float64(0.032791291789197645)), (2462, np.float64(0.0)), (2463, np.float64(0.05477910356647767)), (2464, np.float64(0.025149772741392844)), (2465, np.float64(0.0)), (2466, np.float64(0.024670685574572422)), (2467, np.float64(0.028398091712353243)), (2468, np.float64(0.16652512382443227)), (2469, np.float64(0.025657900289539272)), (2470, np.float64(0.060241449667687415)), (2471, np.float64(0.028398091712353243)), (2472, np.float64(0.05776712868787001)), (2473, np.float64(0.07697370086861781)), (2474, np.float64(0.033351867298253506)), (2475, np.float64(0.04016096644512494)), (2476, np.float64(0.09274777915203365)), (2477, np.float64(0.028049635672660722)), (2478, np.float64(0.0)), (2479, np.float64(0.03456505649101418)), (2480, np.float64(0.023186944788008413)), (2481, np.float64(0.0762000762001143)), (2482, np.float64(0.0)), (2483, np.float64(0.0535479552601666)), (2484, np.float64(0.07777137710478191)), (2485, np.float64(0.0)), (2486, np.float64(0.0)), (2487, np.float64(0.09433332612731564)), (2488, np.float64(0.05415303610738824)), (2489, np.float64(0.060717674071891624)), (2490, np.float64(0.05296271413323761)), (2491, np.float64(0.056099271345321444)), (2492, np.float64(0.09379580992210838)), (2493, np.float64(0.0)), (2494, np.float64(0.09274777915203365)), (2495, np.float64(0.029934217004462485)), (2496, np.float64(0.0)), (2497, np.float64(0.0)), (2498, np.float64(0.028398091712353243)), (2499, np.float64(0.025149772741392844)), (2500, np.float64(0.0)), (2501, np.float64(0.0)), (2502, np.float64(0.06670373459650701)), (2503, np.float64(0.0)), (2504, np.float64(0.0)), (2505, np.float64(0.0)), (2506, np.float64(0.04016096644512494)), (2507, np.float64(0.0)), (2508, np.float64(0.03966817518790096)), (2509, np.float64(0.03456505649101418)), (2510, np.float64(0.08414890701798217)), (2511, np.float64(0.03522349768381735)), (2512, np.float64(0.07777137710478191)), (2513, np.float64(0.021315227815974377)), (2514, np.float64(0.041204282171516456)), (2515, np.float64(0.053350724552218405)), (2516, np.float64(0.0689883074727411)), (2517, np.float64(0.07658395810674835)), (2518, np.float64(0.0)), (2519, np.float64(0.0)), (2520, np.float64(0.0508000508000762)), (2521, np.float64(0.024441185836892216)), (2522, np.float64(0.0)), (2523, np.float64(0.07074999459548673)), (2524, np.float64(0.027713699773684666)), (2525, np.float64(0.05184758473652127)), (2526, np.float64(0.0)), (2527, np.float64(0.03456505649101418)), (2528, np.float64(0.03522349768381735)), (2529, np.float64(0.03829197905337418)), (2530, np.float64(0.04490132550669373)), (2531, np.float64(0.0)), (2532, np.float64(0.08740748201220976)), (2533, np.float64(0.028398091712353243)), (2534, np.float64(0.03394221166510653)), (2535, np.float64(0.020602141085758228)), (2536, np.float64(0.0)), (2537, np.float64(0.022996102490913696)), (2538, np.float64(0.0)), (2539, np.float64(0.028398091712353243)), (2540, np.float64(0.056796183424706485)), (2541, np.float64(0.03851141912524667)), (2542, np.float64(0.06670373459650701)), (2543, np.float64(0.0)), (2544, np.float64(0.0)), (2545, np.float64(0.13165367971234482)), (2546, np.float64(0.032791291789197645)), (2547, np.float64(0.0)), (2548, np.float64(0.0)), (2549, np.float64(0.0)), (2550, np.float64(0.02707651805369412)), (2551, np.float64(0.06160411036336974)), (2552, np.float64(0.026481357066618805)), (2553, np.float64(0.0)), (2554, np.float64(0.03829197905337418)), (2555, np.float64(0.0)), (2556, np.float64(0.05296271413323761)), (2557, np.float64(0.0)), (2558, np.float64(0.03522349768381735)), (2559, np.float64(0.0)), (2560, np.float64(0.0704469953676347)), (2561, np.float64(0.08805874420954338)), (2562, np.float64(0.07490058862731383)), (2563, np.float64(0.021780342093451605)), (2564, np.float64(0.0)), (2565, np.float64(0.02875986542715254)), (2566, np.float64(0.06062152567574662)), (2567, np.float64(0.09379580992210838)), (2568, np.float64(0.07184212081070997)), (2569, np.float64(0.08032193289024989)), (2570, np.float64(0.0)), (2571, np.float64(0.0)), (2572, np.float64(0.03080205518168487)), (2573, np.float64(0.0)), (2574, np.float64(0.0)), (2575, np.float64(0.07184212081070997)), (2576, np.float64(0.0)), (2577, np.float64(0.0)), (2578, np.float64(0.0)), (2579, np.float64(0.0)), (2580, np.float64(0.07332355751067667)), (2581, np.float64(0.12048289933537483)), (2582, np.float64(0.0)), (2583, np.float64(0.0)), (2584, np.float64(0.0)), (2585, np.float64(0.09379580992210838)), (2586, np.float64(0.0)), (2587, np.float64(0.027389551783238836)), (2588, np.float64(0.07777137710478191)), (2589, np.float64(0.0)), (2590, np.float64(0.0)), (2591, np.float64(0.03522349768381735)), (2592, np.float64(0.048435947969648285)), (2593, np.float64(0.0)), (2594, np.float64(0.04016096644512494)), (2595, np.float64(0.0)), (2596, np.float64(0.03456505649101418)), (2597, np.float64(0.0)), (2598, np.float64(0.03456505649101418)), (2599, np.float64(0.09051256444028409)), (2600, np.float64(0.0254000254000381)), (2601, np.float64(0.0)), (2602, np.float64(0.07472032220800769)), (2603, np.float64(0.0)), (2604, np.float64(0.08240856434303291)), (2605, np.float64(0.02262814111007102)), (2606, np.float64(0.0)), (2607, np.float64(0.025657900289539272)), (2608, np.float64(0.023789303403490326)), (2609, np.float64(0.02875986542715254)), (2610, np.float64(0.0)), (2611, np.float64(0.06451612903225808)), (2612, np.float64(0.05986843400892497)), (2613, np.float64(0.0267739776300833)), (2614, np.float64(0.05184758473652127)), (2615, np.float64(0.06788442333021306)), (2616, np.float64(0.06788442333021306)), (2617, np.float64(0.0)), (2618, np.float64(0.07490058862731383)), (2619, np.float64(0.03919309008348103)), (2620, np.float64(0.029934217004462485)), (2621, np.float64(0.03456505649101418)), (2622, np.float64(0.0)), (2623, np.float64(0.05239625170622461)), (2624, np.float64(0.0)), (2625, np.float64(0.0)), (2626, np.float64(0.02875986542715254)), (2627, np.float64(0.07944407119985641)), (2628, np.float64(0.03126526997403613)), (2629, np.float64(0.0)), (2630, np.float64(0.0)), (2631, np.float64(0.026481357066618805)), (2632, np.float64(0.0)), (2633, np.float64(0.0)), (2634, np.float64(0.028049635672660722)), (2635, np.float64(0.027713699773684666)), (2636, np.float64(0.08032193289024989)), (2637, np.float64(0.0)), (2638, np.float64(0.025923792368260635)), (2639, np.float64(0.0)), (2640, np.float64(0.0)), (2641, np.float64(0.06913011298202835)), (2642, np.float64(0.0)), (2643, np.float64(0.09274777915203365)), (2644, np.float64(0.04388455990411494)), (2645, np.float64(0.0)), (2646, np.float64(0.07777137710478191)), (2647, np.float64(0.10182663499531959)), (2648, np.float64(0.10369516947304254)), (2649, np.float64(0.013134040459920514)), (2650, np.float64(0.0)), (2651, np.float64(0.0)), (2652, np.float64(0.1567723603339241)), (2653, np.float64(0.09776474334756886)), (2654, np.float64(0.0)), (2655, np.float64(0.030358837035945812)), (2656, np.float64(0.032791291789197645)), (2657, np.float64(0.060717674071891624)), (2658, np.float64(0.060717674071891624)), (2659, np.float64(0.022450662753346864)), (2660, np.float64(0.037450294313656915)), (2661, np.float64(0.04016096644512494)), (2662, np.float64(0.0)), (2663, np.float64(0.0)), (2664, np.float64(0.033351867298253506)), (2665, np.float64(0.0)), (2666, np.float64(0.02913582733740325)), (2667, np.float64(0.04490132550669373)), (2668, np.float64(0.0)), (2669, np.float64(0.026198125853112306)), (2670, np.float64(0.08980265101338746)), (2671, np.float64(0.0)), (2672, np.float64(0.029526929767874632)), (2673, np.float64(0.04490132550669373)), (2674, np.float64(0.0)), (2675, np.float64(0.0)), (2676, np.float64(0.07265392195447243)), (2677, np.float64(0.032791291789197645)), (2678, np.float64(0.03394221166510653)), (2679, np.float64(0.059053859535749265)), (2680, np.float64(0.06670373459650701)), (2681, np.float64(0.04490132550669373)), (2682, np.float64(0.08519427513705972)), (2683, np.float64(0.0)), (2684, np.float64(0.07457704245544709)), (2685, np.float64(0.03080205518168487)), (2686, np.float64(0.0)), (2687, np.float64(0.0)), (2688, np.float64(0.026198125853112306)), (2689, np.float64(0.0)), (2690, np.float64(0.041204282171516456)), (2691, np.float64(0.049813548138671795)), (2692, np.float64(0.03126526997403613)), (2693, np.float64(0.028049635672660722)), (2694, np.float64(0.0)), (2695, np.float64(0.03522349768381735)), (2696, np.float64(0.0535479552601666)), (2697, np.float64(0.0)), (2698, np.float64(0.0)), (2699, np.float64(0.02875986542715254)), (2700, np.float64(0.029934217004462485)), (2701, np.float64(0.0)), (2702, np.float64(0.0)), (2703, np.float64(0.0)), (2704, np.float64(0.0)), (2705, np.float64(0.05415303610738824)), (2706, np.float64(0.07944407119985641)), (2707, np.float64(0.0803219328902499)), (2708, np.float64(0.04233337566673017)), (2709, np.float64(0.07332355751067665)), (2710, np.float64(0.037450294313656915)), (2711, np.float64(0.03592106040535498)), (2712, np.float64(0.0)), (2713, np.float64(0.05296271413323761)), (2714, np.float64(0.033351867298253506)), (2715, np.float64(0.0)), (2716, np.float64(0.10971139976028735)), (2717, np.float64(0.0)), (2718, np.float64(0.0)), (2719, np.float64(0.0803219328902499)), (2720, np.float64(0.04356068418690321)), (2721, np.float64(0.13068205256070964)), (2722, np.float64(0.0)), (2723, np.float64(0.05239625170622461)), (2724, np.float64(0.024441185836892216)), (2725, np.float64(0.0)), (2726, np.float64(0.0)), (2727, np.float64(0.0)), (2728, np.float64(0.04888237167378443)), (2729, np.float64(0.06221710168382551)), (2730, np.float64(0.0409358475083573)), (2731, np.float64(0.029934217004462485)), (2732, np.float64(0.030358837035945812)), (2733, np.float64(0.03919309008348103)), (2734, np.float64(0.025149772741392844)), (2735, np.float64(0.0)), (2736, np.float64(0.024441185836892216)), (2737, np.float64(0.13116516715679058)), (2738, np.float64(0.04016096644512494)), (2739, np.float64(0.07490058862731383)), (2740, np.float64(0.04490132550669373)), (2741, np.float64(0.06788442333021306)), (2742, np.float64(0.03394221166510653)), (2743, np.float64(0.0)), (2744, np.float64(0.0)), (2745, np.float64(0.09600307214746387)), (2746, np.float64(0.056796183424706485)), (2747, np.float64(0.03456505649101418)), (2748, np.float64(0.06683188790311695)), (2749, np.float64(0.03829197905337418)), (2750, np.float64(0.0)), (2751, np.float64(0.0)), (2752, np.float64(0.0)), (2753, np.float64(0.0)), (2754, np.float64(0.07401205672371727)), (2755, np.float64(0.06160411036336974)), (2756, np.float64(0.0)), (2757, np.float64(0.0)), (2758, np.float64(0.14980117725462766)), (2759, np.float64(0.09798272520870258)), (2760, np.float64(0.04233337566673017)), (2761, np.float64(0.0)), (2762, np.float64(0.0267739776300833)), (2763, np.float64(0.030358837035945812)), (2764, np.float64(0.12320822072673948)), (2765, np.float64(0.0)), (2766, np.float64(0.0254000254000381)), (2767, np.float64(0.025657900289539272)), (2768, np.float64(0.04016096644512494)), (2769, np.float64(0.03080205518168487)), (2770, np.float64(0.0)), (2771, np.float64(0.024441185836892216)), (2772, np.float64(0.0254000254000381)), (2773, np.float64(0.0)), (2774, np.float64(0.0)), (2775, np.float64(0.08466675133346034)), (2776, np.float64(0.13068205256070964)), (2777, np.float64(0.0)), (2778, np.float64(0.051315800579078544)), (2779, np.float64(0.0)), (2780, np.float64(0.02227729596770565)), (2781, np.float64(0.0)), (2782, np.float64(0.10369516947304254)), (2783, np.float64(0.03592106040535498)), (2784, np.float64(0.0)), (2785, np.float64(0.08712136837380642)), (2786, np.float64(0.07885697226877512)), (2787, np.float64(0.025657900289539272)), (2788, np.float64(0.044215768828538185)), (2789, np.float64(0.0)), (2790, np.float64(0.02913582733740325)), (2791, np.float64(0.06350006350009525)), (2792, np.float64(0.049813548138671795)), (2793, np.float64(0.03126526997403613)), (2794, np.float64(0.0)), (2795, np.float64(0.02913582733740325)), (2796, np.float64(0.0)), (2797, np.float64(0.0)), (2798, np.float64(0.024217973984824143)), (2799, np.float64(0.027713699773684666)), (2800, np.float64(0.0)), (2801, np.float64(0.049341371149144844)), (2802, np.float64(0.031750031750047626)), (2803, np.float64(0.07332355751067667)), (2804, np.float64(0.11757927025044308)), (2805, np.float64(0.03919309008348103)), (2806, np.float64(0.0)), (2807, np.float64(0.03568395510523549)), (2808, np.float64(0.04016096644512494)), (2809, np.float64(0.05477910356647767)), (2810, np.float64(0.0)), (2811, np.float64(0.02913582733740325)), (2812, np.float64(0.03126526997403613)), (2813, np.float64(0.11503946170861017)), (2814, np.float64(0.023789303403490326)), (2815, np.float64(0.046373889576016826)), (2816, np.float64(0.10369516947304254)), (2817, np.float64(0.0582716546748065)), (2818, np.float64(0.06788442333021306)), (2819, np.float64(0.0)), (2820, np.float64(0.06350006350009525)), (2821, np.float64(0.0)), (2822, np.float64(0.09240616554505461)), (2823, np.float64(0.02913582733740325)), (2824, np.float64(0.056796183424706485)), (2825, np.float64(0.0)), (2826, np.float64(0.0)), (2827, np.float64(0.05239625170622461)), (2828, np.float64(0.07220404814318432)), (2829, np.float64(0.03394221166510653)), (2830, np.float64(0.0)), (2831, np.float64(0.025923792368260635)), (2832, np.float64(0.0)), (2833, np.float64(0.0)), (2834, np.float64(0.023789303403490326)), (2835, np.float64(0.02707651805369412)), (2836, np.float64(0.03225806451612904)), (2837, np.float64(0.0)), (2838, np.float64(0.0)), (2839, np.float64(0.0)), (2840, np.float64(0.0)), (2841, np.float64(0.033351867298253506)), (2842, np.float64(0.0)), (2843, np.float64(0.0)), (2844, np.float64(0.0)), (2845, np.float64(0.0254000254000381)), (2846, np.float64(0.0)), (2847, np.float64(0.028398091712353243)), (2848, np.float64(0.05296271413323761)), (2849, np.float64(0.13912166872805048)), (2850, np.float64(0.0)), (2851, np.float64(0.041204282171516456)), (2852, np.float64(0.049813548138671795)), (2853, np.float64(0.037450294313656915)), (2854, np.float64(0.0582716546748065)), (2855, np.float64(0.02913582733740325)), (2856, np.float64(0.06788442333021306)), (2857, np.float64(0.04490132550669373)), (2858, np.float64(0.0)), (2859, np.float64(0.0)), (2860, np.float64(0.0254000254000381)), (2861, np.float64(0.12143534814378325)), (2862, np.float64(0.03829197905337418)), (2863, np.float64(0.0689883074727411)), (2864, np.float64(0.06558258357839529)), (2865, np.float64(0.0)), (2866, np.float64(0.04490132550669373)), (2867, np.float64(0.0)), (2868, np.float64(0.16064386578049977)), (2869, np.float64(0.04757860680698065)), (2870, np.float64(0.03919309008348103)), (2871, np.float64(0.049813548138671795)), (2872, np.float64(0.028398091712353243)), (2873, np.float64(0.08980265101338746)), (2874, np.float64(0.02262814111007102)), (2875, np.float64(0.029526929767874632)), (2876, np.float64(0.0)), (2877, np.float64(0.03610202407159216)), (2878, np.float64(0.0)), (2879, np.float64(0.0)), (2880, np.float64(0.03592106040535498)), (2881, np.float64(0.06263607679944926)), (2882, np.float64(0.07332355751067665)), (2883, np.float64(0.026481357066618805)), (2884, np.float64(0.04016096644512494)), (2885, np.float64(0.03522349768381735)), (2886, np.float64(0.0)), (2887, np.float64(0.023186944788008413)), (2888, np.float64(0.03666177875533833)), (2889, np.float64(0.0)), (2890, np.float64(0.0)), (2891, np.float64(0.041204282171516456)), (2892, np.float64(0.04888237167378443)), (2893, np.float64(0.0)), (2894, np.float64(0.0)), (2895, np.float64(0.026198125853112306)), (2896, np.float64(0.0)), (2897, np.float64(0.07184212081070997)), (2898, np.float64(0.021315227815974377)), (2899, np.float64(0.0)), (2900, np.float64(0.0)), (2901, np.float64(0.07944407119985641)), (2902, np.float64(0.021780342093451605)), (2903, np.float64(0.0)), (2904, np.float64(0.059053859535749265)), (2905, np.float64(0.0)), (2906, np.float64(0.0)), (2907, np.float64(0.0)), (2908, np.float64(0.018524872445114315)), (2909, np.float64(0.0)), (2910, np.float64(0.07184212081070997)), (2911, np.float64(0.04016096644512494)), (2912, np.float64(0.0)), (2913, np.float64(0.03225806451612904)), (2914, np.float64(0.056099271345321444)), (2915, np.float64(0.044215768828538185)), (2916, np.float64(0.0)), (2917, np.float64(0.0)), (2918, np.float64(0.05878963512522154)), (2919, np.float64(0.0)), (2920, np.float64(0.10369516947304254)), (2921, np.float64(0.024000768036865967)), (2922, np.float64(0.0)), (2923, np.float64(0.12048289933537483)), (2924, np.float64(0.033351867298253506)), (2925, np.float64(0.033351867298253506)), (2926, np.float64(0.03522349768381735)), (2927, np.float64(0.0)), (2928, np.float64(0.0)), (2929, np.float64(0.0)), (2930, np.float64(0.10776318121606496)), (2931, np.float64(0.03919309008348103)), (2932, np.float64(0.0)), (2933, np.float64(0.2060214108575823)), (2934, np.float64(0.0)), (2935, np.float64(0.09379580992210838)), (2936, np.float64(0.0)), (2937, np.float64(0.07332355751067667)), (2938, np.float64(0.0)), (2939, np.float64(0.05184758473652127)), (2940, np.float64(0.024670685574572422)), (2941, np.float64(0.05542739954736933)), (2942, np.float64(0.033351867298253506)), (2943, np.float64(0.10263160115815707)), (2944, np.float64(0.0)), (2945, np.float64(0.029526929767874632)), (2946, np.float64(0.03456505649101418)), (2947, np.float64(0.05239625170622461)), (2948, np.float64(0.0)), (2949, np.float64(0.0)), (2950, np.float64(0.0)), (2951, np.float64(0.0582716546748065)), (2952, np.float64(0.05415303610738824)), (2953, np.float64(0.0)), (2954, np.float64(0.0)), (2955, np.float64(0.033351867298253506)), (2956, np.float64(0.0)), (2957, np.float64(0.027713699773684666)), (2958, np.float64(0.06206213979517389)), (2959, np.float64(0.0)), (2960, np.float64(0.0)), (2961, np.float64(0.09198440996365478)), (2962, np.float64(0.028049635672660722)), (2963, np.float64(0.0)), (2964, np.float64(0.0)), (2965, np.float64(0.027713699773684666)), (2966, np.float64(0.0)), (2967, np.float64(0.03829197905337418)), (2968, np.float64(0.0)), (2969, np.float64(0.021315227815974377)), (2970, np.float64(0.029526929767874632)), (2971, np.float64(0.0)), (2972, np.float64(0.05415303610738824)), (2973, np.float64(0.04490132550669373)), (2974, np.float64(0.07332355751067667)), (2975, np.float64(0.0)), (2976, np.float64(0.022809896167307987)), (2977, np.float64(0.0)), (2978, np.float64(0.0)), (2979, np.float64(0.05986843400892497)), (2980, np.float64(0.0885807893036239)), (2981, np.float64(0.026481357066618805)), (2982, np.float64(0.083141099321054)), (2983, np.float64(0.046373889576016826)), (2984, np.float64(0.13068205256070964)), (2985, np.float64(0.0704469953676347)), (2986, np.float64(0.0267739776300833)), (2987, np.float64(0.0)), (2988, np.float64(0.06253053994807226)), (2989, np.float64(0.020602141085758228)), (2990, np.float64(0.024906774069335898)), (2991, np.float64(0.03080205518168487)), (2992, np.float64(0.026481357066618805)), (2993, np.float64(0.01653400822858113)), (2994, np.float64(0.0)), (2995, np.float64(0.05751973085430508)), (2996, np.float64(0.031750031750047626)), (2997, np.float64(0.16064386578049977)), (2998, np.float64(0.07658395810674835)), (2999, np.float64(0.0)), (3000, np.float64(0.0)), (3001, np.float64(0.03456505649101418)), (3002, np.float64(0.03919309008348103)), (3003, np.float64(0.09525009525014287)), (3004, np.float64(0.0)), (3005, np.float64(0.0582716546748065)), (3006, np.float64(0.060717674071891624)), (3007, np.float64(0.02707651805369412)), (3008, np.float64(0.0)), (3009, np.float64(0.05986843400892497)), (3010, np.float64(0.18953562637585883)), (3011, np.float64(0.023186944788008413)), (3012, np.float64(0.06350006350009525)), (3013, np.float64(0.07544931822417852)), (3014, np.float64(0.0)), (3015, np.float64(0.0)), (3016, np.float64(0.0)), (3017, np.float64(0.0)), (3018, np.float64(0.10059909096557137)), (3019, np.float64(0.0)), (3020, np.float64(0.05415303610738824)), (3021, np.float64(0.03522349768381735)), (3022, np.float64(0.09677419354838711)), (3023, np.float64(0.22718473369882594)), (3024, np.float64(0.025149772741392844)), (3025, np.float64(0.0762000762001143)), (3026, np.float64(0.02875986542715254)), (3027, np.float64(0.03666177875533833)), (3028, np.float64(0.03724840446384683)), (3029, np.float64(0.05239625170622461)), (3030, np.float64(0.0)), (3031, np.float64(0.09962709627734358)), (3032, np.float64(0.060717674071891624)), (3033, np.float64(0.0)), (3034, np.float64(0.0)), (3035, np.float64(0.056796183424706485)), (3036, np.float64(0.0)), (3037, np.float64(0.13099062926556154)), (3038, np.float64(0.0)), (3039, np.float64(0.03080205518168487)), (3040, np.float64(0.0)), (3041, np.float64(0.0)), (3042, np.float64(0.07544931822417852)), (3043, np.float64(0.028049635672660722)), (3044, np.float64(0.0)), (3045, np.float64(0.0)), (3046, np.float64(0.048435947969648285)), (3047, np.float64(0.046373889576016826)), (3048, np.float64(0.11810771907149853)), (3049, np.float64(0.0)), (3050, np.float64(0.020739033894608502)), (3051, np.float64(0.03225806451612904)), (3052, np.float64(0.0)), (3053, np.float64(0.19145989526687088)), (3054, np.float64(0.04525628222014204)), (3055, np.float64(0.06534102628035482)), (3056, np.float64(0.022450662753346864)), (3057, np.float64(0.028398091712353243)), (3058, np.float64(0.03666177875533833)), (3059, np.float64(0.054992668133007495)), (3060, np.float64(0.0)), (3061, np.float64(0.0)), (3062, np.float64(0.0)), (3063, np.float64(0.0)), (3064, np.float64(0.1070959105203332)), (3065, np.float64(0.024441185836892216)), (3066, np.float64(0.03522349768381735)), (3067, np.float64(0.041204282171516456)), (3068, np.float64(0.0)), (3069, np.float64(0.06253053994807226)), (3070, np.float64(0.0)), (3071, np.float64(0.03829197905337418)), (3072, np.float64(0.024441185836892216)), (3073, np.float64(0.0)), (3074, np.float64(0.0)), (3075, np.float64(0.08240856434303291)), (3076, np.float64(0.04561979233461597)), (3077, np.float64(0.03829197905337418)), (3078, np.float64(0.0)), (3079, np.float64(0.08466675133346034)), (3080, np.float64(0.0)), (3081, np.float64(0.08980265101338746)), (3082, np.float64(0.09240616554505461)), (3083, np.float64(0.0)), (3084, np.float64(0.0)), (3085, np.float64(0.03592106040535498)), (3086, np.float64(0.031750031750047626)), (3087, np.float64(0.0)), (3088, np.float64(0.13694775891619418)), (3089, np.float64(0.05751973085430508)), (3090, np.float64(0.0)), (3091, np.float64(0.09600307214746387)), (3092, np.float64(0.033351867298253506)), (3093, np.float64(0.0)), (3094, np.float64(0.03919309008348103)), (3095, np.float64(0.0)), (3096, np.float64(0.04490132550669373)), (3097, np.float64(0.0)), (3098, np.float64(0.027389551783238836)), (3099, np.float64(0.03666177875533833)), (3100, np.float64(0.11503946170861017)), (3101, np.float64(0.12048289933537483)), (3102, np.float64(0.049341371149144844)), (3103, np.float64(0.03522349768381735)), (3104, np.float64(0.015813365095036138)), (3105, np.float64(0.0)), (3106, np.float64(0.0)), (3107, np.float64(0.03394221166510653)), (3108, np.float64(0.10005560189476051)), (3109, np.float64(0.044215768828538185)), (3110, np.float64(0.03225806451612904)), (3111, np.float64(0.0254000254000381)), (3112, np.float64(0.06451612903225808)), (3113, np.float64(0.032791291789197645)), (3114, np.float64(0.0)), (3115, np.float64(0.0)), (3116, np.float64(0.03522349768381735)), (3117, np.float64(0.1270001270001905)), (3118, np.float64(0.05296271413323761)), (3119, np.float64(0.02008048322256247)), (3120, np.float64(0.10005560189476051)), (3121, np.float64(0.03394221166510653)), (3122, np.float64(0.0)), (3123, np.float64(0.049813548138671795)), (3124, np.float64(0.08240856434303291)), (3125, np.float64(0.0)), (3126, np.float64(0.0)), (3127, np.float64(0.07490058862731383)), (3128, np.float64(0.0)), (3129, np.float64(0.03225806451612904)), (3130, np.float64(0.048435947969648285)), (3131, np.float64(0.0)), (3132, np.float64(0.02262814111007102)), (3133, np.float64(0.06350006350009525)), (3134, np.float64(0.10567049305145204)), (3135, np.float64(0.15401027590842434)), (3136, np.float64(0.0)), (3137, np.float64(0.029526929767874632)), (3138, np.float64(0.09107651110783743)), (3139, np.float64(0.0)), (3140, np.float64(0.06394568344792313)), (3141, np.float64(0.07184212081070997)), (3142, np.float64(0.02913582733740325)), (3143, np.float64(0.03991228933928331)), (3144, np.float64(0.09600307214746387)), (3145, np.float64(0.06221710168382551)), (3146, np.float64(0.10567049305145204)), (3147, np.float64(0.0)), (3148, np.float64(0.0)), (3149, np.float64(0.0)), (3150, np.float64(0.08519427513705972)), (3151, np.float64(0.04757860680698065)), (3152, np.float64(0.0)), (3153, np.float64(0.12048289933537483)), (3154, np.float64(0.0)), (3155, np.float64(0.07332355751067667)), (3156, np.float64(0.04561979233461597)), (3157, np.float64(0.04490132550669373)), (3158, np.float64(0.06350006350009525)), (3159, np.float64(0.0)), (3160, np.float64(0.04716666306365782)), (3161, np.float64(0.0)), (3162, np.float64(0.05751973085430508)), (3163, np.float64(0.06558258357839529)), (3164, np.float64(0.08627959628145762)), (3165, np.float64(0.041204282171516456)), (3166, np.float64(0.0254000254000381)), (3167, np.float64(0.05542739954736933)), (3168, np.float64(0.06253053994807226)), (3169, np.float64(0.0)), (3170, np.float64(0.04599220498182739)), (3171, np.float64(0.0)), (3172, np.float64(0.07136791021047098)), (3173, np.float64(0.0535479552601666)), (3174, np.float64(0.0)), (3175, np.float64(0.0)), (3176, np.float64(0.04490132550669373)), (3177, np.float64(0.0)), (3178, np.float64(0.09274777915203365)), (3179, np.float64(0.07184212081070997)), (3180, np.float64(0.030358837035945812)), (3181, np.float64(0.056099271345321444)), (3182, np.float64(0.08122955416108235)), (3183, np.float64(0.048001536073731935)), (3184, np.float64(0.02875986542715254)), (3185, np.float64(0.0)), (3186, np.float64(0.10369516947304254)), (3187, np.float64(0.057114371815885016)), (3188, np.float64(0.05477910356647767)), (3189, np.float64(0.10479250341244922)), (3190, np.float64(0.04716666306365782)), (3191, np.float64(0.0)), (3192, np.float64(0.0)), (3193, np.float64(0.0)), (3194, np.float64(0.0)), (3195, np.float64(0.03456505649101418)), (3196, np.float64(0.05184758473652127)), (3197, np.float64(0.026481357066618805)), (3198, np.float64(0.0)), (3199, np.float64(0.019367337799588276)), (3200, np.float64(0.04490132550669373)), (3201, np.float64(0.0)), (3202, np.float64(0.0)), (3203, np.float64(0.0)), (3204, np.float64(0.07859437755933692)), (3205, np.float64(0.0)), (3206, np.float64(0.024670685574572422)), (3207, np.float64(0.0)), (3208, np.float64(0.1016001016001524)), (3209, np.float64(0.0)), (3210, np.float64(0.04246464226290538)), (3211, np.float64(0.07490058862731383)), (3212, np.float64(0.028049635672660722)), (3213, np.float64(0.0)), (3214, np.float64(0.0)), (3215, np.float64(0.08466675133346034)), (3216, np.float64(0.0)), (3217, np.float64(0.04016096644512494)), (3218, np.float64(0.059053859535749265)), (3219, np.float64(0.03919309008348103)), (3220, np.float64(0.0582716546748065)), (3221, np.float64(0.03919309008348103)), (3222, np.float64(0.037450294313656915)), (3223, np.float64(0.049813548138671795)), (3224, np.float64(0.0)), (3225, np.float64(0.0)), (3226, np.float64(0.07562747506779043)), (3227, np.float64(0.0)), (3228, np.float64(0.0)), (3229, np.float64(0.024670685574572422)), (3230, np.float64(0.0)), (3231, np.float64(0.02913582733740325)), (3232, np.float64(0.041204282171516456)), (3233, np.float64(0.07944407119985641)), (3234, np.float64(0.029934217004462485)), (3235, np.float64(0.07332355751067665)), (3236, np.float64(0.06160411036336974)), (3237, np.float64(0.03666177875533833)), (3238, np.float64(0.03394221166510653)), (3239, np.float64(0.03666177875533833)), (3240, np.float64(0.09677419354838711)), (3241, np.float64(0.041204282171516456)), (3242, np.float64(0.0)), (3243, np.float64(0.025657900289539272)), (3244, np.float64(0.0)), (3245, np.float64(0.10971139976028735)), (3246, np.float64(0.07200230411059791)), (3247, np.float64(0.0582716546748065)), (3248, np.float64(0.0)), (3249, np.float64(0.030358837035945812)), (3250, np.float64(0.037450294313656915)), (3251, np.float64(0.0)), (3252, np.float64(0.027389551783238836)), (3253, np.float64(0.0535479552601666)), (3254, np.float64(0.08627959628145762)), (3255, np.float64(0.03080205518168487)), (3256, np.float64(0.0)), (3257, np.float64(0.03592106040535498)), (3258, np.float64(0.04233337566673017)), (3259, np.float64(0.03080205518168487)), (3260, np.float64(0.03394221166510653)), (3261, np.float64(0.09677419354838711)), (3262, np.float64(0.06558258357839529)), (3263, np.float64(0.0)), (3264, np.float64(0.04757860680698065)), (3265, np.float64(0.02875986542715254)), (3266, np.float64(0.049813548138671795)), (3267, np.float64(0.0)), (3268, np.float64(0.0582716546748065)), (3269, np.float64(0.022450662753346864)), (3270, np.float64(0.022107884414269093)), (3271, np.float64(0.056796183424706485)), (3272, np.float64(0.040414350450497745)), (3273, np.float64(0.048001536073731935)), (3274, np.float64(0.03522349768381735)), (3275, np.float64(0.06451612903225808)), (3276, np.float64(0.05986843400892497)), (3277, np.float64(0.06350006350009525)), (3278, np.float64(0.07332355751067667)), (3279, np.float64(0.04490132550669373)), (3280, np.float64(0.0)), (3281, np.float64(0.0)), (3282, np.float64(0.08519427513705972)), (3283, np.float64(0.0)), (3284, np.float64(0.03522349768381735)), (3285, np.float64(0.0)), (3286, np.float64(0.08980265101338746)), (3287, np.float64(0.0)), (3288, np.float64(0.041204282171516456)), (3289, np.float64(0.0267739776300833)), (3290, np.float64(0.028398091712353243)), (3291, np.float64(0.032791291789197645)), (3292, np.float64(0.07294462186022053)), (3293, np.float64(0.0)), (3294, np.float64(0.0)), (3295, np.float64(0.06451612903225808)), (3296, np.float64(0.023186944788008413)), (3297, np.float64(0.029526929767874632)), (3298, np.float64(0.025657900289539272)), (3299, np.float64(0.09107651110783743)), (3300, np.float64(0.0642575463121999)), (3301, np.float64(0.08240856434303291)), (3302, np.float64(0.03225806451612904)), (3303, np.float64(0.07944407119985641)), (3304, np.float64(0.0)), (3305, np.float64(0.0)), (3306, np.float64(0.11487593716012254)), (3307, np.float64(0.049341371149144844)), (3308, np.float64(0.05029954548278569)), (3309, np.float64(0.07265392195447243)), (3310, np.float64(0.028049635672660722)), (3311, np.float64(0.0757282445662753)), (3312, np.float64(0.0)), (3313, np.float64(0.014864240558156572)), (3314, np.float64(0.0)), (3315, np.float64(0.0)), (3316, np.float64(0.03080205518168487)), (3317, np.float64(0.03592106040535498)), (3318, np.float64(0.059053859535749265)), (3319, np.float64(0.08843153765707637)), (3320, np.float64(0.19674775073518588)), (3321, np.float64(0.083141099321054)), (3322, np.float64(0.04356068418690321)), (3323, np.float64(0.0)), (3324, np.float64(0.02358333153182891)), (3325, np.float64(0.0)), (3326, np.float64(0.05415303610738824)), (3327, np.float64(0.0)), (3328, np.float64(0.049813548138671795)), (3329, np.float64(0.10005560189476052)), (3330, np.float64(0.05542739954736933)), (3331, np.float64(0.07472032220800769)), (3332, np.float64(0.032791291789197645)), (3333, np.float64(0.0)), (3334, np.float64(0.07184212081070997)), (3335, np.float64(0.0)), (3336, np.float64(0.03829197905337418)), (3337, np.float64(0.07074999459548673)), (3338, np.float64(0.0582716546748065)), (3339, np.float64(0.0)), (3340, np.float64(0.0)), (3341, np.float64(0.022996102490913696)), (3342, np.float64(0.04676523735449557)), (3343, np.float64(0.037450294313656915)), (3344, np.float64(0.0)), (3345, np.float64(0.12143534814378325)), (3346, np.float64(0.05239625170622461)), (3347, np.float64(0.030358837035945812)), (3348, np.float64(0.04490132550669373)), (3349, np.float64(0.0)), (3350, np.float64(0.03829197905337418)), (3351, np.float64(0.06788442333021306)), (3352, np.float64(0.09525009525014287)), (3353, np.float64(0.0803219328902499)), (3354, np.float64(0.10005560189476051)), (3355, np.float64(0.0)), (3356, np.float64(0.056796183424706485)), (3357, np.float64(0.0)), (3358, np.float64(0.0986827422982897)), (3359, np.float64(0.0)), (3360, np.float64(0.03394221166510653)), (3361, np.float64(0.09962709627734359)), (3362, np.float64(0.0)), (3363, np.float64(0.06451612903225808)), (3364, np.float64(0.027713699773684666)), (3365, np.float64(0.03919309008348103)), (3366, np.float64(0.03200102404915462)), (3367, np.float64(0.060717674071891624)), (3368, np.float64(0.0)), (3369, np.float64(0.0508000508000762)), (3370, np.float64(0.03991228933928331)), (3371, np.float64(0.03456505649101418)), (3372, np.float64(0.07184212081070997)), (3373, np.float64(0.05184758473652127)), (3374, np.float64(0.06788442333021306)), (3375, np.float64(0.04960202468574339)), (3376, np.float64(0.0)), (3377, np.float64(0.03138437619572484)), (3378, np.float64(0.024441185836892216)), (3379, np.float64(0.0)), (3380, np.float64(0.0)), (3381, np.float64(0.024670685574572422)), (3382, np.float64(0.0)), (3383, np.float64(0.0)), (3384, np.float64(0.09107651110783743)), (3385, np.float64(0.03225806451612904)), (3386, np.float64(0.0)), (3387, np.float64(0.049813548138671795)), (3388, np.float64(0.09687189593929657)), (3389, np.float64(0.04016096644512494)), (3390, np.float64(0.025657900289539272)), (3391, np.float64(0.10369516947304254)), (3392, np.float64(0.0)), (3393, np.float64(0.037450294313656915)), (3394, np.float64(0.03225806451612904)), (3395, np.float64(0.0)), (3396, np.float64(0.037450294313656915)), (3397, np.float64(0.07332355751067665)), (3398, np.float64(0.0)), (3399, np.float64(0.056099271345321444)), (3400, np.float64(0.028049635672660722)), (3401, np.float64(0.06670373459650701)), (3402, np.float64(0.0)), (3403, np.float64(0.0)), (3404, np.float64(0.04324387500644106)), (3405, np.float64(0.07697370086861781)), (3406, np.float64(0.0)), (3407, np.float64(0.03080205518168487)), (3408, np.float64(0.05986843400892497)), (3409, np.float64(0.056796183424706485)), (3410, np.float64(0.0)), (3411, np.float64(0.0)), (3412, np.float64(0.0)), (3413, np.float64(0.0535479552601666)), (3414, np.float64(0.05751973085430508)), (3415, np.float64(0.033351867298253506)), (3416, np.float64(0.0)), (3417, np.float64(0.022809896167307987)), (3418, np.float64(0.11757927025044308)), (3419, np.float64(0.0704469953676347)), (3420, np.float64(0.0)), (3421, np.float64(0.026481357066618805)), (3422, np.float64(0.0)), (3423, np.float64(0.0)), (3424, np.float64(0.08712136837380642)), (3425, np.float64(0.0)), (3426, np.float64(0.060717674071891624)), (3427, np.float64(0.03522349768381735)), (3428, np.float64(0.04233337566673017)), (3429, np.float64(0.02046792375417865)), (3430, np.float64(0.0)), (3431, np.float64(0.05542739954736933)), (3432, np.float64(0.027713699773684666)), (3433, np.float64(0.0)), (3434, np.float64(0.0)), (3435, np.float64(0.0)), (3436, np.float64(0.0)), (3437, np.float64(0.033351867298253506)), (3438, np.float64(0.0)), (3439, np.float64(0.06735198826004059)), (3440, np.float64(0.0)), (3441, np.float64(0.049813548138671795)), (3442, np.float64(0.05751973085430508)), (3443, np.float64(0.028398091712353243)), (3444, np.float64(0.031750031750047626)), (3445, np.float64(0.041204282171516456)), (3446, np.float64(0.0)), (3447, np.float64(0.09677419354838711)), (3448, np.float64(0.06160411036336974)), (3449, np.float64(0.028398091712353243)), (3450, np.float64(0.07777137710478191)), (3451, np.float64(0.0)), (3452, np.float64(0.022996102490913696)), (3453, np.float64(0.03394221166510653)), (3454, np.float64(0.03522349768381735)), (3455, np.float64(0.032791291789197645)), (3456, np.float64(0.0)), (3457, np.float64(0.0445545919354113)), (3458, np.float64(0.020878692266483083)), (3459, np.float64(0.0)), (3460, np.float64(0.049813548138671795)), (3461, np.float64(0.03522349768381735)), (3462, np.float64(0.10479250341244922)), (3463, np.float64(0.1270001270001905)), (3464, np.float64(0.05751973085430508)), (3465, np.float64(0.10998533626601499)), (3466, np.float64(0.06558258357839529)), (3467, np.float64(0.048001536073731935)), (3468, np.float64(0.030358837035945812)), (3469, np.float64(0.0)), (3470, np.float64(0.05415303610738824)), (3471, np.float64(0.0)), (3472, np.float64(0.051315800579078544)), (3473, np.float64(0.0)), (3474, np.float64(0.024441185836892216)), (3475, np.float64(0.04490132550669373)), (3476, np.float64(0.0)), (3477, np.float64(0.037450294313656915)), (3478, np.float64(0.03456505649101418)), (3479, np.float64(0.22514716129596513)), (3480, np.float64(0.04016096644512494)), (3481, np.float64(0.04016096644512494)), (3482, np.float64(0.08980265101338746)), (3483, np.float64(0.05184758473652127)), (3484, np.float64(0.03647231093011027)), (3485, np.float64(0.0535479552601666)), (3486, np.float64(0.03919309008348103)), (3487, np.float64(0.06534102628035482)), (3488, np.float64(0.0)), (3489, np.float64(0.03919309008348103)), (3490, np.float64(0.03919309008348103)), (3491, np.float64(0.025923792368260635)), (3492, np.float64(0.0)), (3493, np.float64(0.02707651805369412)), (3494, np.float64(0.0)), (3495, np.float64(0.0)), (3496, np.float64(0.05986843400892497)), (3497, np.float64(0.0)), (3498, np.float64(0.0)), (3499, np.float64(0.0)), (3500, np.float64(0.0)), (3501, np.float64(0.03126526997403613)), (3502, np.float64(0.06632365324280728)), (3503, np.float64(0.0)), (3504, np.float64(0.049813548138671795)), (3505, np.float64(0.11359236684941297)), (3506, np.float64(0.0)), (3507, np.float64(0.050913317497659795)), (3508, np.float64(0.0)), (3509, np.float64(0.0)), (3510, np.float64(0.030358837035945812)), (3511, np.float64(0.08466675133346034)), (3512, np.float64(0.02162193750322053)), (3513, np.float64(0.03225806451612904)), (3514, np.float64(0.03394221166510653)), (3515, np.float64(0.029934217004462485)), (3516, np.float64(0.0)), (3517, np.float64(0.09274777915203365)), (3518, np.float64(0.04016096644512494)), (3519, np.float64(0.0203362958695521)), (3520, np.float64(0.041478067789217005)), (3521, np.float64(0.032791291789197645)), (3522, np.float64(0.021466939537054593)), (3523, np.float64(0.04490132550669373)), (3524, np.float64(0.06160411036336974)), (3525, np.float64(0.26940795304016235)), (3526, np.float64(0.08712136837380642)), (3527, np.float64(0.048001536073731935)), (3528, np.float64(0.03080205518168487)), (3529, np.float64(0.0)), (3530, np.float64(0.05029954548278569)), (3531, np.float64(0.0)), (3532, np.float64(0.0582716546748065)), (3533, np.float64(0.0)), (3534, np.float64(0.03666177875533833)), (3535, np.float64(0.0)), (3536, np.float64(0.08122955416108235)), (3537, np.float64(0.03394221166510653)), (3538, np.float64(0.025149772741392844)), (3539, np.float64(0.0)), (3540, np.float64(0.0)), (3541, np.float64(0.09240616554505461)), (3542, np.float64(0.05184758473652127)), (3543, np.float64(0.02227729596770565)), (3544, np.float64(0.05184758473652127)), (3545, np.float64(0.0)), (3546, np.float64(0.03919309008348103)), (3547, np.float64(0.09379580992210838)), (3548, np.float64(0.07332355751067667)), (3549, np.float64(0.05751973085430508)), (3550, np.float64(0.0)), (3551, np.float64(0.04888237167378443)), (3552, np.float64(0.05283524652572602)), (3553, np.float64(0.0)), (3554, np.float64(0.09600307214746387)), (3555, np.float64(0.06670373459650701)), (3556, np.float64(0.0)), (3557, np.float64(0.0535479552601666)), (3558, np.float64(0.042933879074109185)), (3559, np.float64(0.07472032220800769)), (3560, np.float64(0.0)), (3561, np.float64(0.04233337566673017)), (3562, np.float64(0.0)), (3563, np.float64(0.0254000254000381)), (3564, np.float64(0.05184758473652127)), (3565, np.float64(0.0)), (3566, np.float64(0.031750031750047626)), (3567, np.float64(0.028049635672660722)), (3568, np.float64(0.04888237167378443)), (3569, np.float64(0.02875986542715254)), (3570, np.float64(0.07184212081070997)), (3571, np.float64(0.0)), (3572, np.float64(0.0)), (3573, np.float64(0.0)), (3574, np.float64(0.0)), (3575, np.float64(0.0)), (3576, np.float64(0.0)), (3577, np.float64(0.08980265101338746)), (3578, np.float64(0.08216865534971651)), (3579, np.float64(0.03080205518168487)), (3580, np.float64(0.07332355751067667)), (3581, np.float64(0.042630455631948755)), (3582, np.float64(0.03592106040535498)), (3583, np.float64(0.0)), (3584, np.float64(0.03225806451612904)), (3585, np.float64(0.01914598952668709)), (3586, np.float64(0.12574886370696423)), (3587, np.float64(0.031750031750047626)), (3588, np.float64(0.0)), (3589, np.float64(0.0)), (3590, np.float64(0.0)), (3591, np.float64(0.0)), (3592, np.float64(0.08980265101338746)), (3593, np.float64(0.1624591083221647)), (3594, np.float64(0.09123958466923195)), (3595, np.float64(0.020602141085758228)), (3596, np.float64(0.033351867298253506)), (3597, np.float64(0.0)), (3598, np.float64(0.0)), (3599, np.float64(0.02875986542715254)), (3600, np.float64(0.029934217004462485)), (3601, np.float64(0.0)), (3602, np.float64(0.04233337566673017)), (3603, np.float64(0.0)), (3604, np.float64(0.029526929767874632)), (3605, np.float64(0.09274777915203365)), (3606, np.float64(0.0)), (3607, np.float64(0.03080205518168487)), (3608, np.float64(0.08414890701798217)), (3609, np.float64(0.10479250341244922)), (3610, np.float64(0.013276805963441246)), (3611, np.float64(0.04356068418690321)), (3612, np.float64(0.0)), (3613, np.float64(0.04490132550669373)), (3614, np.float64(0.026198125853112306)), (3615, np.float64(0.0)), (3616, np.float64(0.02262814111007102)), (3617, np.float64(0.015632634987018064)), (3618, np.float64(0.05477910356647767)), (3619, np.float64(0.1531679162134967)), (3620, np.float64(0.08627959628145762)), (3621, np.float64(0.09274777915203365)), (3622, np.float64(0.029526929767874632)), (3623, np.float64(0.041204282171516456)), (3624, np.float64(0.0)), (3625, np.float64(0.12048289933537483)), (3626, np.float64(0.0)), (3627, np.float64(0.07332355751067667)), (3628, np.float64(0.048001536073731935)), (3629, np.float64(0.0254000254000381)), (3630, np.float64(0.0203362958695521)), (3631, np.float64(0.029526929767874632)), (3632, np.float64(0.11359236684941297)), (3633, np.float64(0.0)), (3634, np.float64(0.0)), (3635, np.float64(0.05415303610738824)), (3636, np.float64(0.0267739776300833)), (3637, np.float64(0.0)), (3638, np.float64(0.0)), (3639, np.float64(0.03394221166510653)), (3640, np.float64(0.0)), (3641, np.float64(0.049341371149144844)), (3642, np.float64(0.0)), (3643, np.float64(0.0267739776300833)), (3644, np.float64(0.0)), (3645, np.float64(0.02707651805369412)), (3646, np.float64(0.0)), (3647, np.float64(0.0)), (3648, np.float64(0.0)), (3649, np.float64(0.01914598952668709)), (3650, np.float64(0.019480930197663147)), (3651, np.float64(0.031750031750047626)), (3652, np.float64(0.049813548138671795)), (3653, np.float64(0.0582716546748065)), (3654, np.float64(0.06788442333021306)), (3655, np.float64(0.0)), (3656, np.float64(0.0)), (3657, np.float64(0.0)), (3658, np.float64(0.0)), (3659, np.float64(0.0)), (3660, np.float64(0.0)), (3661, np.float64(0.08032193289024989)), (3662, np.float64(0.05415303610738824)), (3663, np.float64(0.017697036260052198)), (3664, np.float64(0.013576884666042613)), (3665, np.float64(0.03522349768381735)), (3666, np.float64(0.05751973085430508)), (3667, np.float64(0.07184212081070997)), (3668, np.float64(0.017697036260052198)), (3669, np.float64(0.028398091712353243)), (3670, np.float64(0.0704469953676347)), (3671, np.float64(0.08216865534971651)), (3672, np.float64(0.027389551783238836)), (3673, np.float64(0.0)), (3674, np.float64(0.037450294313656915)), (3675, np.float64(0.1270001270001905)), (3676, np.float64(0.0445545919354113)), (3677, np.float64(0.06394568344792313)), (3678, np.float64(0.033351867298253506)), (3679, np.float64(0.0)), (3680, np.float64(0.0)), (3681, np.float64(0.0582716546748065)), (3682, np.float64(0.0)), (3683, np.float64(0.0)), (3684, np.float64(0.03522349768381735)), (3685, np.float64(0.083141099321054)), (3686, np.float64(0.0)), (3687, np.float64(0.03394221166510653)), (3688, np.float64(0.0)), (3689, np.float64(0.0)), (3690, np.float64(0.041204282171516456)), (3691, np.float64(0.02875986542715254)), (3692, np.float64(0.06440081861116377)), (3693, np.float64(0.028049635672660722)), (3694, np.float64(0.046373889576016826)), (3695, np.float64(0.0)), (3696, np.float64(0.05029954548278569)), (3697, np.float64(0.05184758473652127)), (3698, np.float64(0.04561979233461597)), (3699, np.float64(0.05477910356647767)), (3700, np.float64(0.05296271413323761)), (3701, np.float64(0.051315800579078544)), (3702, np.float64(0.05239625170622461)), (3703, np.float64(0.023789303403490326)), (3704, np.float64(0.0)), (3705, np.float64(0.0)), (3706, np.float64(0.03456505649101418)), (3707, np.float64(0.0)), (3708, np.float64(0.0)), (3709, np.float64(0.041204282171516456)), (3710, np.float64(0.0)), (3711, np.float64(0.06534102628035482)), (3712, np.float64(0.0)), (3713, np.float64(0.033351867298253506)), (3714, np.float64(0.08032193289024989)), (3715, np.float64(0.05751973085430508)), (3716, np.float64(0.0)), (3717, np.float64(0.0267739776300833)), (3718, np.float64(0.10369516947304254)), (3719, np.float64(0.08712136837380642)), (3720, np.float64(0.05542739954736933)), (3721, np.float64(0.0)), (3722, np.float64(0.06735198826004059)), (3723, np.float64(0.06451612903225808)), (3724, np.float64(0.048001536073731935)), (3725, np.float64(0.028049635672660722)), (3726, np.float64(0.13068205256070964)), (3727, np.float64(0.0)), (3728, np.float64(0.08240856434303291)), (3729, np.float64(0.09433332612731564)), (3730, np.float64(0.0)), (3731, np.float64(0.04490132550669373)), (3732, np.float64(0.055281345539756076)), (3733, np.float64(0.028398091712353243)), (3734, np.float64(0.0)), (3735, np.float64(0.024906774069335898)), (3736, np.float64(0.0)), (3737, np.float64(0.03966817518790096)), (3738, np.float64(0.0)), (3739, np.float64(0.025657900289539272)), (3740, np.float64(0.03666177875533833)), (3741, np.float64(0.0)), (3742, np.float64(0.0)), (3743, np.float64(0.06670373459650701)), (3744, np.float64(0.06160411036336974)), (3745, np.float64(0.029934217004462485)), (3746, np.float64(0.026198125853112306)), (3747, np.float64(0.0)), (3748, np.float64(0.08519427513705972)), (3749, np.float64(0.033351867298253506)), (3750, np.float64(0.0)), (3751, np.float64(0.0)), (3752, np.float64(0.09379580992210838)), (3753, np.float64(0.056796183424706485)), (3754, np.float64(0.0)), (3755, np.float64(0.036854230359837384)), (3756, np.float64(0.04490132550669373)), (3757, np.float64(0.0)), (3758, np.float64(0.030358837035945812)), (3759, np.float64(0.09107651110783743)), (3760, np.float64(0.09600307214746388)), (3761, np.float64(0.0)), (3762, np.float64(0.0885807893036239)), (3763, np.float64(0.0)), (3764, np.float64(0.06451612903225808)), (3765, np.float64(0.03829197905337418)), (3766, np.float64(0.0704469953676347)), (3767, np.float64(0.041204282171516456)), (3768, np.float64(0.13576884666042613)), (3769, np.float64(0.04016096644512494)), (3770, np.float64(0.033351867298253506)), (3771, np.float64(0.032791291789197645)), (3772, np.float64(0.049813548138671795)), (3773, np.float64(0.04356068418690321)), (3774, np.float64(0.06160411036336974)), (3775, np.float64(0.06735198826004059)), (3776, np.float64(0.06451612903225808)), (3777, np.float64(0.03666177875533833)), (3778, np.float64(0.06160411036336974)), (3779, np.float64(0.0)), (3780, np.float64(0.0)), (3781, np.float64(0.0)), (3782, np.float64(0.0)), (3783, np.float64(0.031750031750047626)), (3784, np.float64(0.03829197905337418)), (3785, np.float64(0.0)), (3786, np.float64(0.0)), (3787, np.float64(0.0)), (3788, np.float64(0.030358837035945812)), (3789, np.float64(0.0203362958695521)), (3790, np.float64(0.038961860395326293)), (3791, np.float64(0.06350006350009525)), (3792, np.float64(0.029526929767874632)), (3793, np.float64(0.05029954548278569)), (3794, np.float64(0.03666177875533833)), (3795, np.float64(0.017363099909535037)), (3796, np.float64(0.0)), (3797, np.float64(0.037450294313656915)), (3798, np.float64(0.0181428752857415)), (3799, np.float64(0.07859437755933692)), (3800, np.float64(0.0)), (3801, np.float64(0.0)), (3802, np.float64(0.05986843400892497)), (3803, np.float64(0.08122955416108235)), (3804, np.float64(0.05296271413323761)), (3805, np.float64(0.02358333153182891)), (3806, np.float64(0.06350006350009525)), (3807, np.float64(0.02008048322256247)), (3808, np.float64(0.03187478677582117)), (3809, np.float64(0.029526929767874632)), (3810, np.float64(0.024217973984824143)), (3811, np.float64(0.0)), (3812, np.float64(0.025657900289539272)), (3813, np.float64(0.036854230359837384)), (3814, np.float64(0.029526929767874632)), (3815, np.float64(0.0)), (3816, np.float64(0.0)), (3817, np.float64(0.0)), (3818, np.float64(0.03522349768381735)), (3819, np.float64(0.0)), (3820, np.float64(0.07200230411059791)), (3821, np.float64(0.03126526997403613)), (3822, np.float64(0.0)), (3823, np.float64(0.083141099321054)), (3824, np.float64(0.0)), (3825, np.float64(0.05587260669577024)), (3826, np.float64(0.025149772741392844)), (3827, np.float64(0.046373889576016826)), (3828, np.float64(0.049813548138671795)), (3829, np.float64(0.022450662753346864)), (3830, np.float64(0.08712136837380642)), (3831, np.float64(0.04490132550669373)), (3832, np.float64(0.06913011298202835)), (3833, np.float64(0.0)), (3834, np.float64(0.11359236684941297)), (3835, np.float64(0.0)), (3836, np.float64(0.02707651805369412)), (3837, np.float64(0.11487593716012254)), (3838, np.float64(0.0)), (3839, np.float64(0.03522349768381735)), (3840, np.float64(0.18725147156828456)), (3841, np.float64(0.0508000508000762)), (3842, np.float64(0.0)), (3843, np.float64(0.0)), (3844, np.float64(0.041204282171516456)), (3845, np.float64(0.029934217004462485)), (3846, np.float64(0.07200230411059791)), (3847, np.float64(0.0)), (3848, np.float64(0.0)), (3849, np.float64(0.0)), (3850, np.float64(0.05751973085430508)), (3851, np.float64(0.0535479552601666)), (3852, np.float64(0.09600307214746387)), (3853, np.float64(0.1070959105203332)), (3854, np.float64(0.0)), (3855, np.float64(0.10567049305145204)), (3856, np.float64(0.0)), (3857, np.float64(0.046373889576016826)), (3858, np.float64(0.06253053994807226)), (3859, np.float64(0.03919309008348103)), (3860, np.float64(0.06263607679944926)), (3861, np.float64(0.08032193289024989)), (3862, np.float64(0.056796183424706485)), (3863, np.float64(0.03456505649101418)), (3864, np.float64(0.06451612903225808)), (3865, np.float64(0.0)), (3866, np.float64(0.0)), (3867, np.float64(0.07074999459548673)), (3868, np.float64(0.04490132550669373)), (3869, np.float64(0.0)), (3870, np.float64(0.023789303403490326)), (3871, np.float64(0.02162193750322053)), (3872, np.float64(0.0)), (3873, np.float64(0.0)), (3874, np.float64(0.024000768036865967)), (3875, np.float64(0.03666177875533833)), (3876, np.float64(0.027389551783238836)), (3877, np.float64(0.0986827422982897)), (3878, np.float64(0.06486581250966159)), (3879, np.float64(0.025149772741392844)), (3880, np.float64(0.0)), (3881, np.float64(0.07184212081070997)), (3882, np.float64(0.0)), (3883, np.float64(0.0)), (3884, np.float64(0.037450294313656915)), (3885, np.float64(0.03225806451612904)), (3886, np.float64(0.15554275420956382)), (3887, np.float64(0.046373889576016826)), (3888, np.float64(0.19354838709677422)), (3889, np.float64(0.03829197905337418)), (3890, np.float64(0.0)), (3891, np.float64(0.0)), (3892, np.float64(0.08740748201220976)), (3893, np.float64(0.0)), (3894, np.float64(0.08466675133346034)), (3895, np.float64(0.03349656154508428)), (3896, np.float64(0.0)), (3897, np.float64(0.04888237167378443)), (3898, np.float64(0.0)), (3899, np.float64(0.03592106040535498)), (3900, np.float64(0.027713699773684666)), (3901, np.float64(0.059053859535749265)), (3902, np.float64(0.0)), (3903, np.float64(0.0)), (3904, np.float64(0.05986843400892497)), (3905, np.float64(0.051315800579078544)), (3906, np.float64(0.02194227995205747)), (3907, np.float64(0.0)), (3908, np.float64(0.07472032220800769)), (3909, np.float64(0.0704469953676347)), (3910, np.float64(0.05542739954736933)), (3911, np.float64(0.03942848613438756)), (3912, np.float64(0.0)), (3913, np.float64(0.0582716546748065)), (3914, np.float64(0.0)), (3915, np.float64(0.0)), (3916, np.float64(0.1270001270001905)), (3917, np.float64(0.05986843400892497)), (3918, np.float64(0.025923792368260635)), (3919, np.float64(0.019367337799588276)), (3920, np.float64(0.0)), (3921, np.float64(0.056796183424706485)), (3922, np.float64(0.0)), (3923, np.float64(0.025657900289539272)), (3924, np.float64(0.08980265101338746)), (3925, np.float64(0.0)), (3926, np.float64(0.041204282171516456)), (3927, np.float64(0.0)), (3928, np.float64(0.024906774069335898)), (3929, np.float64(0.03522349768381735)), (3930, np.float64(0.0)), (3931, np.float64(0.06913011298202835)), (3932, np.float64(0.0)), (3933, np.float64(0.0)), (3934, np.float64(0.025657900289539272)), (3935, np.float64(0.0)), (3936, np.float64(0.048001536073731935)), (3937, np.float64(0.03126526997403613)), (3938, np.float64(0.024670685574572422)), (3939, np.float64(0.13912166872805048)), (3940, np.float64(0.0)), (3941, np.float64(0.03456505649101418)), (3942, np.float64(0.026198125853112306)), (3943, np.float64(0.06160411036336974)), (3944, np.float64(0.0704469953676347)), (3945, np.float64(0.05950226278185144)), (3946, np.float64(0.084084842366885)), (3947, np.float64(0.14400460822119582)), (3948, np.float64(0.04716666306365782)), (3949, np.float64(0.050244842317626416)), (3950, np.float64(0.030358837035945812)), (3951, np.float64(0.03080205518168487)), (3952, np.float64(0.0)), (3953, np.float64(0.037450294313656915)), (3954, np.float64(0.0)), (3955, np.float64(0.048001536073731935)), (3956, np.float64(0.02358333153182891)), (3957, np.float64(0.0)), (3958, np.float64(0.0)), (3959, np.float64(0.05810201339876483)), (3960, np.float64(0.0)), (3961, np.float64(0.021466939537054593)), (3962, np.float64(0.037450294313656915)), (3963, np.float64(0.029934217004462485)), (3964, np.float64(0.048001536073731935)), (3965, np.float64(0.03829197905337418)), (3966, np.float64(0.06913011298202835)), (3967, np.float64(0.056796183424706485)), (3968, np.float64(0.046373889576016826)), (3969, np.float64(0.07838618016696206)), (3970, np.float64(0.08032193289024989)), (3971, np.float64(0.11235088294097074)), (3972, np.float64(0.0)), (3973, np.float64(0.0)), (3974, np.float64(0.0)), (3975, np.float64(0.030358837035945812)), (3976, np.float64(0.13912166872805048)), (3977, np.float64(0.0704469953676347)), (3978, np.float64(0.0)), (3979, np.float64(0.06531101891882723)), (3980, np.float64(0.07490058862731383)), (3981, np.float64(0.10369516947304254)), (3982, np.float64(0.0)), (3983, np.float64(0.0)), (3984, np.float64(0.0)), (3985, np.float64(0.06558258357839529)), (3986, np.float64(0.09274777915203365)), (3987, np.float64(0.033351867298253506)), (3988, np.float64(0.0254000254000381)), (3989, np.float64(0.027389551783238836)), (3990, np.float64(0.0254000254000381)), (3991, np.float64(0.02008048322256247)), (3992, np.float64(0.07332355751067667)), (3993, np.float64(0.06451612903225808)), (3994, np.float64(0.0)), (3995, np.float64(0.04676523735449557)), (3996, np.float64(0.0)), (3997, np.float64(0.10005560189476051)), (3998, np.float64(0.04356068418690321)), (3999, np.float64(0.04490132550669373)), (4000, np.float64(0.03873467559917655)), (4001, np.float64(0.06486581250966159)), (4002, np.float64(0.024000768036865967)), (4003, np.float64(0.0)), (4004, np.float64(0.0)), (4005, np.float64(0.05415303610738824)), (4006, np.float64(0.03456505649101418)), (4007, np.float64(0.09107651110783745)), (4008, np.float64(0.21780342093451605)), (4009, np.float64(0.08240856434303291)), (4010, np.float64(0.04599220498182739)), (4011, np.float64(0.0)), (4012, np.float64(0.05184758473652127)), (4013, np.float64(0.05114214254947678)), (4014, np.float64(0.037450294313656915)), (4015, np.float64(0.0)), (4016, np.float64(0.10998533626601499)), (4017, np.float64(0.072571501142966)), (4018, np.float64(0.07658395810674835)), (4019, np.float64(0.0)), (4020, np.float64(0.044215768828538185)), (4021, np.float64(0.0)), (4022, np.float64(0.0)), (4023, np.float64(0.03919309008348103)), (4024, np.float64(0.048001536073731935)), (4025, np.float64(0.0)), (4026, np.float64(0.015401027590842435)), (4027, np.float64(0.0)), (4028, np.float64(0.04016096644512494)), (4029, np.float64(0.02875986542715254)), (4030, np.float64(0.0)), (4031, np.float64(0.0)), (4032, np.float64(0.015813365095036138)), (4033, np.float64(0.0)), (4034, np.float64(0.05184758473652127)), (4035, np.float64(0.0)), (4036, np.float64(0.0)), (4037, np.float64(0.09525009525014287)), (4038, np.float64(0.04356068418690321)), (4039, np.float64(0.048001536073731935)), (4040, np.float64(0.0)), (4041, np.float64(0.0)), (4042, np.float64(0.0)), (4043, np.float64(0.027713699773684666)), (4044, np.float64(0.033351867298253506)), (4045, np.float64(0.05542739954736933)), (4046, np.float64(0.084084842366885)), (4047, np.float64(0.03919309008348103)), (4048, np.float64(0.0)), (4049, np.float64(0.04599220498182739)), (4050, np.float64(0.0)), (4051, np.float64(0.0)), (4052, np.float64(0.07490058862731383)), (4053, np.float64(0.029934217004462485)), (4054, np.float64(0.0)), (4055, np.float64(0.0)), (4056, np.float64(0.0)), (4057, np.float64(0.024217973984824143)), (4058, np.float64(0.0)), (4059, np.float64(0.07332355751067667)), (4060, np.float64(0.049813548138671795)), (4061, np.float64(0.0)), (4062, np.float64(0.024000768036865967)), (4063, np.float64(0.029526929767874632)), (4064, np.float64(0.08240856434303291)), (4065, np.float64(0.10160010160015241)), (4066, np.float64(0.024441185836892216)), (4067, np.float64(0.028398091712353243)), (4068, np.float64(0.07944407119985641)), (4069, np.float64(0.0)), (4070, np.float64(0.0)), (4071, np.float64(0.0)), (4072, np.float64(0.0)), (4073, np.float64(0.0)), (4074, np.float64(0.0)), (4075, np.float64(0.08843153765707638)), (4076, np.float64(0.08740748201220976)), (4077, np.float64(0.02913582733740325)), (4078, np.float64(0.026481357066618805)), (4079, np.float64(0.05184758473652127)), (4080, np.float64(0.0)), (4081, np.float64(0.05296271413323761)), (4082, np.float64(0.07544931822417852)), (4083, np.float64(0.0)), (4084, np.float64(0.0)), (4085, np.float64(0.0)), (4086, np.float64(0.04388455990411494)), (4087, np.float64(0.0)), (4088, np.float64(0.0)), (4089, np.float64(0.033351867298253506)), (4090, np.float64(0.02008048322256247)), (4091, np.float64(0.04356068418690321)), (4092, np.float64(0.03592106040535498)), (4093, np.float64(0.0)), (4094, np.float64(0.026481357066618805)), (4095, np.float64(0.0)), (4096, np.float64(0.0)), (4097, np.float64(0.06558258357839529)), (4098, np.float64(0.041204282171516456)), (4099, np.float64(0.0267739776300833)), (4100, np.float64(0.0)), (4101, np.float64(0.041478067789217005)), (4102, np.float64(0.0)), (4103, np.float64(0.04525628222014204)), (4104, np.float64(0.0)), (4105, np.float64(0.10182663499531959)), (4106, np.float64(0.0)), (4107, np.float64(0.05986843400892497)), (4108, np.float64(0.0)), (4109, np.float64(0.019367337799588276)), (4110, np.float64(0.032791291789197645)), (4111, np.float64(0.0)), (4112, np.float64(0.032791291789197645)), (4113, np.float64(0.0)), (4114, np.float64(0.03187478677582117)), (4115, np.float64(0.10059909096557136)), (4116, np.float64(0.048001536073731935)), (4117, np.float64(0.06670373459650701)), (4118, np.float64(0.06632365324280728)), (4119, np.float64(0.03225806451612904)), (4120, np.float64(0.041204282171516456)), (4121, np.float64(0.05029954548278569)), (4122, np.float64(0.027713699773684666)), (4123, np.float64(0.06160411036336974)), (4124, np.float64(0.056796183424706485)), (4125, np.float64(0.029526929767874632)), (4126, np.float64(0.03919309008348103)), (4127, np.float64(0.032928782085248506)), (4128, np.float64(0.08466675133346034)), (4129, np.float64(0.041204282171516456)), (4130, np.float64(0.07658395810674835)), (4131, np.float64(0.0951572136139613)), (4132, np.float64(0.02913582733740325)), (4133, np.float64(0.11757927025044308)), (4134, np.float64(0.032791291789197645)), (4135, np.float64(0.0)), (4136, np.float64(0.02227729596770565)), (4137, np.float64(0.08980265101338746)), (4138, np.float64(0.04233337566673017)), (4139, np.float64(0.06350006350009525)), (4140, np.float64(0.0)), (4141, np.float64(0.03080205518168487)), (4142, np.float64(0.0)), (4143, np.float64(0.0)), (4144, np.float64(0.11487593716012254)), (4145, np.float64(0.049813548138671795)), (4146, np.float64(0.13538259026847058)), (4147, np.float64(0.0)), (4148, np.float64(0.0)), (4149, np.float64(0.031031069897586944)), (4150, np.float64(0.032791291789197645)), (4151, np.float64(0.05415303610738824)), (4152, np.float64(0.022107884414269093)), (4153, np.float64(0.08122955416108235)), (4154, np.float64(0.0)), (4155, np.float64(0.03919309008348103)), (4156, np.float64(0.07184212081070997)), (4157, np.float64(0.05114214254947678)), (4158, np.float64(0.048435947969648285)), (4159, np.float64(0.018725147156828457)), (4160, np.float64(0.0)), (4161, np.float64(0.024000768036865967)), (4162, np.float64(0.0)), (4163, np.float64(0.04233337566673017)), (4164, np.float64(0.06670373459650701)), (4165, np.float64(0.02875986542715254)), (4166, np.float64(0.027389551783238836)), (4167, np.float64(0.13685937700384793)), (4168, np.float64(0.0)), (4169, np.float64(0.0)), (4170, np.float64(0.02707651805369412)), (4171, np.float64(0.05986843400892497)), (4172, np.float64(0.0)), (4173, np.float64(0.0)), (4174, np.float64(0.025657900289539272)), (4175, np.float64(0.03666177875533833)), (4176, np.float64(0.06788442333021306)), (4177, np.float64(0.0)), (4178, np.float64(0.025657900289539272)), (4179, np.float64(0.04561979233461597)), (4180, np.float64(0.0)), (4181, np.float64(0.0)), (4182, np.float64(0.03592106040535498)), (4183, np.float64(0.07838618016696206)), (4184, np.float64(0.048001536073731935)), (4185, np.float64(0.02707651805369412)), (4186, np.float64(0.0)), (4187, np.float64(0.0)), (4188, np.float64(0.0)), (4189, np.float64(0.03919309008348103)), (4190, np.float64(0.07490058862731383)), (4191, np.float64(0.03225806451612904)), (4192, np.float64(0.049813548138671795)), (4193, np.float64(0.0)), (4194, np.float64(0.06788442333021306)), (4195, np.float64(0.0)), (4196, np.float64(0.07332355751067667)), (4197, np.float64(0.02707651805369412)), (4198, np.float64(0.0)), (4199, np.float64(0.09677419354838711)), (4200, np.float64(0.0)), (4201, np.float64(0.0)), (4202, np.float64(0.0)), (4203, np.float64(0.05542739954736933)), (4204, np.float64(0.03666177875533833)), (4205, np.float64(0.0)), (4206, np.float64(0.033351867298253506)), (4207, np.float64(0.08980265101338746)), (4208, np.float64(0.0)), (4209, np.float64(0.03394221166510653)), (4210, np.float64(0.048001536073731935)), (4211, np.float64(0.0)), (4212, np.float64(0.051315800579078544)), (4213, np.float64(0.0)), (4214, np.float64(0.0)), (4215, np.float64(0.025149772741392844)), (4216, np.float64(0.029934217004462485)), (4217, np.float64(0.04233337566673017)), (4218, np.float64(0.06788442333021306)), (4219, np.float64(0.07531100588381143)), (4220, np.float64(0.0203362958695521)), (4221, np.float64(0.03592106040535498)), (4222, np.float64(0.06350006350009525)), (4223, np.float64(0.06093569155637525)), (4224, np.float64(0.0)), (4225, np.float64(0.024670685574572422)), (4226, np.float64(0.03522349768381735)), (4227, np.float64(0.0)), (4228, np.float64(0.056796183424706485)), (4229, np.float64(0.0)), (4230, np.float64(0.0)), (4231, np.float64(0.0)), (4232, np.float64(0.05751973085430508)), (4233, np.float64(0.03610202407159216)), (4234, np.float64(0.046373889576016826)), (4235, np.float64(0.04757860680698065)), (4236, np.float64(0.05542739954736933)), (4237, np.float64(0.0)), (4238, np.float64(0.051315800579078544)), (4239, np.float64(0.0)), (4240, np.float64(0.08466675133346034)), (4241, np.float64(0.04490132550669373)), (4242, np.float64(0.016260700012185932)), (4243, np.float64(0.04016096644512494)), (4244, np.float64(0.05986843400892497)), (4245, np.float64(0.042630455631948755)), (4246, np.float64(0.0)), (4247, np.float64(0.022107884414269093)), (4248, np.float64(0.0)), (4249, np.float64(0.0)), (4250, np.float64(0.04313979814072881)), (4251, np.float64(0.0)), (4252, np.float64(0.07658395810674835)), (4253, np.float64(0.0)), (4254, np.float64(0.07184212081070997)), (4255, np.float64(0.07838618016696206)), (4256, np.float64(0.03919309008348103)), (4257, np.float64(0.0)), (4258, np.float64(0.0582716546748065)), (4259, np.float64(0.08712136837380642)), (4260, np.float64(0.032791291789197645)), (4261, np.float64(0.0803219328902499)), (4262, np.float64(0.0)), (4263, np.float64(0.02707651805369412)), (4264, np.float64(0.0)), (4265, np.float64(0.022996102490913696)), (4266, np.float64(0.028398091712353243)), (4267, np.float64(0.0)), (4268, np.float64(0.0)), (4269, np.float64(0.0)), (4270, np.float64(0.09837387536759294)), (4271, np.float64(0.10567049305145204)), (4272, np.float64(0.030358837035945812)), (4273, np.float64(0.0)), (4274, np.float64(0.0)), (4275, np.float64(0.022996102490913696)), (4276, np.float64(0.0)), (4277, np.float64(0.06221710168382551)), (4278, np.float64(0.05415303610738824)), (4279, np.float64(0.17424273674761284)), (4280, np.float64(0.0)), (4281, np.float64(0.17038855027411945)), (4282, np.float64(0.04016096644512494)), (4283, np.float64(0.029934217004462485)), (4284, np.float64(0.027389551783238836)), (4285, np.float64(0.0)), (4286, np.float64(0.05184758473652127)), (4287, np.float64(0.025657900289539272)), (4288, np.float64(0.02875986542715254)), (4289, np.float64(0.03126526997403613)), (4290, np.float64(0.07658395810674835)), (4291, np.float64(0.0)), (4292, np.float64(0.0)), (4293, np.float64(0.06350006350009525)), (4294, np.float64(0.0)), (4295, np.float64(0.029526929767874632)), (4296, np.float64(0.06350006350009525)), (4297, np.float64(0.03522349768381735)), (4298, np.float64(0.041204282171516456)), (4299, np.float64(0.0535479552601666)), (4300, np.float64(0.0)), (4301, np.float64(0.06558258357839529)), (4302, np.float64(0.02913582733740325)), (4303, np.float64(0.03829197905337418)), (4304, np.float64(0.0)), (4305, np.float64(0.0)), (4306, np.float64(0.0)), (4307, np.float64(0.0)), (4308, np.float64(0.07658395810674835)), (4309, np.float64(0.05986843400892497)), (4310, np.float64(0.042933879074109185)), (4311, np.float64(0.029526929767874632)), (4312, np.float64(0.0)), (4313, np.float64(0.03126526997403613)), (4314, np.float64(0.06350006350009525)), (4315, np.float64(0.11359236684941297)), (4316, np.float64(0.0582716546748065)), (4317, np.float64(0.024906774069335898)), (4318, np.float64(0.04016096644512494)), (4319, np.float64(0.0701107309399492)), (4320, np.float64(0.06788442333021306)), (4321, np.float64(0.0)), (4322, np.float64(0.0)), (4323, np.float64(0.05751973085430508)), (4324, np.float64(0.0)), (4325, np.float64(0.025657900289539272)), (4326, np.float64(0.0)), (4327, np.float64(0.0)), (4328, np.float64(0.0)), (4329, np.float64(0.0)), (4330, np.float64(0.08466675133346034)), (4331, np.float64(0.06913011298202835)), (4332, np.float64(0.0)), (4333, np.float64(0.0)), (4334, np.float64(0.0)), (4335, np.float64(0.024670685574572422)), (4336, np.float64(0.0)), (4337, np.float64(0.0)), (4338, np.float64(0.0)), (4339, np.float64(0.029934217004462485)), (4340, np.float64(0.024217973984824143)), (4341, np.float64(0.08627959628145762)), (4342, np.float64(0.0)), (4343, np.float64(0.07472032220800769)), (4344, np.float64(0.0)), (4345, np.float64(0.0)), (4346, np.float64(0.0)), (4347, np.float64(0.03394221166510653)), (4348, np.float64(0.09962709627734359)), (4349, np.float64(0.0)), (4350, np.float64(0.0535479552601666)), (4351, np.float64(0.03666177875533833)), (4352, np.float64(0.027389551783238836)), (4353, np.float64(0.09962709627734359)), (4354, np.float64(0.0)), (4355, np.float64(0.1408939907352694)), (4356, np.float64(0.05542739954736933)), (4357, np.float64(0.10369516947304254)), (4358, np.float64(0.0)), (4359, np.float64(0.02358333153182891)), (4360, np.float64(0.026198125853112306)), (4361, np.float64(0.0)), (4362, np.float64(0.046373889576016826)), (4363, np.float64(0.0)), (4364, np.float64(0.02262814111007102)), (4365, np.float64(0.048001536073731935)), (4366, np.float64(0.05477910356647767)), (4367, np.float64(0.0)), (4368, np.float64(0.0)), (4369, np.float64(0.02913582733740325)), (4370, np.float64(0.0)), (4371, np.float64(0.026198125853112306)), (4372, np.float64(0.07777137710478191)), (4373, np.float64(0.0)), (4374, np.float64(0.08627959628145762)), (4375, np.float64(0.0)), (4376, np.float64(0.024906774069335898)), (4377, np.float64(0.030358837035945812)), (4378, np.float64(0.04356068418690321)), (4379, np.float64(0.0)), (4380, np.float64(0.0)), (4381, np.float64(0.024441185836892216)), (4382, np.float64(0.022107884414269093)), (4383, np.float64(0.0)), (4384, np.float64(0.024441185836892216)), (4385, np.float64(0.0)), (4386, np.float64(0.06558258357839529)), (4387, np.float64(0.01914598952668709)), (4388, np.float64(0.04016096644512494)), (4389, np.float64(0.03080205518168487)), (4390, np.float64(0.04233337566673017)), (4391, np.float64(0.0)), (4392, np.float64(0.07544931822417852)), (4393, np.float64(0.0)), (4394, np.float64(0.0)), (4395, np.float64(0.049813548138671795)), (4396, np.float64(0.031750031750047626)), (4397, np.float64(0.0)), (4398, np.float64(0.0508000508000762)), (4399, np.float64(0.20320020320030482)), (4400, np.float64(0.04356068418690321)), (4401, np.float64(0.0)), (4402, np.float64(0.0)), (4403, np.float64(0.03592106040535498)), (4404, np.float64(0.0)), (4405, np.float64(0.31108550841912763)), (4406, np.float64(0.1250610798961445)), (4407, np.float64(0.08712136837380642)), (4408, np.float64(0.0)), (4409, np.float64(0.05986843400892497)), (4410, np.float64(0.0)), (4411, np.float64(0.04233337566673017)), (4412, np.float64(0.08240856434303291)), (4413, np.float64(0.025657900289539272)), (4414, np.float64(0.037450294313656915)), (4415, np.float64(0.0)), (4416, np.float64(0.0)), (4417, np.float64(0.0)), (4418, np.float64(0.0)), (4419, np.float64(0.0)), (4420, np.float64(0.0)), (4421, np.float64(0.07490058862731383)), (4422, np.float64(0.027713699773684666)), (4423, np.float64(0.0)), (4424, np.float64(0.0)), (4425, np.float64(0.0267739776300833)), (4426, np.float64(0.0)), (4427, np.float64(0.024670685574572422)), (4428, np.float64(0.0)), (4429, np.float64(0.06140377126253595)), (4430, np.float64(0.021315227815974377)), (4431, np.float64(0.0)), (4432, np.float64(0.023382618677247786)), (4433, np.float64(0.0)), (4434, np.float64(0.07184212081070997)), (4435, np.float64(0.0)), (4436, np.float64(0.0704469953676347)), (4437, np.float64(0.0)), (4438, np.float64(0.02875986542715254)), (4439, np.float64(0.0)), (4440, np.float64(0.0)), (4441, np.float64(0.0)), (4442, np.float64(0.0)), (4443, np.float64(0.04016096644512494)), (4444, np.float64(0.0)), (4445, np.float64(0.06451612903225808)), (4446, np.float64(0.05239625170622461)), (4447, np.float64(0.0)), (4448, np.float64(0.032928782085248506)), (4449, np.float64(0.046373889576016826)), (4450, np.float64(0.028049635672660722)), (4451, np.float64(0.07472032220800769)), (4452, np.float64(0.03225806451612904)), (4453, np.float64(0.0919844099636548)), (4454, np.float64(0.0)), (4455, np.float64(0.033351867298253506)), (4456, np.float64(0.032791291789197645)), (4457, np.float64(0.04490132550669373)), (4458, np.float64(0.05415303610738824)), (4459, np.float64(0.0)), (4460, np.float64(0.0)), (4461, np.float64(0.0)), (4462, np.float64(0.0)), (4463, np.float64(0.16064386578049977)), (4464, np.float64(0.0)), (4465, np.float64(0.0)), (4466, np.float64(0.02162193750322053)), (4467, np.float64(0.09525009525014287)), (4468, np.float64(0.06160411036336974)), (4469, np.float64(0.0)), (4470, np.float64(0.03522349768381735)), (4471, np.float64(0.0420424211834425)), (4472, np.float64(0.14368424162141993)), (4473, np.float64(0.08712136837380642)), (4474, np.float64(0.16064386578049977)), (4475, np.float64(0.031750031750047626)), (4476, np.float64(0.0)), (4477, np.float64(0.04233337566673017)), (4478, np.float64(0.0)), (4479, np.float64(0.0)), (4480, np.float64(0.0)), (4481, np.float64(0.031750031750047626)), (4482, np.float64(0.0)), (4483, np.float64(0.026198125853112306)), (4484, np.float64(0.023186944788008413)), (4485, np.float64(0.0)), (4486, np.float64(0.037450294313656915)), (4487, np.float64(0.024217973984824143)), (4488, np.float64(0.0)), (4489, np.float64(0.0)), (4490, np.float64(0.14664711502135333)), (4491, np.float64(0.03456505649101418)), (4492, np.float64(0.0)), (4493, np.float64(0.0)), (4494, np.float64(0.0)), (4495, np.float64(0.0)), (4496, np.float64(0.0)), (4497, np.float64(0.037450294313656915)), (4498, np.float64(0.05542739954736933)), (4499, np.float64(0.0)), (4500, np.float64(0.0)), (4501, np.float64(0.023789303403490326)), (4502, np.float64(0.10369516947304254)), (4503, np.float64(0.0)), (4504, np.float64(0.0)), (4505, np.float64(0.032791291789197645)), (4506, np.float64(0.022107884414269093)), (4507, np.float64(0.0)), (4508, np.float64(0.05296271413323761)), (4509, np.float64(0.0)), (4510, np.float64(0.028398091712353243)), (4511, np.float64(0.0)), (4512, np.float64(0.0)), (4513, np.float64(0.018932061141568826)), (4514, np.float64(0.0)), (4515, np.float64(0.0)), (4516, np.float64(0.0)), (4517, np.float64(0.0)), (4518, np.float64(0.032388929412563196)), (4519, np.float64(0.05542739954736933)), (4520, np.float64(0.024000768036865967)), (4521, np.float64(0.07184212081070997)), (4522, np.float64(0.015344716515310683)), (4523, np.float64(0.05296271413323761)), (4524, np.float64(0.0)), (4525, np.float64(0.049341371149144844)), (4526, np.float64(0.0)), (4527, np.float64(0.0535479552601666)), (4528, np.float64(0.0)), (4529, np.float64(0.013898275539462891)), (4530, np.float64(0.056099271345321444)), (4531, np.float64(0.0)), (4532, np.float64(0.018524872445114315)), (4533, np.float64(0.056796183424706485)), (4534, np.float64(0.0)), (4535, np.float64(0.037450294313656915)), (4536, np.float64(0.0)), (4537, np.float64(0.0)), (4538, np.float64(0.05029954548278569)), (4539, np.float64(0.03919309008348103)), (4540, np.float64(0.05986843400892497)), (4541, np.float64(0.025657900289539272)), (4542, np.float64(0.041204282171516456)), (4543, np.float64(0.030358837035945812)), (4544, np.float64(0.0)), (4545, np.float64(0.021166687833365085)), (4546, np.float64(0.05296271413323761)), (4547, np.float64(0.05986843400892497)), (4548, np.float64(0.04356068418690321)), (4549, np.float64(0.07944407119985641)), (4550, np.float64(0.0)), (4551, np.float64(0.0)), (4552, np.float64(0.09123958466923195)), (4553, np.float64(0.0)), (4554, np.float64(0.0)), (4555, np.float64(0.08980265101338746)), (4556, np.float64(0.1270001270001905)), (4557, np.float64(0.0)), (4558, np.float64(0.0406725917391042)), (4559, np.float64(0.1250610798961445)), (4560, np.float64(0.0)), (4561, np.float64(0.12048289933537483)), (4562, np.float64(0.049813548138671795)), (4563, np.float64(0.09274777915203365)), (4564, np.float64(0.032521400024371865)), (4565, np.float64(0.13576884666042613)), (4566, np.float64(0.025923792368260635)), (4567, np.float64(0.08980265101338746)), (4568, np.float64(0.06350006350009525)), (4569, np.float64(0.0)), (4570, np.float64(0.032791291789197645)), (4571, np.float64(0.046373889576016826)), (4572, np.float64(0.041204282171516456)), (4573, np.float64(0.037655502941905714)), (4574, np.float64(0.05986843400892497)), (4575, np.float64(0.0254000254000381)), (4576, np.float64(0.0)), (4577, np.float64(0.06451612903225808)), (4578, np.float64(0.0)), (4579, np.float64(0.03522349768381735)), (4580, np.float64(0.0)), (4581, np.float64(0.019480930197663147)), (4582, np.float64(0.048001536073731935)), (4583, np.float64(0.030358837035945812)), (4584, np.float64(0.0)), (4585, np.float64(0.04233337566673017)), (4586, np.float64(0.048001536073731935)), (4587, np.float64(0.0)), (4588, np.float64(0.059053859535749265)), (4589, np.float64(0.026481357066618805)), (4590, np.float64(0.031750031750047626)), (4591, np.float64(0.021315227815974377)), (4592, np.float64(0.0)), (4593, np.float64(0.0)), (4594, np.float64(0.0)), (4595, np.float64(0.0)), (4596, np.float64(0.023789303403490326)), (4597, np.float64(0.0)), (4598, np.float64(0.0)), (4599, np.float64(0.02194227995205747)), (4600, np.float64(0.0)), (4601, np.float64(0.05986843400892497)), (4602, np.float64(0.0)), (4603, np.float64(0.037450294313656915)), (4604, np.float64(0.029526929767874632)), (4605, np.float64(0.09274777915203365)), (4606, np.float64(0.04599220498182739)), (4607, np.float64(0.05239625170622461)), (4608, np.float64(0.041204282171516456)), (4609, np.float64(0.05296271413323761)), (4610, np.float64(0.0)), (4611, np.float64(0.020602141085758228)), (4612, np.float64(0.04676523735449557)), (4613, np.float64(0.032791291789197645)), (4614, np.float64(0.0)), (4615, np.float64(0.0)), (4616, np.float64(0.0)), (4617, np.float64(0.0)), (4618, np.float64(0.0)), (4619, np.float64(0.0)), (4620, np.float64(0.05415303610738824)), (4621, np.float64(0.07658395810674835)), (4622, np.float64(0.07184212081070997)), (4623, np.float64(0.056796183424706485)), (4624, np.float64(0.0)), (4625, np.float64(0.1496710850223124)), (4626, np.float64(0.0445545919354113)), (4627, np.float64(0.0)), (4628, np.float64(0.03225806451612904)), (4629, np.float64(0.018932061141568826)), (4630, np.float64(0.0)), (4631, np.float64(0.03829197905337418)), (4632, np.float64(0.0)), (4633, np.float64(0.02875986542715254)), (4634, np.float64(0.08712136837380642)), (4635, np.float64(0.1270001270001905)), (4636, np.float64(0.0)), (4637, np.float64(0.07838618016696206)), (4638, np.float64(0.02046792375417865)), (4639, np.float64(0.0535479552601666)), (4640, np.float64(0.1796053020267749)), (4641, np.float64(0.0)), (4642, np.float64(0.046373889576016826)), (4643, np.float64(0.027389551783238836)), (4644, np.float64(0.04016096644512494)), (4645, np.float64(0.0)), (4646, np.float64(0.0)), (4647, np.float64(0.041478067789217005)), (4648, np.float64(0.03126526997403613)), (4649, np.float64(0.0)), (4650, np.float64(0.0)), (4651, np.float64(0.0)), (4652, np.float64(0.0)), (4653, np.float64(0.0)), (4654, np.float64(0.0)), (4655, np.float64(0.021466939537054593)), (4656, np.float64(0.05986843400892497)), (4657, np.float64(0.0)), (4658, np.float64(0.0)), (4659, np.float64(0.04233337566673017)), (4660, np.float64(0.0)), (4661, np.float64(0.022996102490913696)), (4662, np.float64(0.0)), (4663, np.float64(0.03394221166510653)), (4664, np.float64(0.030358837035945812)), (4665, np.float64(0.03522349768381735)), (4666, np.float64(0.09107651110783743)), (4667, np.float64(0.0)), (4668, np.float64(0.06350006350009525)), (4669, np.float64(0.0203362958695521)), (4670, np.float64(0.06253053994807226)), (4671, np.float64(0.0254000254000381)), (4672, np.float64(0.06558258357839529)), (4673, np.float64(0.049813548138671795)), (4674, np.float64(0.029934217004462485)), (4675, np.float64(0.06253053994807226)), (4676, np.float64(0.0)), (4677, np.float64(0.0)), (4678, np.float64(0.0)), (4679, np.float64(0.06558258357839529)), (4680, np.float64(0.0)), (4681, np.float64(0.0)), (4682, np.float64(0.0)), (4683, np.float64(0.041204282171516456)), (4684, np.float64(0.0)), (4685, np.float64(0.032791291789197645)), (4686, np.float64(0.0)), (4687, np.float64(0.0)), (4688, np.float64(0.0)), (4689, np.float64(0.026481357066618805)), (4690, np.float64(0.0582716546748065)), (4691, np.float64(0.0)), (4692, np.float64(0.033351867298253506)), (4693, np.float64(0.024670685574572422)), (4694, np.float64(0.0445545919354113)), (4695, np.float64(0.0)), (4696, np.float64(0.0)), (4697, np.float64(0.037450294313656915)), (4698, np.float64(0.06160411036336974)), (4699, np.float64(0.03592106040535498)), (4700, np.float64(0.0)), (4701, np.float64(0.0)), (4702, np.float64(0.0)), (4703, np.float64(0.0704469953676347)), (4704, np.float64(0.0)), (4705, np.float64(0.012513694346387128)), (4706, np.float64(0.0)), (4707, np.float64(0.0)), (4708, np.float64(0.0)), (4709, np.float64(0.0)), (4710, np.float64(0.08351476906593235)), (4711, np.float64(0.10059909096557137)), (4712, np.float64(0.0)), (4713, np.float64(0.0)), (4714, np.float64(0.0)), (4715, np.float64(0.0)), (4716, np.float64(0.03666177875533833)), (4717, np.float64(0.0)), (4718, np.float64(0.0)), (4719, np.float64(0.031750031750047626)), (4720, np.float64(0.059053859535749265)), (4721, np.float64(0.0)), (4722, np.float64(0.0)), (4723, np.float64(0.05415303610738824)), (4724, np.float64(0.041204282171516456)), (4725, np.float64(0.0)), (4726, np.float64(0.0)), (4727, np.float64(0.02162193750322053)), (4728, np.float64(0.022809896167307987)), (4729, np.float64(0.0508000508000762)), (4730, np.float64(0.03080205518168487)), (4731, np.float64(0.04757860680698065)), (4732, np.float64(0.11487593716012254)), (4733, np.float64(0.026699913926291223)), (4734, np.float64(0.0)), (4735, np.float64(0.0)), (4736, np.float64(0.13912166872805048)), (4737, np.float64(0.0)), (4738, np.float64(0.0)), (4739, np.float64(0.0)), (4740, np.float64(0.0)), (4741, np.float64(0.04490132550669373)), (4742, np.float64(0.032521400024371865)), (4743, np.float64(0.0)), (4744, np.float64(0.06670373459650701)), (4745, np.float64(0.04233337566673017)), (4746, np.float64(0.04356068418690321)), (4747, np.float64(0.0)), (4748, np.float64(0.0)), (4749, np.float64(0.08980265101338746)), (4750, np.float64(0.04676523735449557)), (4751, np.float64(0.06558258357839529)), (4752, np.float64(0.056796183424706485)), (4753, np.float64(0.06350006350009525)), (4754, np.float64(0.0582716546748065)), (4755, np.float64(0.03829197905337418)), (4756, np.float64(0.05184758473652127)), (4757, np.float64(0.04490132550669373)), (4758, np.float64(0.0)), (4759, np.float64(0.0)), (4760, np.float64(0.0)), (4761, np.float64(0.01914598952668709)), (4762, np.float64(0.048001536073731935)), (4763, np.float64(0.046373889576016826)), (4764, np.float64(0.0)), (4765, np.float64(0.03807624787725668)), (4766, np.float64(0.0)), (4767, np.float64(0.027389551783238836)), (4768, np.float64(0.0)), (4769, np.float64(0.0)), (4770, np.float64(0.0)), (4771, np.float64(0.05296271413323761)), (4772, np.float64(0.09837387536759294)), (4773, np.float64(0.0)), (4774, np.float64(0.15632634987018063)), (4775, np.float64(0.041204282171516456)), (4776, np.float64(0.0)), (4777, np.float64(0.06670373459650701)), (4778, np.float64(0.03456505649101418)), (4779, np.float64(0.03942848613438756)), (4780, np.float64(0.06451612903225808)), (4781, np.float64(0.028398091712353243)), (4782, np.float64(0.0)), (4783, np.float64(0.048001536073731935)), (4784, np.float64(0.04356068418690321)), (4785, np.float64(0.0)), (4786, np.float64(0.04356068418690321)), (4787, np.float64(0.0)), (4788, np.float64(0.04490132550669373)), (4789, np.float64(0.0)), (4790, np.float64(0.031750031750047626)), (4791, np.float64(0.0)), (4792, np.float64(0.0)), (4793, np.float64(0.0)), (4794, np.float64(0.0)), (4795, np.float64(0.0)), (4796, np.float64(0.04356068418690321)), (4797, np.float64(0.0)), (4798, np.float64(0.02913582733740325)), (4799, np.float64(0.0)), (4800, np.float64(0.042630455631948755)), (4801, np.float64(0.05184758473652127)), (4802, np.float64(0.049813548138671795)), (4803, np.float64(0.025657900289539272)), (4804, np.float64(0.027389551783238836))]\n"
     ]
    }
   ],
   "source": [
    "l = list(enumerate(similarity[745]))\n",
    "print(l)"
   ]
  },
  {
   "cell_type": "code",
   "execution_count": 249,
   "metadata": {},
   "outputs": [],
   "source": [
    "def recommend(movie):\n",
    "    index = new_df[new_df['title'] == movie].index[0]\n",
    "    distances = sorted(list(enumerate(similarity[index])),reverse=True,key = lambda x: x[1])\n",
    "    for i in distances[1:6]:\n",
    "        print(new_df.iloc[i[0]].title)"
   ]
  },
  {
   "cell_type": "code",
   "execution_count": 250,
   "metadata": {},
   "outputs": [
    {
     "name": "stdout",
     "output_type": "stream",
     "text": [
      "Spider-Man 3\n",
      "Spider-Man\n",
      "The Amazing Spider-Man\n",
      "Iron Man 2\n",
      "Superman\n"
     ]
    }
   ],
   "source": [
    "recommend('Spider-Man 2')"
   ]
  },
  {
   "cell_type": "code",
   "execution_count": 251,
   "metadata": {},
   "outputs": [],
   "source": [
    "import pickle"
   ]
  },
  {
   "cell_type": "code",
   "execution_count": 252,
   "metadata": {},
   "outputs": [],
   "source": [
    "# AFTER\n",
    "pickle.dump(new_df.to_dict(), open('models/movie_dict.pkl','wb'))\n",
    "pickle.dump(similarity,open('models/similarity.pkl','wb'))"
   ]
  },
  {
   "cell_type": "code",
   "execution_count": null,
   "metadata": {},
   "outputs": [],
   "source": []
  }
 ],
 "metadata": {
  "kernelspec": {
   "display_name": "venv (3.12.7)",
   "language": "python",
   "name": "python3"
  },
  "language_info": {
   "codemirror_mode": {
    "name": "ipython",
    "version": 3
   },
   "file_extension": ".py",
   "mimetype": "text/x-python",
   "name": "python",
   "nbconvert_exporter": "python",
   "pygments_lexer": "ipython3",
   "version": "3.12.7"
  }
 },
 "nbformat": 4,
 "nbformat_minor": 4
}
